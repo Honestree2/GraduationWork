{
 "cells": [
  {
   "cell_type": "markdown",
   "metadata": {},
   "source": [
    "# DATA SHAPE\n",
    "### x_train (nd.array) : (20,39) => 원래 (20,3,13) 인데 인풋 넣으려고 1차원으로 reshape할 거. 20은 라벨 개수"
   ]
  },
  {
   "cell_type": "markdown",
   "metadata": {},
   "source": [
    "## 기본변수설정"
   ]
  },
  {
   "cell_type": "code",
   "execution_count": 1,
   "metadata": {},
   "outputs": [],
   "source": [
    "loc_list = []\n",
    "\n",
    "location_vertical = ['1','2','3','4']\n",
    "location_horizontal = ['1','2','3','4','5']\n",
    "\n",
    "for horizontal in location_horizontal:\n",
    "    \n",
    "    for vertical in location_vertical:\n",
    "        loc = horizontal + '-' + vertical\n",
    "        loc_list.append(loc)"
   ]
  },
  {
   "cell_type": "markdown",
   "metadata": {},
   "source": [
    "#### pickle 모듈로 저장한 학습데이터 불러오기"
   ]
  },
  {
   "cell_type": "code",
   "execution_count": 2,
   "metadata": {},
   "outputs": [
    {
     "name": "stdout",
     "output_type": "stream",
     "text": [
      "x_train # 0\n",
      "x_train # 1\n",
      "x_train # 2\n",
      "x_train # 3\n",
      "x_train # 4\n",
      "x_train # 5\n",
      "x_train # 6\n",
      "x_train # 7\n",
      "x_train # 8\n",
      "x_train # 9\n",
      "x_train # 10\n",
      "x_train # 11\n",
      "x_train # 12\n",
      "x_train # 13\n",
      "x_train # 14\n",
      "x_train # 15\n",
      "x_train # 16\n",
      "x_train # 17\n",
      "x_train # 18\n",
      "x_train # 19\n"
     ]
    }
   ],
   "source": [
    "import pickle\n",
    "\n",
    "#path_ = '/content/gdrive/My Drive/Colab Notebooks/졸업작품/' # 생성한 학습데이터(pickle 파일)들 담겨진 폴더 경로\n",
    "\n",
    "x_train = []\n",
    "\n",
    "for i in range(20):\n",
    "\n",
    "    filename = 'x_train_' + str(i) + '.p'\n",
    "  \n",
    "    print('x_train #',str(i))\n",
    "  \n",
    "    with open(filename, 'rb') as file:\n",
    "      \n",
    "        x_train.append(pickle.load(file)[:10000]) # 원래 100만개씩 생성했는데 너무 커서 10만개만"
   ]
  },
  {
   "cell_type": "markdown",
   "metadata": {},
   "source": [
    "#### 라벨링 함수 (사실 사이킷런 모듈에 있는 라벨링 함수 쓰면 되긴함)"
   ]
  },
  {
   "cell_type": "code",
   "execution_count": 3,
   "metadata": {},
   "outputs": [
    {
     "data": {
      "text/plain": [
       "[0, 0, 1, 0, 0, 0, 0, 0, 0, 0, 0, 0, 0, 0, 0, 0, 0, 0, 0, 0]"
      ]
     },
     "execution_count": 3,
     "metadata": {},
     "output_type": "execute_result"
    }
   ],
   "source": [
    "import numpy as np\n",
    "\n",
    "def labeling(label, class_num = 20):\n",
    "    \n",
    "    label_ = np.zeros(class_num).astype(int)\n",
    "    \n",
    "    label_[label - 1] = 1\n",
    "    \n",
    "    return list(label_)\n",
    "\n",
    "labeling(3)"
   ]
  },
  {
   "cell_type": "code",
   "execution_count": 4,
   "metadata": {},
   "outputs": [
    {
     "data": {
      "text/plain": [
       "[1, 2, 3, 4, 5, 6, 7, 8, 9, 10, 11, 12, 13, 14, 15, 16, 17, 18, 19, 20]"
      ]
     },
     "execution_count": 4,
     "metadata": {},
     "output_type": "execute_result"
    }
   ],
   "source": [
    "label_list = list(range(1,len(loc_list)+1))\n",
    "label_list"
   ]
  },
  {
   "cell_type": "markdown",
   "metadata": {},
   "source": [
    "#### 생성한 데이터 개수만큼 라벨(y_train) 데이터 만들기 "
   ]
  },
  {
   "cell_type": "code",
   "execution_count": 5,
   "metadata": {},
   "outputs": [
    {
     "name": "stdout",
     "output_type": "stream",
     "text": [
      "labeling # 1\n",
      "labeling # 2\n",
      "labeling # 3\n",
      "labeling # 4\n",
      "labeling # 5\n",
      "labeling # 6\n",
      "labeling # 7\n",
      "labeling # 8\n",
      "labeling # 9\n",
      "labeling # 10\n",
      "labeling # 11\n",
      "labeling # 12\n",
      "labeling # 13\n",
      "labeling # 14\n",
      "labeling # 15\n",
      "labeling # 16\n",
      "labeling # 17\n",
      "labeling # 18\n",
      "labeling # 19\n",
      "labeling # 20\n"
     ]
    }
   ],
   "source": [
    "y_train = []\n",
    "\n",
    "for label in label_list:\n",
    "    \n",
    "    print('labeling #',label)\n",
    "    \n",
    "    tmp = []\n",
    "    \n",
    "    for i in range(10000): # 위치마다 10만개씩 데이터 생성했으니까 range 10만\n",
    "        \n",
    "        tmp.append(labeling(label))\n",
    "        \n",
    "    y_train.append(tmp)"
   ]
  },
  {
   "cell_type": "code",
   "execution_count": 6,
   "metadata": {},
   "outputs": [
    {
     "data": {
      "text/plain": [
       "(20, 10000, 20)"
      ]
     },
     "execution_count": 6,
     "metadata": {},
     "output_type": "execute_result"
    }
   ],
   "source": [
    "np.array(y_train).shape"
   ]
  },
  {
   "cell_type": "markdown",
   "metadata": {},
   "source": [
    "#### train data reshaping"
   ]
  },
  {
   "cell_type": "code",
   "execution_count": 7,
   "metadata": {},
   "outputs": [],
   "source": [
    "x_train = np.array(x_train).reshape(200000, 3, 13)"
   ]
  },
  {
   "cell_type": "code",
   "execution_count": 8,
   "metadata": {},
   "outputs": [],
   "source": [
    "x_train_united = x_train.reshape(200000, 39)"
   ]
  },
  {
   "cell_type": "code",
   "execution_count": 9,
   "metadata": {},
   "outputs": [],
   "source": [
    "y_train = np.array(y_train).reshape(200000, 20)"
   ]
  },
  {
   "cell_type": "code",
   "execution_count": 11,
   "metadata": {},
   "outputs": [
    {
     "data": {
      "text/plain": [
       "array([[-59.88, -60.31, -63.14, ..., -63.4 , -66.61, -60.99],\n",
       "       [-57.19, -68.09, -64.75, ..., -60.01, -64.05, -62.75],\n",
       "       [-75.42, -71.69, -75.3 , ..., -43.68, -48.76, -50.06],\n",
       "       ...,\n",
       "       [-80.29, -79.37, -71.63, ..., -65.28, -63.4 , -69.68],\n",
       "       [-65.91, -72.66, -78.86, ..., -74.71, -71.94, -68.14],\n",
       "       [-80.77, -70.47, -74.73, ..., -62.22, -68.95, -73.59]])"
      ]
     },
     "execution_count": 11,
     "metadata": {},
     "output_type": "execute_result"
    }
   ],
   "source": [
    "x_train_united"
   ]
  },
  {
   "cell_type": "markdown",
   "metadata": {},
   "source": [
    "#### data shuffle"
   ]
  },
  {
   "cell_type": "code",
   "execution_count": 13,
   "metadata": {},
   "outputs": [],
   "source": [
    "import random\n",
    "\n",
    "combine = list(zip(x_train_united, y_train))\n",
    "\n",
    "random.shuffle(combine)\n",
    "\n",
    "x_train_united, y_train = zip(*combine)\n",
    "\n",
    "x_train_united = np.array(x_train_united)\n",
    "\n",
    "y_train = np.array(y_train)"
   ]
  },
  {
   "cell_type": "markdown",
   "metadata": {},
   "source": [
    "## 모델링"
   ]
  },
  {
   "cell_type": "markdown",
   "metadata": {},
   "source": [
    "#### 단순 DNN"
   ]
  },
  {
   "cell_type": "code",
   "execution_count": 13,
   "metadata": {},
   "outputs": [],
   "source": [
    "from keras import models\n",
    "from keras import layers\n",
    "from keras.layers import Dropout\n",
    "from keras.optimizers import Adam\n",
    "\n",
    "%matplotlib inline\n",
    "import matplotlib.pyplot as plt\n",
    "\n",
    "def build_model():\n",
    "    model = models.Sequential()\n",
    "    model.add(layers.Dense(64, activation='elu',\n",
    "                           input_shape=(39,)))\n",
    "    model.add(Dropout(0.3))\n",
    "    model.add(layers.Dense(64, activation='elu'))\n",
    "    model.add(Dropout(0.3))\n",
    "    model.add(layers.Dense(20, activation = 'softmax'))\n",
    "    model.compile(optimizer = 'Rmsprop', loss='categorical_crossentropy', metrics=['accuracy'])\n",
    "    return model\n",
    "\n"
   ]
  },
  {
   "cell_type": "code",
   "execution_count": 14,
   "metadata": {},
   "outputs": [
    {
     "name": "stderr",
     "output_type": "stream",
     "text": [
      "WARNING: Logging before flag parsing goes to stderr.\n",
      "W1015 16:13:39.144315  1836 deprecation_wrapper.py:119] From C:\\Users\\ParkHyunMok\\Anaconda3\\envs\\Myworld\\lib\\site-packages\\keras\\backend\\tensorflow_backend.py:74: The name tf.get_default_graph is deprecated. Please use tf.compat.v1.get_default_graph instead.\n",
      "\n",
      "W1015 16:13:39.197857  1836 deprecation_wrapper.py:119] From C:\\Users\\ParkHyunMok\\Anaconda3\\envs\\Myworld\\lib\\site-packages\\keras\\backend\\tensorflow_backend.py:517: The name tf.placeholder is deprecated. Please use tf.compat.v1.placeholder instead.\n",
      "\n",
      "W1015 16:13:39.211836  1836 deprecation_wrapper.py:119] From C:\\Users\\ParkHyunMok\\Anaconda3\\envs\\Myworld\\lib\\site-packages\\keras\\backend\\tensorflow_backend.py:4138: The name tf.random_uniform is deprecated. Please use tf.random.uniform instead.\n",
      "\n",
      "W1015 16:13:39.265396  1836 deprecation_wrapper.py:119] From C:\\Users\\ParkHyunMok\\Anaconda3\\envs\\Myworld\\lib\\site-packages\\keras\\backend\\tensorflow_backend.py:133: The name tf.placeholder_with_default is deprecated. Please use tf.compat.v1.placeholder_with_default instead.\n",
      "\n",
      "W1015 16:13:39.285366  1836 deprecation.py:506] From C:\\Users\\ParkHyunMok\\Anaconda3\\envs\\Myworld\\lib\\site-packages\\keras\\backend\\tensorflow_backend.py:3445: calling dropout (from tensorflow.python.ops.nn_ops) with keep_prob is deprecated and will be removed in a future version.\n",
      "Instructions for updating:\n",
      "Please use `rate` instead of `keep_prob`. Rate should be set to `rate = 1 - keep_prob`.\n",
      "W1015 16:13:39.443208  1836 deprecation_wrapper.py:119] From C:\\Users\\ParkHyunMok\\Anaconda3\\envs\\Myworld\\lib\\site-packages\\keras\\optimizers.py:790: The name tf.train.Optimizer is deprecated. Please use tf.compat.v1.train.Optimizer instead.\n",
      "\n",
      "W1015 16:13:39.614398  1836 deprecation_wrapper.py:119] From C:\\Users\\ParkHyunMok\\Anaconda3\\envs\\Myworld\\lib\\site-packages\\keras\\backend\\tensorflow_backend.py:3295: The name tf.log is deprecated. Please use tf.math.log instead.\n",
      "\n"
     ]
    },
    {
     "name": "stdout",
     "output_type": "stream",
     "text": [
      "_________________________________________________________________\n",
      "Layer (type)                 Output Shape              Param #   \n",
      "=================================================================\n",
      "dense_1 (Dense)              (None, 64)                2560      \n",
      "_________________________________________________________________\n",
      "dropout_1 (Dropout)          (None, 64)                0         \n",
      "_________________________________________________________________\n",
      "dense_2 (Dense)              (None, 64)                4160      \n",
      "_________________________________________________________________\n",
      "dropout_2 (Dropout)          (None, 64)                0         \n",
      "_________________________________________________________________\n",
      "dense_3 (Dense)              (None, 20)                1300      \n",
      "=================================================================\n",
      "Total params: 8,020\n",
      "Trainable params: 8,020\n",
      "Non-trainable params: 0\n",
      "_________________________________________________________________\n"
     ]
    }
   ],
   "source": [
    "model = build_model()\n",
    "model.summary()"
   ]
  },
  {
   "cell_type": "markdown",
   "metadata": {},
   "source": [
    "#### 위에서 전처리한 x_train_united 와 y_train 으로 학습\n",
    "\n",
    "##### 정확도 처음에 커지다가 epochs 3 지나면 줄어듦.. lr 조절해야 할듯"
   ]
  },
  {
   "cell_type": "code",
   "execution_count": 21,
   "metadata": {},
   "outputs": [
    {
     "name": "stdout",
     "output_type": "stream",
     "text": [
      "Train on 160000 samples, validate on 40000 samples\n",
      "Epoch 1/30\n",
      "160000/160000 [==============================] - 18s 114us/step - loss: 0.1862 - acc: 0.9474 - val_loss: 0.0408 - val_acc: 0.9869\n",
      "Epoch 2/30\n",
      "160000/160000 [==============================] - 23s 143us/step - loss: 0.1862 - acc: 0.9481 - val_loss: 0.0685 - val_acc: 0.9792\n",
      "Epoch 3/30\n",
      "160000/160000 [==============================] - 20s 127us/step - loss: 0.1845 - acc: 0.9486 - val_loss: 0.0493 - val_acc: 0.9858\n",
      "Epoch 4/30\n",
      "160000/160000 [==============================] - 21s 131us/step - loss: 0.1818 - acc: 0.9500 - val_loss: 0.0722 - val_acc: 0.9773\n",
      "Epoch 5/30\n",
      "160000/160000 [==============================] - 21s 130us/step - loss: 0.1810 - acc: 0.9496 - val_loss: 0.0449 - val_acc: 0.9855\n",
      "Epoch 6/30\n",
      "160000/160000 [==============================] - 20s 125us/step - loss: 0.1818 - acc: 0.9495 - val_loss: 0.0565 - val_acc: 0.9826\n",
      "Epoch 7/30\n",
      "160000/160000 [==============================] - 19s 121us/step - loss: 0.1833 - acc: 0.9501 - val_loss: 0.0471 - val_acc: 0.9850\n",
      "Epoch 8/30\n",
      "160000/160000 [==============================] - 18s 114us/step - loss: 0.1807 - acc: 0.9497 - val_loss: 0.0497 - val_acc: 0.9839\n",
      "Epoch 9/30\n",
      "160000/160000 [==============================] - 20s 127us/step - loss: 0.1854 - acc: 0.9489 - val_loss: 0.0473 - val_acc: 0.9853\n",
      "Epoch 10/30\n",
      "160000/160000 [==============================] - 19s 119us/step - loss: 0.1800 - acc: 0.9501 - val_loss: 0.0558 - val_acc: 0.9843\n",
      "Epoch 11/30\n",
      "160000/160000 [==============================] - 17s 104us/step - loss: 0.1785 - acc: 0.9506 - val_loss: 0.0645 - val_acc: 0.9810\n",
      "Epoch 12/30\n",
      "160000/160000 [==============================] - 20s 126us/step - loss: 0.1801 - acc: 0.9504 - val_loss: 0.0525 - val_acc: 0.9827\n",
      "Epoch 13/30\n",
      "160000/160000 [==============================] - 21s 133us/step - loss: 0.1802 - acc: 0.9509 - val_loss: 0.0450 - val_acc: 0.9863\n",
      "Epoch 14/30\n",
      "160000/160000 [==============================] - 20s 126us/step - loss: 0.1794 - acc: 0.9507 - val_loss: 0.0550 - val_acc: 0.9821\n",
      "Epoch 15/30\n",
      "160000/160000 [==============================] - 20s 124us/step - loss: 0.1843 - acc: 0.9502 - val_loss: 0.0498 - val_acc: 0.9835\n",
      "Epoch 16/30\n",
      "160000/160000 [==============================] - 22s 137us/step - loss: 0.1821 - acc: 0.9503 - val_loss: 0.0835 - val_acc: 0.9744\n",
      "Epoch 17/30\n",
      "160000/160000 [==============================] - 19s 121us/step - loss: 0.1799 - acc: 0.9511 - val_loss: 0.0595 - val_acc: 0.9840\n",
      "Epoch 18/30\n",
      "160000/160000 [==============================] - 19s 121us/step - loss: 0.1810 - acc: 0.9510 - val_loss: 0.0479 - val_acc: 0.9852\n",
      "Epoch 19/30\n",
      "160000/160000 [==============================] - 23s 145us/step - loss: 0.1808 - acc: 0.9511 - val_loss: 0.0480 - val_acc: 0.9842\n",
      "Epoch 20/30\n",
      "160000/160000 [==============================] - 23s 142us/step - loss: 0.1796 - acc: 0.9512 - val_loss: 0.0454 - val_acc: 0.9868\n",
      "Epoch 21/30\n",
      "160000/160000 [==============================] - 21s 132us/step - loss: 0.1833 - acc: 0.9512 - val_loss: 0.0461 - val_acc: 0.9851\n",
      "Epoch 22/30\n",
      "160000/160000 [==============================] - 22s 135us/step - loss: 0.1829 - acc: 0.9511 - val_loss: 0.0670 - val_acc: 0.9801\n",
      "Epoch 23/30\n",
      "160000/160000 [==============================] - 25s 154us/step - loss: 0.1841 - acc: 0.9510 - val_loss: 0.0381 - val_acc: 0.9881\n",
      "Epoch 24/30\n",
      "160000/160000 [==============================] - 24s 150us/step - loss: 0.1796 - acc: 0.9519 - val_loss: 0.0626 - val_acc: 0.9798\n",
      "Epoch 25/30\n",
      "160000/160000 [==============================] - 21s 130us/step - loss: 0.1803 - acc: 0.9511 - val_loss: 0.0432 - val_acc: 0.9872\n",
      "Epoch 26/30\n",
      "160000/160000 [==============================] - 19s 119us/step - loss: 0.1787 - acc: 0.9513 - val_loss: 0.0509 - val_acc: 0.9851\n",
      "Epoch 27/30\n",
      "160000/160000 [==============================] - 21s 130us/step - loss: 0.1817 - acc: 0.9516 - val_loss: 0.0506 - val_acc: 0.9846\n",
      "Epoch 28/30\n",
      "160000/160000 [==============================] - 19s 118us/step - loss: 0.1812 - acc: 0.9523 - val_loss: 0.0519 - val_acc: 0.9846\n",
      "Epoch 29/30\n",
      "160000/160000 [==============================] - 17s 109us/step - loss: 0.1810 - acc: 0.9522 - val_loss: 0.0418 - val_acc: 0.9878\n",
      "Epoch 30/30\n",
      "160000/160000 [==============================] - 17s 107us/step - loss: 0.1789 - acc: 0.9522 - val_loss: 0.0461 - val_acc: 0.9858\n"
     ]
    }
   ],
   "source": [
    "hist = model.fit(x_train_united, y_train, epochs=30, batch_size=64, validation_split=0.2)"
   ]
  }
 ],
 "metadata": {
  "kernelspec": {
   "display_name": "Python 3",
   "language": "python",
   "name": "python3"
  },
  "language_info": {
   "codemirror_mode": {
    "name": "ipython",
    "version": 3
   },
   "file_extension": ".py",
   "mimetype": "text/x-python",
   "name": "python",
   "nbconvert_exporter": "python",
   "pygments_lexer": "ipython3",
   "version": "3.7.4"
  }
 },
 "nbformat": 4,
 "nbformat_minor": 2
}
