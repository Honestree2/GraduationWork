{
 "cells": [
  {
   "cell_type": "code",
   "execution_count": 1,
   "metadata": {},
   "outputs": [],
   "source": [
    "import pandas as pd\n",
    "import numpy as np\n",
    "import matplotlib.pyplot as plt\n",
    "import seaborn as sns"
   ]
  },
  {
   "cell_type": "code",
   "execution_count": 2,
   "metadata": {},
   "outputs": [],
   "source": [
    "receiver = ['1','2','3']\n",
    "location_vertical = ['1','2','3','4']\n",
    "location_horizontal = ['1','2','3','4','5']\n",
    "ch_list = list(range(1,14))"
   ]
  },
  {
   "cell_type": "code",
   "execution_count": 3,
   "metadata": {
    "scrolled": true
   },
   "outputs": [
    {
     "data": {
      "text/plain": [
       "['1-1',\n",
       " '1-2',\n",
       " '1-3',\n",
       " '1-4',\n",
       " '2-1',\n",
       " '2-2',\n",
       " '2-3',\n",
       " '2-4',\n",
       " '3-1',\n",
       " '3-2',\n",
       " '3-3',\n",
       " '3-4',\n",
       " '4-1',\n",
       " '4-2',\n",
       " '4-3',\n",
       " '4-4',\n",
       " '5-1',\n",
       " '5-2',\n",
       " '5-3',\n",
       " '5-4']"
      ]
     },
     "execution_count": 3,
     "metadata": {},
     "output_type": "execute_result"
    }
   ],
   "source": [
    "ch_list = list(range(1,14))\n",
    "loc_list = []\n",
    "for horizontal in location_horizontal:\n",
    "    \n",
    "    for vertical in location_vertical:\n",
    "        loc = horizontal + '-' + vertical\n",
    "        loc_list.append(loc)\n",
    "        \n",
    "df_1 = pd.DataFrame(columns = loc_list, index = ch_list)\n",
    "df_2 = pd.DataFrame(columns = loc_list, index = ch_list)\n",
    "df_3 = pd.DataFrame(columns = loc_list, index = ch_list)\n",
    "loc_list"
   ]
  },
  {
   "cell_type": "code",
   "execution_count": 4,
   "metadata": {
    "scrolled": true
   },
   "outputs": [
    {
     "name": "stdout",
     "output_type": "stream",
     "text": [
      "\n",
      "수신기 :  1\n",
      "\n",
      "\n",
      "수신기 :  2\n",
      "\n",
      "\n",
      "수신기 :  3\n",
      "\n"
     ]
    }
   ],
   "source": [
    "for Rx in receiver:\n",
    "    \n",
    "    #print('')\n",
    "    #print('수신기 : ', Rx)\n",
    "    #print('')\n",
    "    \n",
    "    for horizontal in location_horizontal:\n",
    "        \n",
    "        for vertical in location_vertical:\n",
    "            \n",
    "            loc = horizontal + '-' + vertical\n",
    "            #print('위치: ', loc)\n",
    "            #print('')\n",
    "            \n",
    "            path = Rx + '-' + horizontal + '-' + vertical\n",
    "            data_list = ['(channel)','(rssi)']\n",
    "            \n",
    "            for data in data_list:\n",
    "                \n",
    "                filename = path+data+'.txt'\n",
    "                \n",
    "                if data == '(channel)':\n",
    "                    \n",
    "                    f = open(filename, 'r')\n",
    "                    line = f.readline()[1:-1]\n",
    "                    channel = line.split(',')\n",
    "                    channel = np.array(channel).astype(int)\n",
    "                    \n",
    "                    #print('채널 리스트 : ',channel)\n",
    "                    #print('')\n",
    "                    \n",
    "                else:\n",
    "                    \n",
    "                    f = open(filename, 'r')\n",
    "                    line = f.readline()[1:-1]\n",
    "                    rssi = line.split(',')\n",
    "                    rssi = np.array(rssi).astype(int)\n",
    "                    \n",
    "                    #print('Rssi 리스트 : ',rssi)\n",
    "                    #print('')\n",
    "                \n",
    "            sorting = [[],[],[],[],[],[],[],[],[],[],[],[],[]]\n",
    "            \n",
    "            index = 0\n",
    "            for ch in channel:\n",
    "                \n",
    "                sorting[ch - 1].append(rssi[index])\n",
    "                index += 1\n",
    "                \n",
    "            #print(sorting)\n",
    "            \n",
    "            if Rx == '1':\n",
    "                df_1[loc] = sorting\n",
    "                \n",
    "            elif Rx == '2':\n",
    "                df_2[loc] = sorting\n",
    "                \n",
    "            elif Rx == '3':\n",
    "                df_3[loc] = sorting"
   ]
  },
  {
   "cell_type": "markdown",
   "metadata": {},
   "source": [
    "## 위치 col-row 에서 각 수신기의 채널별 데이터 개수 및 평균 rssi값"
   ]
  },
  {
   "cell_type": "code",
   "execution_count": 5,
   "metadata": {},
   "outputs": [],
   "source": [
    "def val(col, row): # ex : 1-1 5-4 3-3 등등\n",
    "    \n",
    "    loc = str(col) + '-' + str(row)\n",
    "    ch_list = list(range(1,14))\n",
    "    rssi1 = []\n",
    "    rssi2 = []\n",
    "    rssi3 = []\n",
    "    \n",
    "    print('Rx3')\n",
    "    \n",
    "    for ch in ch_list:\n",
    "        \n",
    "        print('')\n",
    "        rssi_list = df_3[loc][ch]\n",
    "        num = len(rssi_list)\n",
    "        mean = round(np.array(rssi_list).mean(),2)\n",
    "        print('ch',ch)\n",
    "        print(' 데이터 개수 : ', num,' 평균 rssi값 : ', mean)\n",
    "        rssi3.append(mean)\n",
    "\n",
    "    print('Rx1')\n",
    "    \n",
    "    for ch in ch_list:\n",
    "        \n",
    "        print('')\n",
    "        rssi_list = df_1[loc][ch]\n",
    "        num = len(rssi_list)\n",
    "        mean = round(np.array(rssi_list).mean(),2)\n",
    "        print('ch',ch)\n",
    "        print(' 데이터 개수 : ', num,' 평균 rssi값 : ', mean)\n",
    "        rssi1.append(mean)\n",
    "\n",
    "    print('Rx2')\n",
    "    \n",
    "    for ch in ch_list:\n",
    "        \n",
    "        print('')\n",
    "        rssi_list = df_2[loc][ch]\n",
    "        num = len(rssi_list)\n",
    "        mean = round(np.array(rssi_list).mean(),2)\n",
    "        print('ch',ch)\n",
    "        print(' 데이터 개수 : ', num,' 평균 rssi값 : ', mean)\n",
    "\n",
    "        rssi2.append(mean)\n",
    "\n",
    "    plt.figure()\n",
    "    plt.plot(rssi3, label = 'Rx3')\n",
    "    plt.plot(rssi1, label = 'Rx1')\n",
    "    plt.plot(rssi2, label = 'Rx2')\n",
    "    plt.title(loc)\n",
    "    plt.legend()\n",
    "    plt.show()"
   ]
  },
  {
   "cell_type": "markdown",
   "metadata": {},
   "source": [
    "## Rx3의 각 위치별, 채널별 rssi값 plot"
   ]
  },
  {
   "cell_type": "markdown",
   "metadata": {
    "scrolled": true
   },
   "source": [
    "for loc in loc_list:\n",
    "    \n",
    "    fig = plt.figure(figsize = (30, 3))\n",
    "    \n",
    "    for ch in ch_list:\n",
    "\n",
    "        rssi_ch = fig.add_subplot(1, len(ch_list), ch)\n",
    "        title = loc + '[' + str(ch) + ']' \n",
    "        rssi_ch.title.set_text(title)\n",
    "        rssi_ch.plot(df_3[loc][ch])\n",
    "    \n",
    "    if(loc == \"1-1\"):\n",
    "        plt.show()\n",
    "        \n",
    "#plt.show()"
   ]
  },
  {
   "cell_type": "markdown",
   "metadata": {},
   "source": [
    "## Rx1의 각 위치별, 채널별 rssi값 plot"
   ]
  },
  {
   "cell_type": "markdown",
   "metadata": {
    "scrolled": true
   },
   "source": [
    "for loc in loc_list:\n",
    "    \n",
    "    fig = plt.figure(figsize = (30, 3))\n",
    "    \n",
    "    for ch in ch_list:\n",
    "\n",
    "        rssi_ch = fig.add_subplot(1, len(ch_list), ch)\n",
    "        title = loc + '[' + str(ch) + ']' \n",
    "        rssi_ch.title.set_text(title)\n",
    "        rssi_ch.plot(df_1[loc][ch])\n",
    "        \n",
    "plt.show()"
   ]
  },
  {
   "cell_type": "markdown",
   "metadata": {},
   "source": [
    "## Rx2의 각 위치별, 채널별 rssi값 plot"
   ]
  },
  {
   "cell_type": "markdown",
   "metadata": {
    "scrolled": true
   },
   "source": [
    "for loc in loc_list:\n",
    "    \n",
    "    fig = plt.figure(figsize = (30, 3))\n",
    "    \n",
    "    for ch in ch_list:\n",
    "\n",
    "        rssi_ch = fig.add_subplot(1, len(ch_list), ch)\n",
    "        title = loc + '[' + str(ch) + ']' \n",
    "        rssi_ch.title.set_text(title)\n",
    "        rssi_ch.plot(df_2[loc][ch])\n",
    "        \n",
    "plt.show()"
   ]
  },
  {
   "cell_type": "markdown",
   "metadata": {
    "scrolled": false
   },
   "source": [
    "for loc in loc_list:\n",
    "    \n",
    "    fig = plt.figure(figsize = (30, 3))\n",
    "    \n",
    "    for ch in ch_list:\n",
    "\n",
    "        rssi_ch = fig.add_subplot(1, len(ch_list), ch)\n",
    "        title = loc + '[' + str(ch) + ']' \n",
    "        rssi_ch.title.set_text(title)\n",
    "        rssi_ch = sns.distplot(df_3[loc][ch], rug = True, hist = True)\n",
    "        \n",
    "plt.show()"
   ]
  },
  {
   "cell_type": "markdown",
   "metadata": {
    "scrolled": false
   },
   "source": [
    "for loc in loc_list:\n",
    "    \n",
    "    fig = plt.figure(figsize = (30, 3))\n",
    "    \n",
    "    for ch in ch_list:\n",
    "\n",
    "        rssi_ch = fig.add_subplot(1, len(ch_list), ch)\n",
    "        title = loc + '[' + str(ch) + ']' \n",
    "        rssi_ch.title.set_text(title)\n",
    "        rssi_ch = sns.distplot(df_1[loc][ch], rug = True, hist = True)\n",
    "        \n",
    "plt.show()"
   ]
  },
  {
   "cell_type": "markdown",
   "metadata": {
    "scrolled": false
   },
   "source": [
    "for loc in loc_list:\n",
    "    \n",
    "    fig = plt.figure(figsize = (30, 3))\n",
    "    \n",
    "    for ch in ch_list:\n",
    "\n",
    "        rssi_ch = fig.add_subplot(1, len(ch_list), ch)\n",
    "        title = loc + '[' + str(ch) + ']' \n",
    "        rssi_ch.title.set_text(title)\n",
    "        rssi_ch = sns.distplot(df_2[loc][ch], rug = True, hist = True)\n",
    "        \n",
    "plt.show()"
   ]
  },
  {
   "cell_type": "markdown",
   "metadata": {},
   "source": [
    "## data augmentation\n",
    "각 데이터 정규분포 가정 1000000개씩"
   ]
  },
  {
   "cell_type": "code",
   "execution_count": 7,
   "metadata": {
    "scrolled": true
   },
   "outputs": [
    {
     "name": "stdout",
     "output_type": "stream",
     "text": [
      "수신기 : Rx 3\n",
      "수신기 : Rx 1\n",
      "수신기 : Rx 2\n"
     ]
    }
   ],
   "source": [
    "np.random.seed(100)\n",
    "\n",
    "df_1_aug = pd.DataFrame(columns = loc_list, index = ch_list)\n",
    "df_2_aug = pd.DataFrame(columns = loc_list, index = ch_list)\n",
    "df_3_aug = pd.DataFrame(columns = loc_list, index = ch_list)\n",
    "\n",
    "\n",
    "rx_list = ['3','1','2']\n",
    "\n",
    "for rx in rx_list:\n",
    "    print('수신기 : Rx',rx)\n",
    "    if rx == '3':\n",
    "        for loc in loc_list:\n",
    "            #print('위치 : ',loc)\n",
    "            for ch in ch_list:\n",
    "                array = np.array(df_3[loc][ch])\n",
    "                mean = round(array.mean(), 2)\n",
    "                std = round(array.std(), 2)\n",
    "                rand_norm = np.round(np.random.normal(mean, std, size=10000),2)\n",
    "\n",
    "#                 print('채널 : ', ch)\n",
    "#                 plt.figure()\n",
    "#                 sns.distplot(df_3[loc][ch])\n",
    "#                 sns.distplot(rand_norm)\n",
    "#                 plt.show()\n",
    "\n",
    "                df_3_aug[loc][ch] = rand_norm\n",
    "                \n",
    "    elif rx == '1':\n",
    "        for loc in loc_list:\n",
    "            #print('위치 : ',loc)\n",
    "            for ch in ch_list:\n",
    "                array = np.array(df_1[loc][ch])\n",
    "                mean = round(array.mean(), 2)\n",
    "                std = round(array.std(), 2)\n",
    "                rand_norm = np.round(np.random.normal(mean, std, size=10000),2)\n",
    "\n",
    "#                 print('채널 : ', ch)\n",
    "#                 plt.figure()\n",
    "#                 sns.distplot(df_1[loc][ch])\n",
    "#                 sns.distplot(rand_norm)\n",
    "#                 plt.show()\n",
    "\n",
    "                df_1_aug[loc][ch] = rand_norm\n",
    "            \n",
    "    elif rx == '2':\n",
    "        for loc in loc_list:\n",
    "            #print('위치 : ',loc)\n",
    "            for ch in ch_list:\n",
    "                array = np.array(df_2[loc][ch])\n",
    "                mean = round(array.mean(), 2)\n",
    "                std = round(array.std(), 2)\n",
    "                rand_norm = np.round(np.random.normal(mean, std, size=10000),2)\n",
    "\n",
    "#                 print('채널 : ', ch)\n",
    "#                 plt.figure()\n",
    "#                 sns.distplot(df_2[loc][ch])\n",
    "#                 sns.distplot(rand_norm)\n",
    "#                 plt.show()\n",
    "\n",
    "                df_2_aug[loc][ch] = rand_norm"
   ]
  },
  {
   "cell_type": "code",
   "execution_count": 8,
   "metadata": {},
   "outputs": [
    {
     "data": {
      "text/plain": [
       "\"\\nwith open('df_n_aug.p', 'rb') as file:\\n    df_1_aug = pickle.load(file)\\n    df_2_aug = pickle.load(file)\\n    df_3_aug = pickle.load(file)\\n\""
      ]
     },
     "execution_count": 8,
     "metadata": {},
     "output_type": "execute_result"
    }
   ],
   "source": [
    "import pickle\n",
    "\n",
    "with open('df_n_aug.p', 'wb') as file:\n",
    "    pickle.dump(df_1_aug, file)\n",
    "    pickle.dump(df_2_aug, file)\n",
    "    pickle.dump(df_3_aug, file)\n",
    "    \n",
    "# 나중에 파일에서 변수 읽어올때\n",
    "\n",
    "'''\n",
    "with open('df_n_aug.p', 'rb') as file:\n",
    "    df_1_aug = pickle.load(file)\n",
    "    df_2_aug = pickle.load(file)\n",
    "    df_3_aug = pickle.load(file)\n",
    "'''\n"
   ]
  },
  {
   "cell_type": "markdown",
   "metadata": {},
   "source": [
    "## x_train 만들기\n",
    "각 수신기에서 채널별 rssi값(13개)으로 이루어진 데이터 (3,13) shape"
   ]
  },
  {
   "cell_type": "code",
   "execution_count": 9,
   "metadata": {},
   "outputs": [],
   "source": [
    "def make_input(list_all): # 수신기, 위치 넣으면 그 위치 나타내는 input data (13,) shape 만들기\n",
    "    \n",
    "    x_input = [] # 결과적으로 shape : (1000000, 13)\n",
    "    num = len(list_all[1]) # 1000000\n",
    "    \n",
    "    for ch in ch_list:\n",
    "        \n",
    "#         print('채널 : ', ch)\n",
    "        \n",
    "        if ch == 1:\n",
    "\n",
    "            for i in range(num):\n",
    "\n",
    "                x_input.append([list_all[ch][i]])\n",
    "\n",
    "        else:\n",
    "\n",
    "            for i in range(num):\n",
    "\n",
    "                x_input[i].append(list_all[ch][i])\n",
    "               \n",
    "    #         print(x_input[-1])\n",
    "\n",
    "        \n",
    "    return np.array(x_input)\n",
    "# shape : (1000000, 13)"
   ]
  },
  {
   "cell_type": "code",
   "execution_count": 10,
   "metadata": {
    "scrolled": true
   },
   "outputs": [
    {
     "name": "stdout",
     "output_type": "stream",
     "text": [
      "위치 :  1-1\n",
      "make_input done!\n",
      "위치 :  1-2\n",
      "make_input done!\n",
      "위치 :  1-3\n",
      "make_input done!\n",
      "위치 :  1-4\n",
      "make_input done!\n",
      "위치 :  2-1\n"
     ]
    },
    {
     "ename": "KeyboardInterrupt",
     "evalue": "",
     "output_type": "error",
     "traceback": [
      "\u001b[1;31m---------------------------------------------------------------------------\u001b[0m",
      "\u001b[1;31mKeyboardInterrupt\u001b[0m                         Traceback (most recent call last)",
      "\u001b[1;32m<ipython-input-10-6a1d43c59c35>\u001b[0m in \u001b[0;36m<module>\u001b[1;34m\u001b[0m\n\u001b[0;32m      9\u001b[0m     \u001b[0mx_train_1\u001b[0m \u001b[1;33m=\u001b[0m \u001b[0mmake_input\u001b[0m\u001b[1;33m(\u001b[0m\u001b[0mdf_1_aug\u001b[0m\u001b[1;33m[\u001b[0m\u001b[0mloc\u001b[0m\u001b[1;33m]\u001b[0m\u001b[1;33m)\u001b[0m \u001b[1;31m# (1000000, 13)\u001b[0m\u001b[1;33m\u001b[0m\u001b[1;33m\u001b[0m\u001b[0m\n\u001b[0;32m     10\u001b[0m     \u001b[0mx_train_2\u001b[0m \u001b[1;33m=\u001b[0m \u001b[0mmake_input\u001b[0m\u001b[1;33m(\u001b[0m\u001b[0mdf_2_aug\u001b[0m\u001b[1;33m[\u001b[0m\u001b[0mloc\u001b[0m\u001b[1;33m]\u001b[0m\u001b[1;33m)\u001b[0m \u001b[1;31m# (1000000, 13)\u001b[0m\u001b[1;33m\u001b[0m\u001b[1;33m\u001b[0m\u001b[0m\n\u001b[1;32m---> 11\u001b[1;33m     \u001b[0mx_train_3\u001b[0m \u001b[1;33m=\u001b[0m \u001b[0mmake_input\u001b[0m\u001b[1;33m(\u001b[0m\u001b[0mdf_3_aug\u001b[0m\u001b[1;33m[\u001b[0m\u001b[0mloc\u001b[0m\u001b[1;33m]\u001b[0m\u001b[1;33m)\u001b[0m \u001b[1;31m# (1000000, 13)\u001b[0m\u001b[1;33m\u001b[0m\u001b[1;33m\u001b[0m\u001b[0m\n\u001b[0m\u001b[0;32m     12\u001b[0m \u001b[1;33m\u001b[0m\u001b[0m\n\u001b[0;32m     13\u001b[0m     \u001b[0mprint\u001b[0m\u001b[1;33m(\u001b[0m\u001b[1;34m'make_input done!'\u001b[0m\u001b[1;33m)\u001b[0m\u001b[1;33m\u001b[0m\u001b[1;33m\u001b[0m\u001b[0m\n",
      "\u001b[1;32m<ipython-input-9-0f1a09db4e1b>\u001b[0m in \u001b[0;36mmake_input\u001b[1;34m(list_all)\u001b[0m\n\u001b[0;32m     18\u001b[0m             \u001b[1;32mfor\u001b[0m \u001b[0mi\u001b[0m \u001b[1;32min\u001b[0m \u001b[0mrange\u001b[0m\u001b[1;33m(\u001b[0m\u001b[0mnum\u001b[0m\u001b[1;33m)\u001b[0m\u001b[1;33m:\u001b[0m\u001b[1;33m\u001b[0m\u001b[1;33m\u001b[0m\u001b[0m\n\u001b[0;32m     19\u001b[0m \u001b[1;33m\u001b[0m\u001b[0m\n\u001b[1;32m---> 20\u001b[1;33m                 \u001b[0mx_input\u001b[0m\u001b[1;33m[\u001b[0m\u001b[0mi\u001b[0m\u001b[1;33m]\u001b[0m\u001b[1;33m.\u001b[0m\u001b[0mappend\u001b[0m\u001b[1;33m(\u001b[0m\u001b[0mlist_all\u001b[0m\u001b[1;33m[\u001b[0m\u001b[0mch\u001b[0m\u001b[1;33m]\u001b[0m\u001b[1;33m[\u001b[0m\u001b[0mi\u001b[0m\u001b[1;33m]\u001b[0m\u001b[1;33m)\u001b[0m\u001b[1;33m\u001b[0m\u001b[1;33m\u001b[0m\u001b[0m\n\u001b[0m\u001b[0;32m     21\u001b[0m \u001b[1;33m\u001b[0m\u001b[0m\n\u001b[0;32m     22\u001b[0m     \u001b[1;31m#         print(x_input[-1])\u001b[0m\u001b[1;33m\u001b[0m\u001b[1;33m\u001b[0m\u001b[1;33m\u001b[0m\u001b[0m\n",
      "\u001b[1;32m~\\Anaconda3\\envs\\Myworld\\lib\\site-packages\\pandas\\core\\series.py\u001b[0m in \u001b[0;36m__getitem__\u001b[1;34m(self, key)\u001b[0m\n\u001b[0;32m   1066\u001b[0m         \u001b[0mkey\u001b[0m \u001b[1;33m=\u001b[0m \u001b[0mcom\u001b[0m\u001b[1;33m.\u001b[0m\u001b[0mapply_if_callable\u001b[0m\u001b[1;33m(\u001b[0m\u001b[0mkey\u001b[0m\u001b[1;33m,\u001b[0m \u001b[0mself\u001b[0m\u001b[1;33m)\u001b[0m\u001b[1;33m\u001b[0m\u001b[1;33m\u001b[0m\u001b[0m\n\u001b[0;32m   1067\u001b[0m         \u001b[1;32mtry\u001b[0m\u001b[1;33m:\u001b[0m\u001b[1;33m\u001b[0m\u001b[1;33m\u001b[0m\u001b[0m\n\u001b[1;32m-> 1068\u001b[1;33m             \u001b[0mresult\u001b[0m \u001b[1;33m=\u001b[0m \u001b[0mself\u001b[0m\u001b[1;33m.\u001b[0m\u001b[0mindex\u001b[0m\u001b[1;33m.\u001b[0m\u001b[0mget_value\u001b[0m\u001b[1;33m(\u001b[0m\u001b[0mself\u001b[0m\u001b[1;33m,\u001b[0m \u001b[0mkey\u001b[0m\u001b[1;33m)\u001b[0m\u001b[1;33m\u001b[0m\u001b[1;33m\u001b[0m\u001b[0m\n\u001b[0m\u001b[0;32m   1069\u001b[0m \u001b[1;33m\u001b[0m\u001b[0m\n\u001b[0;32m   1070\u001b[0m             \u001b[1;32mif\u001b[0m \u001b[1;32mnot\u001b[0m \u001b[0mis_scalar\u001b[0m\u001b[1;33m(\u001b[0m\u001b[0mresult\u001b[0m\u001b[1;33m)\u001b[0m\u001b[1;33m:\u001b[0m\u001b[1;33m\u001b[0m\u001b[1;33m\u001b[0m\u001b[0m\n",
      "\u001b[1;32m~\\Anaconda3\\envs\\Myworld\\lib\\site-packages\\pandas\\core\\indexes\\base.py\u001b[0m in \u001b[0;36mget_value\u001b[1;34m(self, series, key)\u001b[0m\n\u001b[0;32m   4726\u001b[0m         \u001b[0mk\u001b[0m \u001b[1;33m=\u001b[0m \u001b[0mcom\u001b[0m\u001b[1;33m.\u001b[0m\u001b[0mvalues_from_object\u001b[0m\u001b[1;33m(\u001b[0m\u001b[0mkey\u001b[0m\u001b[1;33m)\u001b[0m\u001b[1;33m\u001b[0m\u001b[1;33m\u001b[0m\u001b[0m\n\u001b[0;32m   4727\u001b[0m \u001b[1;33m\u001b[0m\u001b[0m\n\u001b[1;32m-> 4728\u001b[1;33m         \u001b[0mk\u001b[0m \u001b[1;33m=\u001b[0m \u001b[0mself\u001b[0m\u001b[1;33m.\u001b[0m\u001b[0m_convert_scalar_indexer\u001b[0m\u001b[1;33m(\u001b[0m\u001b[0mk\u001b[0m\u001b[1;33m,\u001b[0m \u001b[0mkind\u001b[0m\u001b[1;33m=\u001b[0m\u001b[1;34m\"getitem\"\u001b[0m\u001b[1;33m)\u001b[0m\u001b[1;33m\u001b[0m\u001b[1;33m\u001b[0m\u001b[0m\n\u001b[0m\u001b[0;32m   4729\u001b[0m         \u001b[1;32mtry\u001b[0m\u001b[1;33m:\u001b[0m\u001b[1;33m\u001b[0m\u001b[1;33m\u001b[0m\u001b[0m\n\u001b[0;32m   4730\u001b[0m             \u001b[1;32mreturn\u001b[0m \u001b[0mself\u001b[0m\u001b[1;33m.\u001b[0m\u001b[0m_engine\u001b[0m\u001b[1;33m.\u001b[0m\u001b[0mget_value\u001b[0m\u001b[1;33m(\u001b[0m\u001b[0ms\u001b[0m\u001b[1;33m,\u001b[0m \u001b[0mk\u001b[0m\u001b[1;33m,\u001b[0m \u001b[0mtz\u001b[0m\u001b[1;33m=\u001b[0m\u001b[0mgetattr\u001b[0m\u001b[1;33m(\u001b[0m\u001b[0mseries\u001b[0m\u001b[1;33m.\u001b[0m\u001b[0mdtype\u001b[0m\u001b[1;33m,\u001b[0m \u001b[1;34m\"tz\"\u001b[0m\u001b[1;33m,\u001b[0m \u001b[1;32mNone\u001b[0m\u001b[1;33m)\u001b[0m\u001b[1;33m)\u001b[0m\u001b[1;33m\u001b[0m\u001b[1;33m\u001b[0m\u001b[0m\n",
      "\u001b[1;31mKeyboardInterrupt\u001b[0m: "
     ]
    }
   ],
   "source": [
    "x_train = []\n",
    "\n",
    "for loc in loc_list:\n",
    "    \n",
    "    tmp = []\n",
    "    \n",
    "    print('위치 : ', loc)\n",
    "    \n",
    "    x_train_1 = make_input(df_1_aug[loc]) # (1000000, 13)\n",
    "    x_train_2 = make_input(df_2_aug[loc]) # (1000000, 13)\n",
    "    x_train_3 = make_input(df_3_aug[loc]) # (1000000, 13)\n",
    "    \n",
    "    print('make_input done!')\n",
    "\n",
    "    for i in range(len(x_train_1)):\n",
    "        \n",
    "        tmp.append([x_train_1[i]])#, x_train_2[i], x_train_3[i]]) # (1000000, 3, 13)\n",
    "       \n",
    "    for i in range(len(x_train_2)):\n",
    "        \n",
    "        tmp[i].append(x_train_2[i])\n",
    "\n",
    "    for i in range(len(x_train_3)):\n",
    "        \n",
    "        tmp[i].append(x_train_3[i])\n",
    "        \n",
    "    x_train.append(tmp)\n",
    "    \n",
    "\n",
    "        \n",
    "# 결국 x_train은 (1000000*20, 3, 13) shape을 갖게 될 것\n",
    "# label 20개( 5 * 4 )\n"
   ]
  },
  {
   "cell_type": "code",
   "execution_count": 47,
   "metadata": {},
   "outputs": [
    {
     "data": {
      "text/plain": [
       "(20, 10000, 3, 13)"
      ]
     },
     "execution_count": 47,
     "metadata": {},
     "output_type": "execute_result"
    }
   ],
   "source": [
    "np.array(x_train).shape"
   ]
  },
  {
   "cell_type": "code",
   "execution_count": 48,
   "metadata": {},
   "outputs": [
    {
     "name": "stdout",
     "output_type": "stream",
     "text": [
      "Pickling # 1\n",
      "Pickling # 2\n",
      "Pickling # 3\n",
      "Pickling # 4\n",
      "Pickling # 5\n",
      "Pickling # 6\n",
      "Pickling # 7\n",
      "Pickling # 8\n",
      "Pickling # 9\n",
      "Pickling # 10\n",
      "Pickling # 11\n",
      "Pickling # 12\n",
      "Pickling # 13\n",
      "Pickling # 14\n",
      "Pickling # 15\n",
      "Pickling # 16\n",
      "Pickling # 17\n",
      "Pickling # 18\n",
      "Pickling # 19\n",
      "Pickling # 20\n"
     ]
    }
   ],
   "source": [
    "for i in range(20):\n",
    "    \n",
    "    print('Pickling #',i+1)\n",
    "    \n",
    "    filename = 'x_train_' + str(i) + '.p'\n",
    "\n",
    "    with open(filename, 'wb') as file:\n",
    "        \n",
    "        pickle.dump(x_train[i], file)"
   ]
  },
  {
   "cell_type": "markdown",
   "metadata": {},
   "source": [
    "## x_train 완성\n",
    "(20, 1000000, 3, 13)"
   ]
  },
  {
   "cell_type": "code",
   "execution_count": 49,
   "metadata": {
    "scrolled": true
   },
   "outputs": [
    {
     "data": {
      "text/plain": [
       "20"
      ]
     },
     "execution_count": 49,
     "metadata": {},
     "output_type": "execute_result"
    }
   ],
   "source": [
    "len(x_train) # (20, 1000000, 3, 13)"
   ]
  },
  {
   "cell_type": "code",
   "execution_count": 50,
   "metadata": {},
   "outputs": [
    {
     "data": {
      "text/plain": [
       "array([0, 0])"
      ]
     },
     "execution_count": 50,
     "metadata": {},
     "output_type": "execute_result"
    }
   ],
   "source": [
    "np.zeros(2).astype(int)"
   ]
  },
  {
   "cell_type": "markdown",
   "metadata": {},
   "source": [
    "## y_train 만들기"
   ]
  },
  {
   "cell_type": "code",
   "execution_count": 39,
   "metadata": {},
   "outputs": [
    {
     "data": {
      "text/plain": [
       "[0, 0, 1, 0, 0, 0, 0, 0, 0, 0, 0, 0, 0, 0, 0, 0, 0, 0, 0, 0]"
      ]
     },
     "execution_count": 39,
     "metadata": {},
     "output_type": "execute_result"
    }
   ],
   "source": [
    "def labeling(label, class_num = 20):\n",
    "    \n",
    "    label_ = np.zeros(class_num).astype(int)\n",
    "    \n",
    "    label_[label - 1] = 1\n",
    "    \n",
    "    return label_.tolist()\n",
    "\n",
    "labeling(3)"
   ]
  },
  {
   "cell_type": "code",
   "execution_count": 40,
   "metadata": {},
   "outputs": [
    {
     "data": {
      "text/plain": [
       "range(1, 21)"
      ]
     },
     "execution_count": 40,
     "metadata": {},
     "output_type": "execute_result"
    }
   ],
   "source": [
    "range(1,len(loc_list)+1)"
   ]
  },
  {
   "cell_type": "code",
   "execution_count": 41,
   "metadata": {},
   "outputs": [
    {
     "data": {
      "text/plain": [
       "[1, 2, 3, 4, 5, 6, 7, 8, 9, 10, 11, 12, 13, 14, 15, 16, 17, 18, 19, 20]"
      ]
     },
     "execution_count": 41,
     "metadata": {},
     "output_type": "execute_result"
    }
   ],
   "source": [
    "label_list = [*range(1,len(loc_list)+1)]\n",
    "label_list"
   ]
  },
  {
   "cell_type": "code",
   "execution_count": 42,
   "metadata": {},
   "outputs": [
    {
     "name": "stdout",
     "output_type": "stream",
     "text": [
      "labeling # 1\n",
      "labeling # 2\n",
      "labeling # 3\n",
      "labeling # 4\n",
      "labeling # 5\n",
      "labeling # 6\n",
      "labeling # 7\n",
      "labeling # 8\n",
      "labeling # 9\n",
      "labeling # 10\n",
      "labeling # 11\n",
      "labeling # 12\n",
      "labeling # 13\n",
      "labeling # 14\n",
      "labeling # 15\n",
      "labeling # 16\n",
      "labeling # 17\n",
      "labeling # 18\n",
      "labeling # 19\n",
      "labeling # 20\n"
     ]
    }
   ],
   "source": [
    "y_train = []\n",
    "\n",
    "for label in label_list:\n",
    "    \n",
    "    print('labeling #',label)\n",
    "    \n",
    "    tmp = []\n",
    "    \n",
    "    for i in range(1000000):\n",
    "        \n",
    "        tmp.append(labeling(label))\n",
    "        \n",
    "    y_train.append(tmp)"
   ]
  },
  {
   "cell_type": "code",
   "execution_count": 78,
   "metadata": {},
   "outputs": [],
   "source": [
    "receiver = ['1','2','3']\n",
    "path_lists = ['1-1.5', '2-2.5', '3-3.5', '4-2.5', '5-3.5']\n",
    "ch_list = list(range(1,14))"
   ]
  },
  {
   "cell_type": "code",
   "execution_count": 79,
   "metadata": {},
   "outputs": [],
   "source": [
    "ch_list = list(range(1,14))\n",
    "loc_list = []\n",
    "for path_list in path_lists:\n",
    "        loc = path_list\n",
    "        loc_list.append(loc)\n",
    "        \n",
    "df_1_test = pd.DataFrame(columns = loc_list, index = ch_list)\n",
    "df_2_test = pd.DataFrame(columns = loc_list, index = ch_list)\n",
    "df_3_test = pd.DataFrame(columns = loc_list, index = ch_list)"
   ]
  },
  {
   "cell_type": "code",
   "execution_count": 80,
   "metadata": {},
   "outputs": [
    {
     "name": "stdout",
     "output_type": "stream",
     "text": [
      "\n",
      "수신기 :  1\n",
      "\n",
      "채널 리스트 :  [12 12 13 ... 10 10 10]\n",
      "\n",
      "Rssi 리스트 :  [-76 -76 -85 ... -55 -47 -47]\n",
      "\n",
      "[[-73, -76, -75, -58, -58, -51, -54, -47, -55, -48, -47, -48, -49, -56, -49, -55, -49, -60, -81, -93, -89, -93], [-60, -60, -60, -59, -53, -44, -45, -44, -52, -45, -51, -52, -45, -44, -45, -52, -52, -52, -53, -54, -52, -51, -49, -45, -46, -47, -54, -53, -46, -46, -65, -62, -60, -59, -59, -57, -54, -44, -43, -44, -53, -46, -53, -53, -44, -46, -52, -45, -53, -48, -52, -45, -46, -47, -47, -46, -47, -47, -46, -82, -59, -60, -60, -59, -54, -51, -45, -45, -83, -54, -45, -45, -46, -56, -46, -54, -47, -47, -48, -54, -48, -48, -48, -54, -47, -54, -62, -56, -88, -86, -89, -63, -62, -51, -48, -48, -49, -49, -54, -49, -55, -56, -48, -59, -57, -50, -49, -57, -50, -57, -57, -57, -57, -59, -60, -60, -61, -58, -48, -47, -53, -52, -53, -47, -55, -54, -55, -52, -52, -54, -50, -48, -46, -47, -55, -49, -54, -90, -58, -59, -58, -52, -50, -43, -50, -50, -50, -52, -44, -51, -51, -44, -44, -52, -44, -48, -52, -44, -45, -45, -53, -46, -52, -46, -46, -54, -61, -60, -61, -60, -58, -55, -53, -54, -46, -54, -45, -53, -53, -54, -46, -54, -57, -47, -48, -54, -47, -48, -48, -48, -48, -48, -49, -55, -56, -56, -49, -48, -62, -59, -59, -59, -59, -58, -51, -51, -46, -53, -46, -45, -52, -53, -46, -48, -52, -54, -62, -55, -62], [-49, -45, -46, -53, -54, -48, -45, -52, -44, -54, -55, -47, -56, -51, -48, -55, -48, -56, -50, -50, -49, -57, -56, -50, -49, -57, -57, -50, -57, -80, -79, -79, -80, -80, -78, -78, -79, -80, -78, -79, -79, -77, -79, -79, -78], [-48, -53, -47, -48, -54, -54, -48, -56, -56, -54, -55, -53, -45, -44, -46, -52, -53, -52, -53, -45, -45, -45, -52, -56, -46, -46, -62, -61, -55, -56, -61, -60, -56, -57, -59, -57, -49, -56, -51, -57, -51, -52, -59, -47, -47, -48, -56, -56, -56, -56, -58, -65, -65, -65, -65, -75, -75, -78], [-56, -63, -64, -64, -63, -54, -49, -47, -54, -46, -47, -54, -47, -43, -45, -45, -53, -56, -54, -46, -53, -46, -53, -54, -46, -54, -47, -54, -46, -54, -55, -61, -54, -82, -76, -59, -57, -65, -57, -51, -55, -55, -48, -48, -57, -57, -56, -48, -46, -46, -66, -65, -64, -65, -59, -65, -62, -49, -55, -47, -48, -56, -56, -48, -49, -57, -56, -46, -45, -46, -46, -55, -57, -47, -47, -56, -55, -56, -49, -56, -49, -55, -48, -56, -65], [-65, -58, -59, -57, -49, -58, -58, -50, -58, -57, -54, -55, -56, -56, -54, -55, -45, -49, -55, -64, -48, -55, -49, -55, -56, -49, -61, -63, -63, -66, -64, -50, -55, -48, -55, -44, -52, -45, -53, -54, -53, -46, -47, -53, -54, -55, -55, -54, -47, -55, -48, -56, -54, -49, -56, -49, -56, -48, -56, -48, -48, -57, -56, -65, -65, -58, -55, -49, -49, -57, -57, -57, -45, -56, -53, -53, -86, -58, -64, -66, -66, -51, -48, -49, -49, -48, -47, -55, -47, -55, -55, -54, -56, -47, -54, -48, -57, -47, -51, -57, -57, -57, -57, -57, -57, -57, -58, -49, -57, -58, -61, -48, -56, -48, -54, -44, -53, -45, -47, -45, -54, -46, -53, -53, -46, -57, -47, -55, -54, -61], [-58, -50, -56, -56, -48, -49, -57, -58, -57, -49, -48, -48, -47, -48, -47, -55, -56, -48, -49, -51, -49, -50, -49, -50, -50, -50, -64, -57, -64, -56, -56, -47, -46, -47, -48, -46, -47, -45, -45, -46, -46, -46, -46, -46, -55, -46, -53, -46, -46, -46, -50, -46, -47, -48, -48, -48, -48, -48, -62, -86, -56, -56, -57, -47, -55, -55, -55, -47, -55, -47, -56, -55, -47, -49, -49, -56, -49, -49, -57, -47, -56, -56, -48, -56, -56, -48, -45, -46, -46, -47, -46, -54, -55, -58, -47, -48, -48, -48, -48, -49, -49, -48, -64, -54, -85, -88, -86, -48, -49, -57, -57, -49, -58, -63, -56, -49, -56, -48, -46, -47, -46, -46, -47, -47, -47, -54, -54, -47, -47, -47, -48, -47, -58, -56, -56, -49, -49, -56, -49, -50, -57, -58, -58, -55, -55, -55, -56, -53, -54, -46, -46, -46, -56, -55, -54, -56, -53, -47, -55, -46, -47, -47, -56, -47, -47, -46, -49, -48, -48, -48, -49, -49, -48, -49, -56, -57, -83, -45, -45, -46, -46, -54, -46, -47, -55, -55, -54, -47, -54, -47, -54, -53, -54, -45, -52, -45, -46, -53, -54, -49, -47, -56, -48, -55, -56, -47, -57, -84, -64, -49, -47, -46, -48, -48, -48, -48, -48, -48, -55, -47, -56, -48, -48, -49, -56, -57, -48, -47, -46, -46, -46, -53, -53, -47, -55, -57, -55, -56, -56, -57, -49, -48, -49, -49], [-50, -56, -55, -48, -56, -47, -56, -56, -49, -48, -56, -48, -49, -57, -48, -48, -49, -48, -45, -54, -46, -54, -47, -49, -86, -89], [-54, -63, -64, -57, -47, -47, -54, -46, -55, -53, -46, -57, -46, -47, -47, -56, -53, -63, -54, -63, -65, -81, -62, -52, -54, -46, -53, -54, -45, -46, -45, -46, -46, -46, -53, -43, -51, -47, -43, -45, -53, -53, -45, -53, -45, -61, -52, -62, -60, -83, -85, -84, -79, -82, -64, -65, -57, -46, -47, -47, -47, -48, -47, -48, -47, -55, -55, -46, -56, -46, -47, -47, -54, -54, -47, -55, -55], [-46, -52, -53, -44, -49, -51, -50, -42, -52, -46, -42, -44, -52, -43, -43, -43, -43, -44, -44, -44, -54, -44, -61, -45, -45, -54, -54, -55, -47, -47], [-77, -54, -47, -54, -45, -53, -45, -51, -53, -52, -53, -52, -44, -53, -53, -46, -54, -47, -44, -45, -54, -55, -56, -90, -58, -55, -54, -55, -47, -55, -53, -45, -46, -45, -54, -46, -53, -54, -54, -56, -46, -47, -54, -56, -54, -55, -56, -57, -47, -55, -46, -47, -66, -65, -56, -46, -47, -47, -47, -55, -52, -43, -45, -45, -45, -47, -54, -54, -55, -46, -55, -45, -55, -45, -46, -55, -58, -46, -55, -45, -55, -57, -55, -55, -55, -47, -47, -43, -52, -53, -45, -54, -55, -44, -54, -56, -46, -55, -53, -55, -56, -54, -49, -46, -46, -46, -46, -55, -47, -81, -83, -57, -55, -48, -56, -48, -47, -53, -54, -54, -55, -54, -54, -46, -53, -55, -55, -47, -54, -46, -56, -47, -45, -45, -55, -54, -55, -55, -55, -55, -59, -54, -55, -46, -55, -56, -47, -84, -82, -57, -54, -51, -47, -57, -56, -56, -56, -44, -55, -55, -46, -46, -55, -45, -54, -57, -57, -48, -56, -56, -56, -56, -55, -47, -50, -56, -56, -48, -57, -56], [-76, -76, -75, -57, -46, -46, -55, -46, -45, -55, -55, -56, -47, -47, -47, -47, -46, -55, -57, -48, -57, -57, -47, -48, -47, -51, -53, -44, -52, -57, -54, -54, -45, -45, -46, -55, -46, -46, -56, -47, -57, -47, -56, -46, -47, -55, -42, -43, -54, -43, -54, -53, -57, -46, -46, -51, -43, -51, -51, -44, -52, -53, -56, -44, -44, -58, -53, -54, -43, -44, -44, -45, -46, -44, -54, -45, -54, -45, -54, -54, -54, -54, -45, -54, -54, -53, -51, -50, -52, -43, -52, -52, -52, -44, -47, -44, -54, -53, -45, -62, -55, -52, -52, -43, -45, -44, -53, -53, -45, -44, -54, -44, -44, -53, -45, -53, -46, -44, -41, -42, -50, -42, -46, -43, -52, -62, -46, -46, -55, -46, -55, -46, -47, -56, -56, -47, -48, -46, -46, -46, -46, -44, -52, -45, -45, -54, -58, -44, -55], [-85, -85, -85, -64, -52, -61, -52, -84, -53, -55, -57, -50, -46, -55, -46, -55, -47, -47, -55, -62, -54, -52, -54, -62, -55, -43, -44, -44, -43, -54, -50, -50, -45, -53, -44]]\n",
      "채널 리스트 :  [12 12 12 ... 13  3  3]\n",
      "\n",
      "Rssi 리스트 :  [-90 -78 -71 ... -67 -75 -72]\n",
      "\n",
      "[[-73, -69, -74, -74, -73, -72, -73, -71, -71, -70, -71, -70, -69, -71, -72, -68, -71, -69, -69, -71, -71, -70, -70, -70, -70, -71, -77, -77, -76, -73, -71, -72, -72, -71, -73, -73, -71, -72, -71, -73, -71, -72, -72, -73, -73, -73, -77, -74, -76, -76, -75, -76, -73, -71, -70, -70, -71, -70, -71, -71, -87, -75, -78, -74, -76, -73, -72, -73, -71, -72, -72], [-77, -77, -77, -70, -67, -68, -69, -68, -69, -68, -69, -69, -70, -67, -68, -71, -71, -74, -73, -79, -76, -78, -78, -78, -71, -74, -84, -70, -75, -69, -69, -69, -71, -70, -70, -70, -70, -77, -78, -77, -77, -78, -73, -70, -73, -73, -73, -73, -73, -73, -73, -74, -77, -77, -74, -75, -72, -69, -68, -70, -70, -71, -71, -72, -72, -74, -67, -66, -66, -65, -66, -67, -67, -67, -70, -69, -69, -68, -69, -69, -76, -76, -75, -76, -76, -75, -76, -76, -74, -75, -73, -70, -67, -68, -69, -70, -69, -69, -70, -70, -71, -70, -79, -83, -81], [-78, -68, -66, -67, -66, -67, -68, -65, -65, -70, -68, -69, -69, -69, -69, -69, -69, -70, -69, -69, -68, -70, -70, -70, -69, -66, -64, -63, -65, -64, -65, -64, -67, -64, -65, -65, -64, -65, -67, -66, -65, -69, -68, -68, -68, -68, -68, -70, -70, -69, -70, -67, -67, -68, -68, -68, -69, -68, -69, -68, -67, -69, -68, -69, -68, -67, -72, -71, -70, -70, -70, -71, -75, -72], [-77, -77, -78, -77, -78, -76, -79, -77, -79, -75, -72, -69, -71, -70, -70, -71, -70, -71, -70, -70, -69, -70, -69, -70, -70, -70, -75, -74, -75, -75, -75, -74, -74, -75, -67, -68, -68, -68, -68, -68, -68, -69, -68, -69, -69, -68, -68, -66, -68, -68, -68, -67, -68, -71, -70, -71, -70, -70, -77, -75, -76, -76, -75, -78, -76, -76, -75, -72, -72, -74, -73, -73, -74, -74, -74, -74, -73, -73, -74, -72, -73, -72, -73, -73, -72, -73, -74, -72, -74, -72, -73, -77, -74, -77, -76, -76, -77, -76], [-78, -80, -80, -74, -70, -72, -73, -72, -73, -72, -77, -77, -77, -77, -75, -76, -75, -74, -73, -74, -74, -79, -76, -76, -75, -76, -76, -76, -77, -76, -74, -75, -76, -75, -75, -80, -92, -84, -87, -79, -82, -82, -79, -77, -78, -74, -71, -72, -72, -74, -71, -74, -71, -74, -74, -75, -75, -74, -72, -71, -71, -71, -70, -71, -71, -72, -73, -71, -72, -74, -80, -82, -82, -80, -81, -79, -82, -75, -74, -75, -77, -75, -74, -74, -76, -75, -75, -75, -76, -78, -75, -71, -72, -72, -69, -71, -77, -78, -78, -77, -77, -77, -77, -75, -72, -74, -74, -72, -73, -73, -73, -73, -73, -75, -76, -74, -74, -74, -81, -88, -72, -73, -73, -73, -69, -69, -69, -69, -71], [-79, -78, -75, -75, -74, -74, -73, -73, -75, -78, -77, -76, -78, -78, -77, -77, -76, -78, -77, -77, -76, -78, -76, -81, -77, -77, -80, -79, -80, -79, -79, -80, -79, -76, -78, -79, -78, -78, -79, -83, -82, -82, -82, -81, -83, -80, -83, -81, -73, -72, -72, -73, -75, -73, -72, -72, -74, -83, -75, -74, -74, -73, -73, -74, -75, -75, -73, -72, -71, -70, -81, -80, -75, -74, -73, -73, -73, -74, -73, -70, -71, -71, -71, -71, -72, -72, -73, -72, -74, -74, -72, -73, -74, -73, -72, -73, -72, -75, -73, -72, -73, -74, -73, -74, -74, -79, -73, -72, -72, -71, -73, -73, -71, -69, -69, -69, -70, -71, -69, -70, -70, -70, -74, -72, -71, -71, -72, -72, -72, -72, -72, -71], [-82, -80, -81, -81, -81, -76, -76, -83, -83, -83, -83, -81, -78, -79, -80, -79, -79, -79, -79, -80, -79, -77, -80, -78, -72, -70, -70, -71, -71, -70, -70, -70, -68, -68, -69, -69, -69, -69, -68, -69, -71, -70, -71, -71, -70, -71, -70, -77, -79, -80, -72, -70, -71, -70, -70, -71, -71, -71, -71, -70, -67, -67, -69, -68, -69, -69, -69, -69, -71, -69, -70, -70, -70, -70, -70, -70, -70, -75, -73, -73, -73, -74, -74, -75, -74, -75, -74, -73, -70, -71, -71, -71, -71, -72, -72, -71, -71, -71], [-85, -79, -78, -78, -79, -78, -79, -75, -73, -73, -73, -73, -73, -73, -73, -74, -75, -73, -73, -72, -71, -70, -70, -70, -71, -70, -71, -71, -71, -69, -67, -68, -68, -68, -68, -71, -69, -69, -69, -69, -70], [-94, -74, -72, -73, -73, -72, -73, -73, -74, -73, -70, -68, -69, -70, -70, -69, -68, -69, -72, -69, -70, -70, -71, -70, -70, -77, -77, -79, -80, -93, -83, -80, -78, -78, -74, -71, -71, -72, -72, -73, -72, -71, -70, -68, -73, -71, -71, -71, -73, -72, -72, -78, -79, -81, -78, -78, -77, -74, -72, -73, -72, -72, -71, -72, -73, -71, -71, -68, -69, -69, -69, -70, -69, -70, -74, -72, -71, -72, -72, -72, -79, -80, -91, -74, -71, -68, -68, -70, -69, -70, -70, -70, -70, -70, -67, -68, -69, -70, -69, -68, -68, -70, -69, -74, -72, -71, -79, -79, -79, -77, -77, -76, -71, -69, -69, -68, -68, -69, -69, -69, -69, -68, -68, -67, -68, -68, -69, -69, -67, -68, -72, -69, -70, -69, -75, -70, -74, -76, -84, -73, -72, -71, -72, -72, -72, -72, -72, -74, -71, -72, -72, -77, -72, -74, -75, -72, -79, -80, -81, -81, -81], [-79, -72, -69, -70, -66, -68, -67, -68, -68, -66, -68, -70, -67, -67, -67, -67, -68, -68, -68, -67, -76, -74, -73, -73, -71, -71, -71, -71, -71, -71, -75, -72, -73, -72, -73, -73, -72, -74, -70, -71, -71, -70, -71, -68, -68, -68, -68, -68, -71, -70, -70, -70, -70, -69, -71, -70, -70, -71, -71, -69, -77, -71, -69, -70, -71, -70, -70, -69, -67, -67, -68, -67, -68, -68, -69, -69, -69, -70, -70, -70, -70, -70, -70, -70, -70, -70, -69, -70, -75, -73, -74, -73, -74, -75, -72, -71, -74, -73, -72, -75, -73, -73, -72, -74, -73, -74, -72, -73, -72, -74, -74, -74], [-73, -69, -72, -71, -70, -72, -69, -68, -68, -67, -68, -68, -68, -68, -68, -70, -69, -69, -69, -69, -73, -69, -69, -68, -69, -69, -70, -72, -70, -70, -70, -70, -72, -70, -70, -67, -67, -68, -68, -69, -69, -68, -68, -67, -69, -68, -71, -69, -69, -69, -69, -71, -67, -68, -68, -67, -65, -65, -65, -65, -65, -66, -66, -65, -66, -66, -66, -68, -65, -66, -75, -73, -74, -73, -74, -73, -72, -70, -71, -71, -73, -70, -72, -71, -71, -72, -72, -71, -71, -71, -71, -72, -72, -74, -72, -72, -71, -69, -70, -70, -70, -70, -70, -71, -69, -68, -68, -67, -68, -67, -67, -68, -68, -69, -69, -71, -69, -71, -68, -69, -69, -69, -81, -78, -76, -70, -70, -69, -69, -68, -68, -68, -67, -70, -69, -67, -68, -69, -69, -68, -69, -72, -69, -70, -70, -70, -71, -70, -82, -81, -73, -73, -71, -73, -69, -70, -69, -70, -69, -70, -70, -70, -70, -70, -70, -71, -70, -71, -73, -72, -73], [-90, -78, -71, -71, -69, -71, -70, -71, -71, -71, -72, -71, -72, -73, -71, -70, -70, -66, -66, -67, -68, -67, -67, -68, -72, -71, -73, -70, -67, -68, -68, -68, -69, -70, -68, -70, -67, -65, -66, -66, -67, -66, -66, -69, -66, -70, -71, -72, -72, -71, -73, -71, -72, -73, -72, -72, -73, -72, -72, -72, -73, -73, -74, -73, -70, -67, -70, -71, -75], [-89, -75, -72, -68, -68, -65, -66, -66, -66, -65, -67, -67, -67, -66, -65, -67, -67, -67, -77, -76, -79, -73, -71, -72, -71, -71, -70, -67, -75, -70, -72, -71, -72, -69, -69, -68, -68, -68, -67]]\n",
      "채널 리스트 :  [11 11 11 ...  4  4  4]\n",
      "\n",
      "Rssi 리스트 :  [-77 -77 -77 ... -63 -60 -61]\n",
      "\n",
      "[[-65, -64, -65, -63, -60, -62, -62, -61, -61, -62, -61, -62, -63, -62, -62, -63, -69, -64, -65, -62, -62, -62, -63, -62, -63, -63, -62, -61, -70, -69, -64, -64, -63, -62, -62, -61, -59, -60, -61, -60, -61, -61, -60, -60, -60, -62, -61, -62, -70, -68, -70, -68, -64, -63, -62, -61, -62, -61, -60, -61, -61, -60, -61, -62, -71, -80, -62, -63, -62, -63, -60, -61, -58, -60, -59, -60, -60, -59, -60, -60, -59, -60, -61, -67, -67, -67, -63, -62, -61, -62, -62, -63, -62, -61, -63, -62, -61, -62, -72, -69, -69, -69, -83, -71, -71, -71], [-65, -64, -64, -59, -57, -60, -58, -78, -58, -58, -58, -58, -57, -59, -58, -59, -61, -58, -61, -59, -61, -60, -61, -60, -60, -61, -61, -60, -61, -70, -68, -67, -68, -62, -61, -62, -62, -62, -60, -71, -68, -69, -67, -61, -60, -58, -59, -58, -60, -59, -60, -58, -63, -60, -61, -61, -61, -62, -62, -62, -69, -64, -64, -64, -63, -63, -62, -61, -60, -58, -58, -58, -58, -61, -61, -62, -61, -71, -70], [-74, -64, -61, -62, -62, -62, -63, -63, -63, -62, -61, -62, -61, -61, -61, -61, -62, -62, -61, -63, -62, -61, -63, -62, -63, -62, -65, -63, -63, -63, -64, -63, -64, -65, -63, -66, -63, -62, -63, -63, -64, -63, -64, -64, -63, -63, -64, -64, -65, -61, -62, -60, -61, -61, -61, -60, -63, -65, -60, -60, -61, -54, -61, -62, -62, -63, -60, -61, -90, -81, -84, -64, -61, -61, -61, -62, -61, -62, -62, -63, -62, -61, -62, -60, -59, -59, -60, -60, -61, -60, -60, -60, -59, -61, -59, -62, -62, -63, -62, -62, -62, -63, -63], [-69, -62, -62, -62, -62, -62, -61, -63, -62, -63, -63, -62, -63, -62, -60, -59, -61, -59, -61, -62, -61, -61, -62, -60, -61, -63, -63, -63, -64, -63, -62, -62, -62, -63, -63, -62, -62, -63, -63, -63, -62, -62, -61, -61, -61, -60, -60, -61, -60, -60, -61, -63, -64, -74, -73, -54, -63, -63, -63, -64, -64, -65, -63, -62, -64, -62, -62, -62, -61, -62, -61, -62, -62, -61, -61, -62, -62, -62, -63, -65, -76, -74, -68, -68, -64, -62, -62, -63, -61, -62, -62, -63, -63, -63, -63, -63, -63, -62, -61, -61, -59, -60, -61, -60, -61, -60, -62, -65, -64, -63, -63, -74, -74, -76, -73, -75, -75, -67, -69, -69, -63, -60, -61], [-73, -65, -63, -65, -66, -64, -64, -65, -65, -65, -65, -65, -66, -63, -62, -63, -63, -63, -63, -66, -95, -82, -74, -75, -75, -75, -68, -67, -67, -67, -69, -67, -66, -66, -66, -72, -71, -94, -74, -71, -65, -63, -63, -65, -65, -64, -63, -64, -64, -65, -62, -62, -63, -62, -63, -67, -67, -66, -68, -68, -67, -74, -75, -75, -67, -64, -65, -66, -66, -66, -66, -66, -66, -66, -68, -66, -67, -66, -63, -64, -70, -68, -68, -68, -69, -77, -63, -62, -63, -63, -63, -62, -61, -66, -66], [-72, -72, -72, -68, -67, -65, -65, -65, -65, -66, -64, -66, -65, -66, -69, -68, -69, -69, -70, -69, -69, -69, -69, -70, -70, -70, -70, -70, -69, -69, -79, -73, -73, -75, -68, -66, -65, -67, -66, -65, -65, -67, -67, -67, -67, -67, -71, -71, -72, -71, -75, -74, -84, -84, -83, -73, -74, -75, -74, -73, -69, -68, -67, -67, -68, -68, -68, -68, -69, -71, -71, -71, -95, -74, -76, -77, -77, -77, -71, -68, -69, -69, -68, -69, -69, -69, -75, -73, -73, -73, -74, -73, -73, -73, -74, -73, -73, -73, -74, -74, -71, -68, -69, -77, -74, -76, -75, -76, -67, -67, -68, -68, -68, -68, -69, -65, -69, -69, -70, -69, -73, -72, -73, -73, -72, -73, -73, -73, -72], [-72, -69, -70, -68, -71, -71, -73, -71, -72, -71, -71, -70, -70, -72, -74, -72, -73, -71, -73, -73, -72, -70, -71, -70, -71, -72, -71, -71, -77, -78, -78, -78, -77, -79, -83, -81, -73, -71, -70, -71, -71, -70, -71, -71, -71, -71, -72, -70, -70, -72, -72, -73, -72, -72, -80, -80, -71, -71, -71, -72, -72, -73, -71, -72, -74, -73, -74, -72, -73, -72, -73, -72, -78], [-75, -72, -73, -72, -73, -73, -75, -73, -74, -73, -73, -77, -76, -75, -75, -72, -74, -73, -75, -74, -73, -75, -73, -74, -77, -74, -74, -76, -75, -76, -76, -77, -77, -76, -76, -76, -79, -79, -78, -82, -76, -76, -75, -75, -75, -75, -76, -75, -80, -78, -78, -77, -79, -78, -77, -78, -79, -83, -79, -83, -76, -73, -74, -74, -74, -74, -75, -74, -77, -75, -76, -77, -77, -77, -76, -77, -77, -79, -79, -77, -74, -74, -76, -75, -74, -77, -76, -76, -76, -75, -76, -75, -80, -78, -79, -78, -78, -80, -81, -78, -78, -79, -79, -82, -83, -75], [-90, -81, -81, -81, -77, -76, -77, -77, -76, -77, -77, -77, -73, -71, -71, -73, -70, -70, -71, -70, -71, -71, -79, -79, -75, -74, -74, -74, -74, -92, -80, -81, -80, -80, -83, -91, -79, -80, -83, -77, -77, -76, -77, -75, -73, -73, -73, -73, -75, -74, -79, -77, -77, -75, -75, -75, -76, -76, -75, -76, -81, -82, -89, -77, -74, -73, -73, -73, -74, -72, -73, -72, -74, -73, -73, -72, -74, -74, -73, -73, -78], [-77, -75, -74, -75, -75, -75, -74, -72, -70, -71, -70, -70, -70, -71, -70, -71, -70, -73, -71, -71, -72, -72, -71, -72, -82, -78, -78, -75, -75, -76, -77, -76, -76, -73, -71, -72, -71, -71, -72, -75, -73, -73, -73, -73, -74, -73, -73, -74, -73, -74, -74, -73, -73, -72, -72, -72, -72, -72, -72, -72, -70, -67, -68, -68, -68, -68, -68, -69, -69, -69, -68, -69, -71, -70, -69, -69, -70, -70, -69, -70, -70, -71, -70, -70, -86, -75, -73, -73, -73, -74, -73, -70, -70, -70, -70, -70, -73, -71, -72, -72, -72, -72, -71, -71, -71, -72, -72, -73, -71, -72, -74, -73, -74, -73, -70, -71, -70, -72, -71, -70, -70, -71, -70, -71, -70, -72, -71, -73, -73, -72, -73, -73, -73, -74, -74, -73], [-77, -77, -77, -77, -77, -78, -77, -75, -76, -76, -76, -78, -79, -78, -77, -80, -78, -79, -79, -80, -79, -74, -73, -73, -73, -74, -73, -74, -74, -74, -73, -73, -74, -72, -73, -73, -73, -73, -73, -77, -75, -74, -73, -74, -74, -73, -74, -74, -74, -76, -74, -74, -74, -74, -75, -75, -74, -73, -72, -73, -73, -73, -73, -73, -74, -73, -74, -73, -74, -74, -75, -74, -75, -77, -73, -74, -72, -72, -73, -73, -74, -74, -74, -73, -70, -70, -71, -72, -71, -90, -71, -71, -72, -71, -71, -71, -75, -71, -71, -72, -72, -72, -73, -73, -74, -72, -73, -73, -74, -73, -71, -70, -81, -76, -73, -72, -72, -71, -70, -72, -70, -69, -69, -68, -69, -68, -68, -68, -69, -70, -70, -71, -70, -70, -69, -70, -71, -70, -71, -72, -71], [-77, -76, -72, -71, -71, -70, -72, -71, -72, -71, -71, -72, -72, -72, -71, -68, -68, -69, -69, -72, -70, -81, -74, -73, -73, -73, -73, -73, -72, -73, -74, -73, -72, -73, -69, -70, -71, -73, -71, -72, -72, -74, -80, -72, -72, -73, -72, -73, -73, -72, -73, -74, -74, -74, -74, -73, -73, -74, -73, -70, -70, -70, -70, -75, -73, -72, -73, -72, -74, -74, -74, -75, -74, -73, -75, -73, -70, -70, -70, -75], [-78, -78, -83, -79, -71, -69, -69, -70, -70, -70, -67, -67, -68, -68, -79, -78, -78, -87, -79, -76, -72, -72, -73, -72, -73, -69, -71, -70, -90, -81, -80, -80, -73, -71, -70, -70, -69, -69, -69, -68, -68, -69, -71, -68, -70, -69, -66, -66]]\n",
      "채널 리스트 :  [ 7  7  7 ... 12 12 12]\n",
      "\n",
      "Rssi 리스트 :  [-71 -76 -77 ... -77 -78 -78]\n",
      "\n",
      "[[-71, -68, -67, -67, -69, -70, -74, -75, -70, -67, -68, -69, -68, -70, -74, -87, -70, -69, -70, -69, -66, -66, -71, -66, -65, -65, -66, -76, -71, -72, -72, -70, -71, -71, -67, -65, -65, -67, -66, -67, -68, -67, -68, -68, -68, -68, -72, -72, -70, -72, -71, -70, -68, -65, -66, -66, -65, -65, -67, -67, -66, -66, -66, -65, -67, -66, -71, -90, -73, -74, -74, -71, -71, -71, -71, -70, -67, -68, -68, -67, -74], [-74, -73, -73, -71, -71, -65, -63, -63, -64, -64, -64, -64, -64, -67, -65, -64, -64, -65, -65, -66, -65, -65, -65, -65, -65, -72, -67, -65, -66, -67, -67, -66, -67, -68, -72, -71, -71, -65, -64, -64, -63, -63, -66, -64, -65, -64, -64, -73, -74, -74, -74, -74, -73, -69, -65, -65, -65, -65, -67, -66, -66, -67, -66, -68, -66, -66, -66, -66, -67, -79, -67, -68, -68, -74, -67, -63, -64, -64, -65, -66, -65, -66, -66, -65, -65, -66, -65, -65, -80, -65, -66, -66, -66, -67, -68, -76, -74, -74, -74, -73, -74, -74, -74, -74, -74, -66, -65, -65, -64, -67, -65, -66, -65, -65, -68, -66, -66, -66, -66, -68, -67, -66, -66, -67, -67, -66, -67, -76, -76], [-83, -67, -66, -66, -66, -66, -67, -64, -65, -65, -65, -65, -66, -66, -65, -65, -65, -71, -68, -68, -69, -70, -69, -69, -69, -69, -69, -69, -69, -69, -70, -70, -70, -67, -67, -70, -66, -67, -67, -67, -68, -71, -72, -72, -72, -72, -71, -72, -72, -78, -67, -65, -65, -65, -67, -64, -65, -65, -65, -65, -65, -66, -65, -65, -71, -69, -69, -69, -69, -70, -68, -70, -70, -69, -68, -69], [-73, -71, -72, -72, -72, -72, -73, -73, -72, -73, -75, -71, -73, -71, -74, -74, -78, -76, -72, -68, -69, -69, -70, -71, -70, -71, -70, -70, -70, -70, -70, -71, -71, -71, -70, -71, -70, -75, -73, -74, -74, -74, -73, -73, -71, -67, -68, -67, -69, -70, -69, -74, -72, -69, -69, -71, -71, -71, -72, -71, -71, -73, -71, -72, -72, -76, -76, -74, -79, -74, -70, -73, -71, -71, -73, -72, -73, -72, -73, -73, -72, -75, -72, -72, -72, -72, -73, -72, -73, -72, -72, -76, -76], [-92, -81, -75, -73, -74, -74, -74, -72, -74, -72, -72, -72, -73, -74, -73, -74, -74, -74, -73, -73, -74, -74, -74, -74, -80, -80, -76, -73, -73, -73, -75, -75, -74, -74, -73, -72, -72, -74, -75, -75, -82, -79, -73, -73, -74, -72, -71, -72, -71, -74, -74, -84, -76, -74, -75, -75, -75, -76, -75, -73, -74, -74, -75], [-83, -73, -71, -71, -70, -67, -70, -69, -69, -69, -69, -69, -70, -70, -71, -71, -73, -70, -71, -71, -72, -72, -72, -72, -71, -79, -71, -72, -73, -71, -71, -71, -71, -70, -71, -71, -71, -71, -90, -73, -70, -70, -68, -70, -70, -71, -69, -71, -72, -71, -72, -72, -72, -73, -71, -69, -71, -69, -70, -70, -70, -69, -70, -69, -69, -69, -70, -70, -72, -72, -72, -73, -72, -72, -72, -72, -72, -72, -72, -72, -72, -73, -73, -79, -80, -75, -72, -72, -82, -78, -81, -74, -71, -72, -72, -71, -69, -69, -74, -72, -73, -71, -72, -72, -73, -73, -72, -73, -73, -73, -74, -73, -73, -72, -73, -72, -76, -75, -73, -72, -74, -73, -73, -70, -71, -70, -71, -73, -73, -74], [-71, -76, -77, -76, -75, -76, -76, -77, -72, -70, -72, -72, -73, -72, -71, -73, -72, -74, -73, -73, -74, -74, -73, -72, -72, -72, -71, -72, -73, -73, -74, -71, -74, -73, -72, -70, -71, -71, -71, -70, -70, -72, -71, -71, -71, -70, -70, -70, -70, -71, -72, -70, -71, -71, -74, -73, -74, -72, -73, -72, -71, -73, -72, -73, -71, -68, -72, -69, -70, -70, -70, -72, -71, -69, -71, -70, -82, -72, -73, -72, -73, -74, -71, -71, -69, -69, -69, -69, -70, -71, -70, -70, -69, -70, -70, -71, -69, -70, -71, -70, -71, -72, -72], [-74, -71, -72, -72, -72, -72, -72, -72, -71, -71, -72, -72, -73, -73, -71, -73, -72, -72, -71, -70, -71, -71, -70, -71, -70, -70, -74, -74, -74, -74, -74, -81, -81, -75, -74, -74, -75, -73, -73, -73, -75, -74, -73, -74, -73, -75, -75, -74, -75, -74, -73, -75, -74, -72, -74, -73, -71, -72, -74, -76, -75, -75, -76, -74, -70, -72, -73, -73, -72, -73, -72, -74, -71, -73, -72, -73, -73, -73, -73, -73, -73, -73, -73, -72, -72, -72, -70, -70, -73, -71, -71, -71, -76, -74, -82, -71, -69, -69, -70, -70, -70, -70, -70, -70, -70, -70, -70, -70, -71, -70, -70, -69, -70, -71, -69, -68, -67, -68, -69, -68, -68, -67, -72, -70, -70, -80, -78], [-93, -73, -71, -72, -72, -74, -72, -73, -73, -73, -78, -75, -74, -79, -84, -79, -81, -82, -72, -72, -71, -73, -72, -73, -72, -72, -71, -73, -72, -81, -82, -78, -74, -76, -75, -75, -74, -75, -77, -76, -76, -78, -75, -77, -76, -76, -77, -80, -83, -84, -92, -76, -74, -73, -72, -73, -76, -74, -74, -75, -74, -75, -78, -74, -74, -75, -76, -82, -86, -81, -77, -72, -71, -71, -70, -71, -71, -78, -72, -71, -71, -72, -76, -72, -73, -75, -80, -79, -81, -81, -75, -74, -74, -74, -74, -75, -74, -75, -75, -74, -75, -75, -76, -79, -81, -80, -80, -79], [-78, -76, -75, -73, -71, -69, -70, -69, -69, -70, -70, -70, -70, -70, -69, -71, -71, -70, -80, -79, -78, -79, -78, -74, -72, -73, -73, -73, -73, -73, -73, -74, -73, -73, -72, -73, -74, -74, -73, -74, -73, -73, -82, -73, -70, -71, -71, -72, -71, -71, -72, -72, -72, -72, -71, -72, -71, -71, -72, -72, -72, -83, -81, -79, -82, -77, -74, -75, -75, -72, -70, -71, -70, -71, -73, -72, -71, -72, -72, -71, -71, -71, -73, -72, -72, -73, -72, -72, -72, -71, -72, -74, -74, -80, -76, -73, -73, -73, -70, -70, -70, -71, -71, -71, -71, -71, -73, -71, -71, -73, -72, -73, -72, -72, -72, -73, -73, -73, -71, -80, -77, -78, -79, -74], [-74, -74, -75, -75, -72, -72, -71, -72, -74, -72, -74, -76, -74, -77, -76, -75, -77, -76, -75, -75, -76, -79, -79, -77, -75, -78, -75, -71, -72, -71, -70, -69, -70, -70, -71, -70, -71, -72, -71, -71, -72, -71, -70, -71, -71, -71, -72, -75, -72, -72, -73, -73, -73, -72, -71, -68, -69, -69, -69, -69, -69, -70, -69, -70, -70, -70, -69, -69, -71, -71, -71, -72, -71, -70, -73, -71, -72, -71, -80, -75, -75, -71, -71, -72, -72, -72, -72, -72, -73, -73, -73, -76, -72, -73, -73, -74, -74, -74, -72, -72, -72, -69, -69, -71, -70, -72, -70, -71, -72, -71, -71, -71, -71, -72, -71, -71, -76, -73, -73, -73, -73, -73, -73, -73, -74, -71, -71, -72, -74, -70, -70, -70, -70, -70, -71, -72, -71, -71, -70, -71, -71, -72, -71, -75, -72, -72], [-74, -71, -72, -72, -73, -72, -71, -72, -73, -74, -74, -73, -74, -72, -70, -70, -70, -71, -73, -71, -72, -72, -71, -73, -72, -72, -73, -72, -73, -73, -73, -74, -72, -74, -73, -73, -72, -70, -70, -71, -72, -71, -76, -74, -77, -74, -75, -74, -75, -76, -76, -76, -76, -76, -76, -77, -76, -77, -78, -78], [-77, -74, -70, -78, -70, -70, -71, -73, -71, -72, -79, -79, -80, -77, -75, -73, -71, -73, -72, -73, -74, -81, -90, -75, -72, -72, -72, -72, -72, -75, -72, -75, -83, -77, -75, -75, -74, -75, -75, -74, -77, -74, -86, -76, -74, -74, -74, -76, -73, -74, -75, -85, -79, -77, -78, -77, -77, -77, -79, -77]]\n",
      "채널 리스트 :  [10 10 10 ...  9  9  9]\n",
      "\n",
      "Rssi 리스트 :  [-70 -68 -67 ... -90 -82 -73]\n",
      "\n",
      "[[-72, -72, -72, -73, -71, -73, -68, -75, -71, -69, -70, -71, -71, -71, -71, -70, -70, -75, -71, -73, -73, -73, -72, -71, -75, -74, -75, -77, -78, -75, -76, -74, -75, -76, -76, -76, -75, -75, -76, -76, -82, -86, -73, -73, -73, -73, -73, -86, -74, -72, -72, -72, -72, -71, -73, -72, -72, -72, -72, -73, -72, -73, -71, -73, -73, -75, -71, -70, -72, -72, -73, -73, -73, -73, -86], [-77, -73, -70, -70, -70, -70, -70, -71, -70, -71, -71, -71, -71, -72, -71, -71, -70, -70, -68, -69, -69, -69, -70, -70, -70, -70, -72, -74, -73, -72, -73, -74, -75, -73, -74, -70, -78, -72, -73, -70, -72, -70, -70, -72, -75, -77, -76, -77, -78, -75, -74, -70, -70, -72, -70, -72, -71, -76, -75, -76, -68, -68, -69, -71, -70, -70, -70, -70, -71, -68, -67, -70, -69, -69, -68, -69, -68, -73, -74, -79, -78, -78, -78, -74, -71, -72, -72, -72, -72, -71, -70, -75, -75, -76, -77, -79, -80, -76, -75, -71, -70, -70, -70, -70, -70, -71, -71, -71, -70, -70, -70, -71, -69, -68, -87, -71, -70, -67, -68, -68, -70, -68, -68, -69, -69, -69, -68, -68, -65, -66, -66, -66, -66, -67, -69, -72, -71, -74], [-73, -70, -71, -71, -67, -66, -66, -67, -66, -65, -66, -66, -67, -68, -67, -68, -67, -68, -69, -68, -65, -66, -67, -67, -67, -66, -68, -71, -68, -69, -68, -70, -69, -69, -70, -69, -70, -69, -65, -63, -63, -62, -63, -63, -63, -63, -63, -64, -63, -65, -62, -63, -64, -63, -63, -63, -63, -67, -66, -68, -67, -66, -68, -67, -67, -67, -67, -67, -67, -68, -67, -66, -67, -69, -67, -67, -76, -76, -77, -74, -71, -71, -72, -72, -72, -69, -67, -66, -66, -66, -67, -68, -68, -68, -67, -67, -70, -66, -66, -67, -66, -66, -66, -66, -66, -66, -67, -67, -68, -68, -67, -73, -75, -73, -73, -73, -73, -73, -73, -73, -74, -73, -73, -69, -67, -66, -67, -68, -68, -68, -68, -69, -66, -67, -66, -66, -67, -67, -67, -73], [-77, -71, -68, -68, -68, -68, -69, -69, -67, -64, -65, -65, -63, -67, -66, -66, -68, -66, -66, -72, -72, -70, -70, -70, -67, -68, -68, -68, -68, -69, -67, -64, -65, -64, -64, -64, -66, -66, -66, -64, -64, -65, -69, -66, -66, -66, -67, -65, -71, -73, -70, -93, -65, -66, -64, -61, -62, -60, -62, -62, -62, -62, -62, -65, -63, -63, -69, -62, -63, -65, -61, -64, -65, -61, -69, -66, -66, -75, -75, -73, -74, -76], [-66, -64, -64, -64, -64, -66, -65, -66, -66, -65, -64, -65, -65, -77, -69, -67, -68, -67, -67, -69, -70, -66, -68, -66, -73, -78, -69, -66, -67, -67, -67, -66, -68, -67, -69, -69, -68, -66, -70, -68, -68, -69, -69, -68, -68, -69, -69, -69, -70, -69, -70, -69, -69, -71, -68, -68, -75, -79, -79, -77, -77, -77, -77, -70, -69, -68, -68, -69, -69, -69, -68, -69, -72, -67, -68, -74], [-76, -77, -72, -71, -69, -71, -70, -73, -71, -71, -71, -72, -72, -72, -72, -72, -71, -72, -72, -72, -72, -73, -72, -73, -73, -75, -72, -73, -76, -77, -77, -74, -69, -69, -70, -70, -72, -75, -72, -73, -72, -73, -73, -73, -73, -74, -73, -79, -71, -71, -69, -73, -65, -74, -71, -72, -73, -71, -71, -80, -78, -78, -73, -72, -70, -72, -73, -71, -73, -73, -73, -74, -73, -74, -74, -75, -75, -74, -75, -81, -72, -69, -71, -73], [-81, -75, -73, -72, -72, -71, -70, -69, -69, -69, -69, -71, -71, -70, -70, -70, -71, -70, -70, -70, -70, -70, -70, -70, -75, -73, -73, -73, -73, -74, -74, -73, -74, -74, -72, -74, -73, -71, -70, -69, -69, -70, -70, -70, -71, -71, -70, -70, -71, -72, -70, -71, -71, -71, -70, -72, -71, -71, -91, -83, -74, -72, -72, -71, -72, -73, -72, -75, -70, -70, -70, -70, -70, -71, -70, -71, -70, -70, -70, -71, -71, -71, -72, -70, -71, -71, -71, -72, -71, -71, -71, -83, -80, -74, -71, -74, -72, -72, -74, -69, -69, -68, -69, -69, -68, -68, -71, -70, -70, -71, -71, -70, -70, -70, -70, -71, -71, -77, -78], [-82, -79, -72, -70, -70, -70, -71, -71, -71, -71, -72, -67, -67, -69, -69, -68, -69, -68, -68, -67, -71, -70, -70, -70, -70, -70, -71, -78, -78, -82, -73, -71, -72, -71, -71, -72, -72, -72, -73, -72, -71, -72, -72, -72, -70, -68, -70, -70, -69, -70, -70, -69, -71, -69, -69, -72, -70, -70, -71, -71, -71, -79, -69, -67, -67, -68, -68, -68, -68, -68, -68, -68, -68, -68, -68, -66, -66, -65, -66, -66, -65, -66, -66, -66, -69, -67, -67, -67, -67, -68, -67, -78, -75, -89, -80, -88, -82, -73, -71, -70, -71, -71, -72, -71, -71, -69, -68, -69, -69, -68, -70, -69, -73, -71, -79, -79], [-75, -68, -65, -66, -66, -66, -77, -66, -66, -65, -65, -65, -65, -65, -65, -64, -67, -67, -64, -66, -67, -67, -68, -70, -69, -69, -68, -68, -81, -80, -70, -68, -67, -67, -69, -68, -68, -68, -68, -67, -67, -68, -67, -67, -68, -69, -72, -71, -71, -70, -71, -70, -72, -71, -74, -75, -71, -68, -68, -69, -69, -68, -69, -70, -69, -69, -66, -68, -69, -74, -71, -71, -71, -72, -71, -72, -72, -72, -72, -76, -70, -68, -68, -68, -68, -68, -68, -68, -68, -67, -66, -68, -68, -67, -66, -70, -70, -70, -70, -71, -71, -71, -80, -75, -68, -66, -66, -67, -67, -67, -66, -67, -68, -67, -67, -65, -66, -67, -66, -67, -67, -72, -70, -70, -70, -70, -71, -83, -86, -70, -68, -68, -67, -69, -68, -70, -69, -69, -69, -67, -68, -73, -71, -71, -71, -71, -71, -86, -90, -82, -73], [-70, -68, -67, -70, -69, -68, -69, -69, -68, -68, -69, -70, -70, -71, -71, -70, -70, -73, -73, -74, -74, -73, -74, -74, -74, -83, -83, -89, -87, -74, -71, -70, -69, -70, -68, -68, -69, -70, -69, -70, -70, -77, -76, -75, -76, -76, -76, -74, -75, -76, -76, -76, -76, -76, -77, -76, -70, -69, -69, -70, -73, -70, -69, -69, -70, -70, -70, -70, -70, -78, -76, -77, -78, -77, -86, -78, -77, -78, -79, -78, -78, -76, -76, -76, -78, -72, -71, -70, -72, -71, -71, -71, -71, -72, -77, -77, -75, -77, -78, -78, -78, -78, -78, -78, -78, -78, -77, -78, -78, -83, -72, -70, -70, -72, -73, -71, -70, -71, -72, -71, -80, -79, -79, -78, -79, -80, -81, -78, -80, -81, -78, -71, -70, -71, -72, -79, -88, -79, -91], [-76, -73, -72, -72, -72, -75, -72, -72, -72, -72, -73, -72, -72, -72, -73, -73, -73, -74, -73, -79, -77, -78, -91, -79, -75, -74, -76, -76, -77, -78, -78, -78, -77, -77, -78, -76, -79, -77, -76, -78, -77, -79, -82, -81, -76, -76, -76, -75, -75, -78, -76, -76, -75, -76, -76, -76, -76, -77, -76, -77, -77, -78, -76, -82, -81, -81, -80, -90, -78, -76, -76, -77, -76, -77, -79, -78, -76, -77, -79, -77, -78, -78, -78, -77, -80, -78, -77, -84, -81], [-85, -82, -82, -84, -84, -81, -78, -79, -78, -79, -78, -78, -80, -79, -80, -80, -81, -82, -81, -80, -81, -79, -79, -80, -84, -79, -78, -80, -78, -84, -85, -81, -81, -81, -79, -80, -80, -79, -78, -77, -78], [-80, -79, -80, -79, -76, -74, -84, -82, -80, -77, -77, -77, -80, -79, -80, -79, -78, -80, -78, -78, -75, -73, -73, -89, -88, -81, -78, -81, -77, -74, -74, -74, -75, -72, -85, -81, -81, -81, -80, -83, -76, -74, -75, -74, -75, -82, -78, -74, -74, -75]]\n",
      "\n",
      "수신기 :  2\n",
      "\n",
      "채널 리스트 :  [11 11 11 ...  1  1  1]\n",
      "\n",
      "Rssi 리스트 :  [-71 -73 -72 ... -65 -66 -66]\n",
      "\n",
      "[[-62, -63, -62, -61, -63, -59, -60, -61, -60, -61, -60, -61, -61, -60, -61, -63, -61, -62, -61, -62, -63, -61, -60, -62, -64, -66, -65, -64, -63, -64, -67, -63, -64, -63, -65, -64, -64, -63, -61, -67, -74, -74, -66, -67, -65, -66, -64, -67, -63, -65, -64, -65, -66, -65, -65, -66, -65, -66, -66], [-66, -68, -67, -65, -63, -65, -65, -64, -63, -63, -63, -63, -63, -64, -65, -64, -64, -64, -64, -70, -76, -68, -69, -77, -95, -68, -66, -91, -65, -66, -68, -63, -60, -61, -62, -62, -77, -63, -63, -62, -63, -66, -67, -67, -67, -65, -61, -61, -63, -61, -62, -62, -63, -62, -62, -62, -67, -68, -68, -79, -92, -69, -67, -67, -68, -67, -66, -66, -66, -64, -61, -62, -62, -63, -63, -62, -64, -63, -62, -63, -62, -63, -64, -66, -67, -68, -68, -74, -68, -67, -67, -66, -67, -66, -64, -62, -61, -62, -63, -80, -63, -62, -63, -66, -66, -66, -68, -67, -76, -68, -67, -66, -73, -72, -71, -71, -70, -67, -68, -70, -69, -71, -70, -69, -77, -77, -77, -77, -77], [-77, -77, -70, -68, -68, -67, -67, -75, -68, -63, -66, -65, -64, -66, -66, -66, -65, -68, -65, -65, -65, -66, -72, -70, -70, -71, -72, -72, -72, -71, -66, -66, -66, -73, -71, -71, -71, -72, -72, -73, -72, -73, -72, -72, -72, -73, -73, -73, -73, -74, -72, -80, -80, -69, -66, -65, -67, -65, -66, -70, -68, -68, -67, -68, -68, -69, -68, -69, -68, -75, -73, -72, -73, -73, -73, -73, -74, -74, -74, -73, -74, -74, -75, -74, -79, -68, -65, -65, -64, -65, -65, -65, -66, -65, -65, -68, -65, -65, -66, -65, -66, -66, -71, -70, -70, -69, -70, -70, -69, -71, -71, -79, -69, -66, -66, -66, -66, -68, -67, -67, -66, -67, -67, -67, -67, -69, -67, -67, -67, -68, -68, -72, -71, -71, -70, -71, -72, -78, -79, -70, -67, -66, -67, -67, -68, -67, -67, -69, -67, -68, -69, -68, -68, -71, -68, -68, -69, -69, -69, -69, -70, -70, -74, -72, -72, -73, -72, -73, -73, -73, -73, -79], [-77, -72, -69, -70, -69, -71, -70, -71, -70, -72, -71, -70, -71, -72, -69, -70, -70, -74, -72, -71, -72, -72, -74, -73, -72, -70, -71, -70, -71, -70, -71, -71, -72, -70, -73, -73, -73, -74, -73, -71, -79], [-79, -69, -67, -66, -67, -67, -68, -67, -68, -68, -67, -68, -68, -68, -69, -67, -64, -64, -70, -67, -68, -68, -69, -67, -68, -68, -68, -67, -82, -71, -69, -68, -69, -68, -69, -69, -70, -70, -67, -64, -67, -65, -66, -64, -67, -65, -66, -66, -65, -74, -71, -71, -69, -67, -68, -68, -72, -72, -72, -81, -70], [-79, -79, -79, -77, -68, -67, -69, -64, -65, -64, -66, -65, -65, -66, -67, -65, -67, -67, -67, -67, -68, -68, -68, -68, -69, -69, -68, -83, -77, -86, -78, -75, -76, -78, -69, -66, -66, -65, -64, -63, -64, -65, -64, -66, -66, -66, -64, -65, -66, -66, -66, -66, -66, -68, -66, -77, -69, -73, -68, -69, -68, -69, -69, -66, -65, -67, -66, -66, -74, -66, -66, -66, -67, -66, -67, -67, -68, -70, -68, -68, -68, -68, -68, -69, -70, -69, -69, -68, -78, -75, -85], [-76, -72, -69, -69, -67, -67, -67, -66, -67, -67, -68, -67, -67, -67, -67, -67, -67, -69, -67, -67, -67, -67, -67, -67, -67, -67, -67, -67, -67, -67, -68, -68, -68, -68, -74, -72, -72, -72, -72, -73, -73, -73, -74, -73, -73, -74, -73, -71, -68, -70, -70, -70, -69, -70, -70, -69, -70, -69, -70, -70, -70, -72, -69, -69, -70, -69, -70, -69, -71, -70, -67, -68, -68, -68, -68, -69, -68, -68, -68, -68, -69, -65, -65, -66, -66, -66, -66, -67, -67, -66, -67, -69, -66, -66, -66, -67, -66, -66, -66, -67, -66, -66, -69, -69, -70, -70, -70, -70, -71, -69, -70, -70, -69, -66, -66, -68, -68, -68, -68, -67, -68, -68, -68, -68, -69, -68, -69, -69, -68, -68, -69, -69, -68, -68, -68, -68, -68, -67, -68, -80, -71, -69, -68, -69, -69, -69, -68, -66, -66, -66, -67, -66, -67, -67, -66, -67, -67, -67, -67, -67, -67, -67, -70, -67, -67, -67, -68, -67, -67, -68, -68, -74, -71, -71, -71, -72, -70, -68, -69, -69, -69, -69, -69, -70, -70, -69, -70, -70, -70, -70, -70, -72, -70, -69, -70, -70, -70, -70, -70, -82, -78, -80, -71, -70, -69, -70, -69, -70, -70, -70, -70, -69, -69, -71, -70, -71, -70, -71, -71, -70, -71, -68, -68, -67, -66, -66, -67, -68, -67, -71, -67, -68, -68, -67, -68, -68, -69, -69, -78, -77, -78, -78, -77, -70, -67, -68, -68, -67, -67, -65, -66, -65, -66, -67, -66, -67, -66, -66, -66, -66, -66, -66, -66, -67, -66, -66, -66, -66, -69, -66, -67, -66, -67, -67, -66, -67, -67, -66, -68, -67, -66, -67, -75], [-71, -69, -69, -69, -69, -70, -70, -70, -67, -64, -67, -66, -66, -66, -66, -67, -68, -68, -67, -66, -74, -91], [-79, -71, -69, -69, -69, -69, -70, -68, -66, -67, -67, -65, -73, -74, -77, -73, -71, -71, -72, -64, -61, -62, -62, -63, -62, -62, -62, -59, -61, -60, -64, -61, -70, -71, -76, -72, -72, -72, -72, -75, -75, -77, -75, -74, -75, -75, -67, -64, -65, -65, -63, -62, -61, -65, -62, -64, -62, -63, -63, -63, -74, -72, -79, -72, -86, -73, -72, -72, -67], [-73, -71, -70, -64, -62, -63, -64, -64, -64, -61, -67, -64, -64, -65, -66, -66, -65, -66, -66, -66, -66, -66, -66, -65, -66, -66, -66, -78, -79, -87, -71, -73, -63, -60, -61, -63, -58, -59, -58, -65, -63, -63, -63, -64, -64, -63, -63, -64, -64, -64, -64], [-71, -73, -72, -72, -72, -66, -63, -64, -64, -65, -63, -63, -65, -64, -65, -65, -66, -65, -66, -66, -67, -66, -65, -65, -66, -72, -69, -69, -69, -68, -68, -66, -65, -65, -64, -65, -65, -66, -65, -65, -65, -66, -66, -66, -65, -66, -66, -67, -67, -67, -73, -69, -69, -70, -70, -70, -71, -71, -68, -66, -88, -66, -66, -68, -67, -68, -69, -69, -68, -69, -69, -68, -77, -73, -74, -68, -66, -67, -65, -69, -67, -67, -68, -68, -68, -68, -76, -73, -73, -73, -73, -73, -72, -72, -69, -67, -67, -66, -72, -68, -68, -69, -69, -70, -68, -69, -69, -70, -70, -70, -69, -69, -69, -70, -70, -77, -75, -75, -74, -74, -74, -74, -82, -71, -66, -69, -67, -67, -67, -68, -69, -70, -69, -71, -69, -70, -70, -70, -70, -71, -69, -70, -70, -70, -78, -75, -76, -76, -75, -76, -68, -67, -67, -66, -68, -66, -66, -66, -66, -66, -66, -67, -66, -66, -68, -68, -67, -67, -67, -75, -72, -72, -73, -73, -72, -73, -88, -69, -71, -69, -68, -69, -69, -70, -70, -69, -69, -71, -70, -71, -70, -70, -70, -71, -78, -76, -76, -76, -77, -70, -67, -65, -66, -66, -65, -69, -67, -67, -67, -68, -68, -68, -67, -67, -68, -69, -68, -68, -67, -68, -68, -75, -73, -72, -72, -73, -74, -69, -68, -68, -68, -69, -71, -71, -72, -72, -72, -71, -72, -71, -72, -73, -72, -74, -72, -73, -77, -76, -76], [-74, -74, -71, -72, -73, -72, -74, -73, -72, -73, -73, -73, -72, -73, -74, -71, -70, -71, -72, -71, -73, -70, -70, -70, -70, -70, -70, -71, -72, -70, -73, -71, -71, -70, -73, -72, -71, -72, -72, -70, -69, -69, -70, -71, -70], [-74, -70, -72, -71, -70, -72, -71, -71, -64, -82, -81, -83, -74, -71, -72, -71, -72, -72, -69, -66, -82, -75, -72, -72, -72, -72, -72, -73]]\n",
      "채널 리스트 :  [11 11 11 ...  6 10 10]\n",
      "\n",
      "Rssi 리스트 :  [-70 -71 -70 ... -79 -73 -72]\n",
      "\n",
      "[[-71, -69, -69, -68, -68, -70, -67, -67, -68, -68, -67, -67, -70, -72, -72, -74, -61, -58, -64, -62, -73, -72, -71, -67, -65, -65, -65, -65, -66, -66, -66, -68, -66, -66, -66, -67, -67, -66, -66, -75, -71, -71, -71, -72, -74, -73, -73, -73, -71, -66, -67, -73, -73, -72, -72, -74, -67, -76, -76, -73], [-73, -72, -73, -72, -72, -63, -60, -61, -63, -60, -60, -60, -60, -61, -60, -61, -62, -61, -62, -62, -63, -62, -62, -62, -61, -67, -67, -66, -68, -68, -72, -72, -71, -71, -63, -60, -60, -60, -61, -60, -61, -61, -63, -61, -61, -63, -61, -64, -61, -63, -63, -61, -62, -62, -61, -61, -63, -62, -62, -67, -75, -74, -76, -68, -65, -64, -64, -65, -65, -65, -65, -65, -65, -64, -65, -64, -65, -65, -67, -66, -66, -64, -72, -72, -74, -68, -64, -65, -65, -66, -67, -63, -64, -64, -64, -65, -64, -66, -65, -67, -65, -67, -66, -66, -65, -66, -74, -71, -70, -77, -78, -77, -72, -70, -66, -67, -68, -67, -68, -68, -66, -68, -66, -66, -66, -68, -66, -66, -67, -67, -67, -67, -69, -68, -73, -73, -75, -74, -74, -74, -73, -73, -66, -63, -63, -63, -64, -63, -63, -64, -63, -64, -64, -63, -63, -64, -64, -64, -73, -68, -64, -66, -64, -65, -67, -66, -66, -66, -63, -65, -66, -66, -66], [-80, -79, -64, -61, -61, -62, -62, -62, -63, -62, -63, -62, -62, -60, -59, -59, -60, -58, -60, -59, -59, -58, -59, -60, -60, -62, -60, -61, -61, -61, -62, -61, -61, -62, -61, -71, -68, -68, -68, -69, -67, -65, -65, -64, -65, -65, -65, -66, -66, -65, -65, -65, -65, -66, -66, -66, -65, -68, -65, -66, -64, -65, -66, -67, -65], [-62, -61, -61, -61, -61, -61, -62, -60, -62, -60, -61, -62, -61, -63, -62, -64, -62, -62, -63, -63, -62, -57, -61, -59, -59, -61, -58, -60, -60, -62, -60, -60, -62, -62, -62, -64, -63, -71, -71, -61, -62, -62, -63, -62, -63, -63, -63, -63, -63, -64, -63, -63, -64, -63, -64, -63, -61, -59, -60, -61, -61, -61, -61, -62, -61, -60, -61, -65, -62, -62, -75, -80, -70, -72], [-70, -70, -66, -67, -70, -69, -69, -68, -69, -69, -70, -65, -64, -64, -65, -65, -66, -65, -64, -66, -64, -62, -67, -69, -67, -68, -68, -70, -69, -68, -68, -69, -70, -70, -69, -66, -65, -67, -59, -60, -61, -61, -60, -62, -60, -62, -60, -61, -59, -68, -65, -65, -65, -66, -64, -65, -65, -66, -78, -74, -71, -65, -64, -65, -65, -69, -66, -66, -66, -66, -68, -68, -67, -67, -68, -67, -67, -75, -64, -62, -62, -62, -61, -64, -66, -63, -64, -64, -64, -63, -63, -63, -63, -62, -62, -64, -69, -66, -66, -67, -67, -66, -67, -67, -67, -67, -68, -76, -76, -76, -72, -70, -70, -65, -62, -63, -62, -62, -63, -61, -62, -63, -61, -60, -62, -62, -62, -61, -61, -64, -64, -66, -61, -62, -62, -64, -61, -64, -61, -62, -62, -63, -62, -65, -64, -64, -67, -68, -65, -65, -67, -66, -65, -65, -67, -75, -74, -87, -84, -74, -69, -66, -68, -66, -67, -66, -67, -67, -65, -67, -67, -67, -67, -67, -68, -71, -71, -72, -82], [-71, -81, -71, -70, -73, -72, -66, -66, -67, -67, -68, -71, -68, -69, -69, -70, -69, -68, -68, -69, -69, -70, -69, -71, -69, -69, -74, -75, -74, -74, -77, -88, -70, -70, -67, -67, -71, -68, -68, -68, -68, -69, -68, -69, -69, -69, -68, -69, -70, -70, -69, -69, -71, -75, -74, -74, -74, -73, -74, -75, -74, -75, -76, -75, -72, -69, -71, -68, -69, -69, -68, -68, -70, -71, -71, -77, -74, -74, -74, -74, -75, -76, -83, -82, -84, -73, -74, -74, -70, -66, -67, -68, -66, -67, -68, -67, -66, -67, -69, -67, -68, -67, -67, -73, -70, -70, -71, -72, -73, -71, -79, -80, -74, -70, -71, -72, -73, -70, -67, -68, -67, -65, -69, -66, -65, -66, -66, -66, -71, -69, -70, -71, -70, -71, -72, -73, -72, -75, -70, -69, -68, -69, -71, -70, -70, -70, -71, -72, -68, -70, -72, -70, -70, -70, -70, -71, -78, -75, -75, -75, -75, -74, -75, -76, -79], [-79, -76, -75, -74, -75, -75, -74, -75, -75, -75, -75, -74, -75, -75, -74, -75, -73, -73, -73, -73, -73, -75, -74, -73, -72, -77, -75, -75, -75, -76, -76, -75, -73, -69, -70, -70, -70, -71, -71, -71, -71, -70, -73, -71, -70, -70, -71, -71, -72, -71, -71, -71, -71, -71, -72, -76, -74, -74, -74, -76, -74, -75, -77, -72, -71, -71, -70, -70, -71, -73, -71, -71, -71, -72, -72, -74, -75, -74, -80, -78, -77, -78, -78, -78, -79, -77, -78], [-70, -67, -69, -69, -68, -67, -67, -68, -69, -69, -67, -67, -67, -67, -67, -68, -69, -70, -78, -78, -76, -73, -73, -74, -73, -73, -74, -73, -72, -70, -70, -71, -71, -70, -70, -71, -74, -71, -71, -73, -73, -72, -73, -79, -79, -79, -77], [-81, -79, -78, -74, -74, -72, -75, -72, -75, -75, -74, -75, -75, -77, -80, -83, -80, -76, -75, -69, -68, -67, -67, -69, -69, -69, -69, -70, -70, -70, -68, -68, -68, -68, -71, -70, -70, -72, -70, -70, -71, -83, -79, -81, -78, -72, -72, -69, -71, -69, -69, -74, -72, -73, -73, -71, -71, -73, -72, -79, -78, -84, -77, -73, -78, -70, -70, -67, -71, -72, -70, -69, -69, -70, -73, -68, -71, -72, -70, -72, -76, -78, -72, -70, -71, -71, -71, -69, -67, -68, -68, -67, -69, -69, -69, -68, -70, -70, -71, -69, -77, -74, -74, -74, -72, -71, -70, -68, -67, -71, -72], [-78, -77, -79, -72, -72, -71, -72, -72, -71, -69, -70, -69, -70, -70, -69, -72, -74, -74, -74, -74, -75, -74, -75, -74, -74, -73, -73, -74, -76, -74, -75, -74, -74, -76, -76, -75, -76, -76, -80, -76, -76, -76, -78, -77, -75, -76, -77, -78, -78, -76, -78, -78, -73, -70, -70, -71, -70, -70, -70, -73, -71, -71, -78, -77, -76, -89, -77, -77, -77, -77, -77, -77, -78, -65, -63, -75, -78, -73, -73, -72, -73, -72, -73, -70, -71, -72, -72, -72, -72, -72, -72, -73, -73, -77, -73, -74, -74, -75, -73, -77, -74, -76, -75, -76, -74, -74, -76, -73, -72], [-70, -71, -70, -71, -70, -67, -70, -71, -71, -70, -71, -70, -70, -71, -71, -71, -70, -73, -71, -71, -71, -75, -71, -71, -72, -72, -72, -72, -72, -73, -72, -72, -72, -70, -71, -69, -70, -70, -71, -71, -71, -72, -72, -71, -72, -72, -73, -71, -71, -77, -77, -70, -68, -67, -70, -70, -70, -69, -69, -71, -70, -70, -71, -69, -70, -70, -67, -67, -68, -77, -75, -76, -76, -73, -71, -71, -72, -71, -72, -71, -72, -73, -73, -72, -72, -72, -72, -69, -69, -69, -70, -70, -70, -71, -72, -72, -72, -72, -73, -73, -73, -72, -73, -72, -73, -71, -68, -68, -69, -69, -76, -73, -73, -73, -74, -74, -75, -71, -69, -69, -70, -68, -68, -68, -70, -69, -71, -70, -70, -70, -70, -70, -67, -68, -69, -70, -70, -69, -69, -69, -69, -75, -76], [-74, -72, -72, -73, -73, -74, -73, -72, -73, -73, -73, -68, -64, -65, -67, -70, -66, -67, -67, -71, -68, -62, -61, -76, -75, -77, -76, -77, -77, -76, -77, -78, -77, -77, -77, -76, -78, -77, -77, -72, -69, -69, -71, -68, -77, -75, -75, -75, -71, -68, -69, -69, -70, -71, -69, -70], [-77, -69, -67, -67, -77, -75, -74, -77, -75, -68, -65, -65, -66, -65, -67, -67, -66, -62, -78, -78, -79, -70, -67, -67, -68, -68, -66, -64, -66, -64, -66]]\n",
      "채널 리스트 :  [11 11 11 ...  5  5  5]\n",
      "\n",
      "Rssi 리스트 :  [-72 -70 -70 ... -65 -65 -65]\n",
      "\n",
      "[[-72, -72, -71, -70, -70, -70, -69, -69, -66, -72, -72, -78, -73, -72, -75, -73, -72, -72, -69, -69, -68, -69, -75, -76, -75, -76, -74, -70, -70, -70, -71, -74, -75, -75, -74, -69, -68, -70, -77, -67, -64, -62, -63, -62, -62, -62, -63, -63, -62, -63, -70, -69, -71], [-71, -70, -70, -70, -62, -60, -59, -60, -64, -61, -61, -62, -63, -62, -63, -64, -63, -76, -75, -76, -76, -70, -67, -68, -68, -69, -68, -70, -69, -68, -71, -68, -66, -68, -69, -68, -74, -75, -75, -75, -74, -68, -65, -65, -66, -66, -67, -66, -66, -66, -66, -66, -64, -66, -65, -64, -66, -65, -66, -65, -66, -66, -67, -70, -75, -74, -75, -74, -73, -75, -66, -63, -75, -66, -64, -64, -65, -65, -65, -64, -66, -65, -64, -64, -63, -63, -64, -63, -65, -65, -65, -64, -63, -64, -64, -64, -69, -71, -69], [-71, -68, -68, -69, -69, -69, -69, -69, -70, -69, -70, -70, -70, -67, -64, -65, -64, -65, -65, -65, -65, -66, -65, -65, -65, -67, -65, -65, -66, -66, -67, -66, -66, -71, -69, -69, -69, -70, -70, -71, -71, -71, -70, -70, -71, -70, -71, -68, -66, -66, -65, -66, -67, -66, -68, -66, -66, -66, -65, -67, -67, -67, -73, -71, -71, -70, -71, -71, -70, -72, -71, -71, -72, -71, -68, -66, -67, -67, -67, -66, -70, -67, -67, -67, -67, -67, -67, -67, -67, -64, -64, -65, -62, -60, -62, -61, -61, -61, -61, -61, -62, -62, -60, -63, -62, -62, -63, -63, -63], [-73, -66, -64, -64, -64, -63, -64, -64, -64, -64, -64, -65, -64, -64, -65, -62, -62, -61, -60, -60, -61, -61, -61, -62, -64, -65, -64, -64, -64, -68, -65, -64, -66, -66, -65, -65, -66, -66, -65, -65, -66, -63, -62, -63, -63, -63, -63, -63, -68, -66, -70, -68, -68, -68, -77, -78, -76, -75, -68, -65, -65, -66, -65, -66, -65, -63, -64, -67, -65, -65, -76, -71, -67, -69, -68, -68, -68, -68, -69, -67, -66, -65, -66, -67, -65, -66, -66, -66, -66, -68, -67, -67, -67, -67, -67, -68, -66, -67, -70, -67, -67, -68, -76, -76, -75], [-75, -72, -82, -68, -67, -66, -67, -66, -66, -65, -68, -67, -71, -69, -69, -68, -68, -68, -76, -77, -77, -78, -69, -68, -68, -67, -68, -68, -68, -68, -68, -83, -73, -74, -81, -67, -66, -63, -64, -66, -66, -66, -66, -66, -65, -65, -65, -64, -65, -65, -65, -66, -63, -63, -70, -67, -67, -68, -67, -69, -68, -67, -68, -85, -71, -71, -74, -73, -71, -66, -63, -64, -64, -64, -62, -64, -64, -62, -69, -66, -67, -66, -68, -67, -65, -66, -66, -68, -68, -66, -66, -66, -67, -66, -67, -67, -66, -68, -77, -73, -74, -74, -74, -74, -75, -76, -75, -68, -67, -67, -67, -66, -68, -67, -68, -67, -67, -67, -75, -72, -72, -74, -72, -68, -64, -66, -66, -65, -66, -66, -65, -65, -64, -66, -66, -67, -64, -64, -69, -66, -65, -67, -66, -65, -65, -67, -66, -68, -65, -66, -66, -72, -72, -74, -83, -75, -73, -71, -67, -64, -64, -65, -66, -66, -66, -67, -64, -66, -65, -65, -65], [-73, -71, -70, -68, -69, -68, -69, -69, -68, -68, -69, -69, -68, -69, -68, -69, -69, -70, -69, -71, -69, -69, -70, -70, -69, -70, -71, -71, -77, -77, -75, -72, -73, -73, -75, -66, -66, -68, -67, -69, -65, -65, -65, -66, -66, -68, -69, -69, -68, -69, -69, -69, -70, -69, -69, -70, -66, -64, -66, -63, -64, -64, -63, -63, -64, -63, -63, -65, -64, -64, -64, -64, -64, -65, -66, -67, -66, -66, -67, -67, -77, -70, -67, -67, -63, -63, -64, -64, -64, -64, -63, -65, -64, -65, -65, -65, -65, -65, -67], [-81, -74, -73, -73, -74, -74, -74, -74, -73, -74, -73, -74, -74, -73, -74, -74, -75, -73, -71, -71, -70, -71, -71, -71, -71, -70, -71, -71, -73, -71, -71, -71, -71, -71, -72, -82, -74, -72, -73, -73, -73, -73, -74, -74, -73, -72, -73, -71, -71, -71, -72, -72, -71, -72, -73, -71, -72, -72, -72, -73, -73, -72, -73, -72, -90, -73, -72, -73, -78, -74, -69, -66, -67, -66, -66, -66, -66, -66, -69, -66, -66, -66, -67, -67, -67, -66, -67, -66, -66, -66, -66, -67, -71, -69, -70, -70, -70, -71, -70, -70, -70, -70, -70, -70, -80, -76], [-79, -80, -79, -79, -82, -73, -71, -71, -71, -72, -75, -73, -72, -71, -72, -72, -71, -69, -70, -71, -69, -71, -70, -71, -73, -71, -72, -69, -69, -70, -70, -70, -70, -71, -71, -70, -70, -70, -70, -71, -71, -71, -70, -70, -70, -71, -71, -71, -71, -71, -70, -70, -71, -69, -68, -69, -67, -67, -68, -68, -69, -68, -68, -68, -72, -70, -70, -70, -72, -71, -76, -76, -68, -68, -67, -69, -68, -68, -69, -68, -68, -67, -67, -68, -68, -67, -68, -71, -69, -69, -68, -73, -70, -78, -78, -71, -70, -70, -71, -71, -70, -70, -71, -71, -70, -70, -71, -72, -71, -70, -69, -69, -70, -70, -70, -70, -74, -72, -73, -73, -73, -73], [-79, -79, -74, -72, -71, -72, -72, -71, -71, -81, -79, -72, -71, -71, -71, -71, -72, -72, -72, -71, -69, -74, -71, -71, -75, -75, -76, -70, -72, -70, -70, -71, -70, -72, -70, -70, -71, -68, -67, -68, -70, -68, -70, -69, -68, -72, -71, -71, -72, -76, -70, -69, -68, -69, -69, -69, -69, -69, -69, -70, -66, -67, -67, -67, -66, -67, -68, -69, -67, -67, -68, -68, -68, -68, -74, -76, -75, -76, -96, -73, -73, -73, -75, -68, -65, -65, -65, -65, -65, -66, -65, -64, -64, -67, -67, -66, -65, -66, -75, -76, -77], [-81, -79, -83, -82, -77, -77, -77, -75, -76, -77, -71, -69, -69, -69, -67, -66, -67, -67, -67, -68, -67, -67, -68, -68, -68, -68, -68, -68, -68, -68, -68, -69, -77, -72, -72, -70, -68, -68, -68, -69, -69, -69, -69, -68, -67, -71, -69, -69, -70, -70, -70, -70, -70, -69, -72, -79, -72, -71, -71, -71, -71, -73, -75, -71, -69, -69, -70, -70, -71, -70, -70, -70, -70, -71, -71, -72, -72, -72, -68, -65, -66, -65, -63, -64, -62, -63, -64, -64, -64, -66, -64, -64, -65, -65, -65, -65, -66, -66, -66, -66, -65, -66, -73, -74, -68, -66, -66, -66, -66, -67, -66, -64, -64, -66, -67, -67, -68, -68, -68, -69, -67, -68, -69, -69, -67, -68, -68, -69, -74, -74], [-72, -70, -70, -70, -70, -71, -70, -70, -70, -70, -70, -71, -70, -71, -72, -71, -71, -71, -74, -71, -70, -71, -71, -71, -68, -67, -66, -79, -73, -72, -71, -77, -70, -72, -72, -70, -67, -67, -68, -67, -68, -68, -69, -69, -68, -68, -68, -68, -70, -66, -66, -66, -67, -66, -73, -66, -65, -66, -66, -71, -69, -69, -70, -69, -68, -67, -67, -68, -69, -67, -67, -67, -68, -68, -68, -67, -68, -68, -69, -68, -71, -66, -67, -66, -67, -67, -76], [-73, -63, -92, -71, -71, -70, -67, -64, -64, -64, -69, -65, -66, -73, -70, -69, -66, -65, -65, -66, -67, -66, -67, -67, -69, -65, -64, -62, -76, -69, -65, -66, -66, -66, -66, -67, -66, -66, -68, -66, -63, -62, -61, -66, -62, -65, -65, -74, -66, -66, -67, -66, -66, -66, -68, -67, -67, -66, -67, -67, -67, -65, -62, -61, -62, -63, -65, -74, -71], [-76, -76, -78, -64, -64, -65, -65, -65, -64, -61, -69, -66, -66, -66, -66, -67, -67, -67, -66, -67, -65, -62, -63, -63, -77, -67, -65, -65, -65, -66, -66, -61, -67, -63, -63, -64, -64, -64, -65, -64, -66, -64, -65, -65, -65, -65, -61, -61, -63]]\n",
      "채널 리스트 :  [11 11 11 ...  6  6  6]\n",
      "\n",
      "Rssi 리스트 :  [-62 -54 -56 ... -52 -52 -53]\n",
      "\n",
      "[[-58, -59, -58, -52, -50, -50, -51, -50, -51, -52, -50, -56, -51, -50, -51, -58, -58, -58, -64, -57, -57, -58, -55, -51, -49, -50, -49, -50, -51, -64, -56, -59, -64, -57, -56, -56, -49, -48, -48, -48, -48, -49, -49, -49, -49, -49, -48, -49, -49, -77, -64, -63, -57, -59, -56, -56, -56, -49, -55, -50, -55, -56, -55, -54, -55, -47, -47, -48, -48, -47, -48, -49, -49, -47, -47, -49, -49, -49, -56, -77], [-59, -60, -60, -60, -49, -52, -47, -47, -48, -51, -49, -50, -49, -50, -55, -50, -50, -50, -50, -51, -63, -64, -76, -56, -54, -49, -49, -49, -48, -56, -48, -49, -48, -48, -53, -50, -51, -51, -51, -52, -56, -51, -57, -64, -59, -59, -60, -59, -50, -47, -48, -51, -49, -50, -50, -51, -56, -55, -59, -63, -88, -89, -90, -52, -50, -50, -53, -44, -44, -50, -45, -51, -50, -45, -45, -44, -45, -48, -51, -46, -47, -46, -59, -60, -61, -59, -61, -61, -58, -59, -58, -53, -52, -52, -49, -52, -47, -57, -49, -49, -54, -51, -64, -63, -58, -58], [-68, -68, -67, -58, -49, -50, -55, -50, -50, -56, -55, -55, -55, -56, -54, -49, -50, -49, -49, -58, -56, -50, -50, -51, -51, -51, -51, -51, -51, -51, -80, -78, -78, -77, -65, -50, -47, -48, -52, -52, -48, -53, -53, -53, -53, -53, -53, -51, -45, -45, -46, -46, -47, -46, -46, -45, -45, -45, -46, -45, -55, -46, -47, -46, -48, -48, -49, -47, -81, -80, -78, -76, -80, -79, -78], [-58, -51, -54, -51, -50, -50, -50, -51, -50, -50, -51, -56, -52, -47, -53, -48, -55, -48, -54, -49, -48, -47, -49, -49, -54, -57, -55, -56, -55, -65, -65, -66, -65, -58, -51, -50, -49, -54, -55, -55, -50, -50, -51, -50, -50, -50, -48, -49, -53, -48, -54, -53, -50, -50, -56, -74, -65, -77, -62, -63, -62, -57, -56, -54, -53, -48, -53, -48, -54, -49, -54, -55, -55, -54, -50, -55, -50, -55, -48, -47, -51, -51, -51, -53, -46, -51, -52, -54, -54, -63, -62, -63, -64, -65, -63, -64, -65, -64, -58, -54, -55, -55, -50, -55, -56, -55, -47, -48, -48, -49, -53, -50, -49, -49, -49, -47, -57, -50, -50, -57, -51, -57, -67, -65], [-66, -63, -54, -52, -51, -57, -51, -53, -52, -57, -52, -52, -52, -51, -57, -57, -59, -53, -54, -52, -54, -55, -56, -56, -51, -61, -55, -59, -60, -60, -60, -60, -60, -60, -68, -63, -50, -53, -49, -48, -49, -48, -53, -47, -48, -48, -57, -56, -56, -55, -55, -56, -57, -57, -56, -64, -66, -65, -66, -66, -70, -66, -59, -63, -64, -53, -52, -51, -51, -51, -51, -51, -51, -52, -58, -51, -51, -51, -60, -55, -54, -58, -60, -60, -60, -59, -60, -59, -60, -73, -60, -60, -60, -66], [-58, -60, -58, -58, -58, -59, -60, -58, -58, -59, -58, -60, -58, -58, -63, -62, -61, -61, -62, -61, -61, -62, -62, -62, -62, -62, -62, -62, -63, -62, -72, -79, -58, -64, -64, -59, -60, -65, -63, -65, -56, -52, -54, -58, -53, -58, -56, -56, -56, -58, -57, -57, -61, -60, -60, -60, -60, -59, -60, -60, -60, -60, -60, -60, -60, -60, -60, -61, -62, -59, -60, -82, -77, -66, -63, -63, -64, -63, -58, -57, -53, -59, -60, -57, -60, -58, -56, -59, -58, -57, -58, -63, -60, -61, -61, -61, -62, -60, -61, -61, -61, -62, -62, -61, -62, -69, -82, -63, -62, -63, -54, -51, -58, -51, -56, -56, -56, -58, -56, -56, -56, -57, -56, -57, -56, -62, -59, -59, -60, -60, -60, -60, -60, -60, -60, -60, -59, -60, -60, -60, -69, -63, -62, -63, -64, -59, -55, -51, -52, -52, -53], [-92, -69, -69, -62, -55, -60, -61, -60, -56, -61, -61, -62, -56, -61, -62, -63, -62, -61, -59, -60, -60, -60, -60, -61, -61, -61, -61, -61, -61, -61, -64, -62, -63, -64, -63, -63, -62, -63, -63, -63, -63, -70, -66, -67, -68, -63, -55, -61, -56, -62, -56, -61, -62, -56, -57, -61, -60, -60, -60, -59, -61, -61, -60, -60, -60, -60, -61, -61, -64, -63, -63, -63, -63, -63, -63, -64, -64, -70, -71, -65, -65, -64, -69, -67, -67, -66, -62, -58, -54, -58, -59, -58, -60, -58, -58, -59, -59, -59, -60, -60, -59, -59, -59, -59, -60, -60, -61, -61, -61, -59, -60, -60, -59, -63, -61, -62, -62, -62, -61, -62, -62, -63, -62, -60, -62, -69, -67], [-91, -67, -68, -67, -67, -67, -62, -60, -60, -61, -60, -61, -60, -61, -61, -60, -60, -61, -60, -59, -58, -58, -58, -57, -57, -58, -58, -58, -59, -57, -57, -53, -58, -57, -82, -69, -68, -68, -69, -69, -65, -61, -62, -62, -61, -62, -63, -61, -61, -60, -59, -60, -69, -60, -60, -60, -62, -56, -60, -59, -78, -82, -86, -69, -67, -68, -69, -67, -68, -68, -63, -60, -61, -61, -62, -62, -60, -61, -61, -61, -60, -62, -61, -61, -62, -62, -62, -60, -60, -60, -58, -58, -58, -58, -59, -59, -59, -61, -58, -60, -59, -59, -86], [-63, -64, -64, -66, -59, -57, -56, -57, -57, -58, -57, -58, -57, -56, -53, -53, -53, -56, -54, -65, -64, -75, -65, -64, -64, -64, -65, -65, -65, -89, -67, -67, -66, -67, -69, -67, -67, -67, -67, -67, -68, -60, -58, -58, -58, -55, -55, -56, -56, -56, -57, -50, -56, -55, -57, -56, -56, -56, -63, -94, -65, -65, -69, -65, -59, -58, -57, -57, -54, -54, -55, -55, -54, -56, -58, -51, -51, -55, -53, -55, -67, -64, -67, -63, -64, -63, -63, -57, -55, -56, -55, -55, -55, -56, -55, -56, -53, -52, -53, -58, -54, -54, -56], [-64, -57, -55, -54, -52, -53, -53, -55, -52, -55, -53, -55, -55, -50, -53, -58, -56, -55, -57, -56, -55, -56, -56, -57, -58, -57, -57, -58, -58, -57, -58, -61, -58, -58, -58, -56, -56, -56, -57, -56, -57, -57, -58, -60, -58, -59, -60, -60, -59, -59, -60, -59, -59, -59, -60, -59, -59, -57, -57, -66, -62, -62, -58, -56, -57, -54, -54, -54, -55, -54, -55, -54, -55, -54, -54, -59, -56, -57, -57, -57, -57, -57, -58, -58, -58, -58, -58, -57, -58, -66], [-62, -54, -56, -58, -58, -59, -59, -60, -58, -59, -58, -60, -60, -60, -60, -60, -60, -60, -65, -62, -62, -63, -62, -63, -63, -63, -63, -63, -60, -54, -55, -55, -59, -55, -60, -59, -56, -57, -57, -57, -58, -57, -56, -58, -58, -59, -57, -58, -58, -58, -58, -61, -59, -54, -58, -54, -58, -57, -57, -57, -56, -56, -57, -57, -57, -58, -58, -59, -58, -58, -59, -61, -59, -60, -60, -60, -64, -64, -60, -58, -58, -57, -55, -58, -59, -56, -57, -56, -57, -58, -57, -57, -57, -57, -58, -58, -57, -58, -62, -60, -59, -60, -60, -60, -70, -68, -68, -65, -61, -58, -59, -59, -58, -59, -60, -55, -58, -56, -58, -58, -57, -58, -58, -57, -57, -58, -59, -62, -59, -61, -60, -61, -61], [-61, -59, -60, -60, -61, -62, -61, -60, -60, -61, -62, -61, -62, -60, -61, -59, -59, -59, -60, -60, -59, -66, -63, -63, -59, -59, -60, -60, -60, -67, -63, -70, -71, -68, -66, -68, -62, -60, -59, -60, -60, -60, -61, -60, -60, -60, -62, -61, -61, -60, -60, -59, -59, -59, -59], [-68, -81, -69, -69, -68, -68, -69, -66, -64, -62, -63, -63, -64, -64, -65, -63, -62, -64, -62, -69, -70, -68, -65, -69, -69, -67, -68, -68, -70, -69, -70, -70, -70, -64, -62, -64, -64, -61, -61, -64, -69, -67, -67, -68, -68, -67, -67, -68, -68, -70, -79, -63, -61, -62, -61, -61, -61, -62, -59]]\n",
      "채널 리스트 :  [9 9 9 ... 2 2 2]\n",
      "\n",
      "Rssi 리스트 :  [-75 -75 -72 ... -66 -72 -69]\n",
      "\n",
      "[[-66, -66, -65, -65, -65, -62, -63, -63, -63, -64, -63, -65, -65, -63, -71, -64, -64, -64, -64, -72, -74, -73, -75, -72, -65, -65, -65, -65, -64, -65, -62, -62, -63, -63, -64, -64, -63, -64, -63, -63, -72, -72, -72, -72, -67, -66, -65, -66, -67, -63, -63, -63, -65, -64, -64, -64, -65, -63, -64, -65, -65, -65, -65, -74, -72, -75, -79, -74, -74], [-67, -67, -67, -66, -66, -63, -61, -60, -61, -62, -61, -62, -61, -62, -61, -61, -63, -62, -63, -62, -68, -67, -66, -67, -67, -67, -76, -68, -68, -80, -94, -93, -94, -67, -66, -66, -63, -62, -59, -59, -60, -60, -60, -61, -68, -66, -66, -65, -66, -67, -67, -67, -68, -66, -67, -67, -67, -67, -67, -68, -68, -68, -67, -66, -79, -66, -66, -65, -63, -62, -62, -63, -63, -69, -67, -66, -77, -70, -70, -69, -67, -67, -63, -63, -64, -65, -65, -65, -66, -72, -69], [-77, -78, -69, -65, -66, -66, -66, -67, -68, -66, -67, -67, -68, -67, -71, -68, -68, -68, -69, -69, -69, -69, -69, -74, -71, -72, -74, -72, -72, -72, -79, -77, -78, -77, -70, -69, -68, -68, -69, -75, -65, -62, -64, -63, -63, -64, -63, -64, -63, -63, -64, -65, -64, -64, -63, -63, -67, -65, -65, -65, -65, -66, -65, -72, -68, -69, -69, -69, -69, -70, -70, -71, -70, -76, -73, -65, -62, -64, -63, -63, -63, -63, -63, -64, -63, -63, -66, -63, -63, -64, -64, -65, -64, -64, -65, -64, -65, -65, -69, -67, -66, -67, -66, -67, -67, -68, -67, -66, -66, -66, -66, -66, -68, -66, -66, -66, -66, -67, -67, -68, -67, -67, -67, -67, -68, -68, -73, -68, -69, -69, -69, -70, -70, -71, -70, -69, -77, -76], [-75, -73, -72, -72, -72, -72, -72, -72, -66, -65, -64, -66, -65, -64, -65, -66, -64, -67, -64, -64, -65, -68, -70, -77, -75, -72, -71, -72, -72, -72, -71, -72, -73, -68, -65, -65, -65, -65, -66, -66, -67, -68, -64, -64, -64, -65, -73, -72, -69, -70, -70, -70, -71, -71, -71, -71, -71, -64, -64, -66, -65, -65, -65, -66, -66, -65, -66, -65, -64, -65, -70, -70, -70, -69, -71, -70, -79, -74, -74, -85, -75, -75, -75, -75, -75, -71, -69, -68, -68, -69, -69, -69, -68, -66, -75, -74, -69, -69, -69, -68, -65, -65, -66, -66, -66, -67, -67, -67, -66, -67, -67, -65, -71, -70, -72, -72, -72, -71, -69, -69, -69, -70, -70, -70, -71, -70, -71, -69, -69, -76, -74], [-95, -82, -68, -66, -66, -66, -66, -67, -67, -67, -67, -63, -62, -62, -64, -63, -63, -64, -64, -64, -64, -64, -64, -75, -71, -72, -80, -70, -69, -69, -68, -67, -66, -67, -68, -66, -73, -73, -70, -71, -73, -77, -79, -79, -67, -68, -69, -68, -68, -65, -65, -64, -67, -65, -78, -77, -74, -78, -77, -76, -74, -77], [-77, -68, -66, -66, -66, -64, -64, -65, -64, -65, -66, -65, -65, -64, -64, -65, -65, -64, -65, -69, -67, -67, -68, -68, -68, -68, -69, -69, -67, -68, -68, -80, -78, -79, -77, -78, -79, -77, -69, -67, -67, -69, -66, -66, -66, -66, -67, -67, -67, -67, -66, -73, -70, -70, -71, -71, -71, -71, -72, -71, -71, -71, -72, -74, -79, -78, -79, -76, -70, -68, -69, -68, -68, -67, -67, -68, -68, -70, -68, -68, -68, -68, -69, -68, -71, -73, -70, -70, -72, -72, -72, -72, -73, -73, -72, -81, -82, -81], [-70, -66, -67, -67, -67, -69, -69, -65, -69, -67, -67, -70, -69, -69, -69, -70, -67, -69, -69, -68, -70, -69, -70, -69, -71, -69, -70, -69, -65, -66, -65, -66, -66, -66, -66, -66, -66, -66, -66, -67, -66, -66, -67, -70, -68, -67, -68, -67, -68, -68, -70, -69, -69, -71, -69, -70, -72, -73, -72, -72, -69, -70, -69, -70, -70, -71, -71, -71, -71, -72, -70, -70, -72, -72, -72, -71, -72, -75, -70, -71, -71, -74, -71, -71, -72, -72, -71, -70, -70, -70, -69, -70, -71, -71, -71, -70, -70, -70, -69, -71, -71, -70, -71, -71, -70, -70, -71, -71, -72, -71, -71, -71, -72, -70, -70, -72, -73, -70, -72, -70, -71, -70, -72, -71, -72], [-77, -71, -69, -70, -70, -71, -71, -70, -71, -70, -70, -70, -70, -71, -70, -68, -65, -66, -67, -66, -67, -67, -67, -68, -66, -66, -67, -67, -78, -78, -76, -69, -69, -70, -70, -70, -70, -68, -66, -67, -66, -67, -67, -66, -68, -65, -66, -73, -76, -73, -72, -71, -71, -72, -72, -72, -73, -73, -72, -72, -73, -72, -73, -73, -73, -73, -69, -67, -68, -68, -68, -67, -68, -68, -68, -67, -69, -67, -68, -67, -69, -68, -68, -67, -67, -68, -68, -72, -79, -77, -72, -71, -70, -71, -71, -71, -71, -83, -71, -71, -71, -72, -68, -66, -66, -67, -67, -67, -67, -68, -68, -67, -67, -67, -68, -67, -65, -66, -76, -76, -79, -79, -81, -73, -81, -70, -72, -71, -71, -72, -71, -71, -71, -71, -72, -72, -67, -64, -66, -66, -67, -64, -65, -65, -66, -67, -64, -64, -64, -64, -66, -65, -64, -65, -65, -65, -81, -81, -82, -82, -83, -75, -73, -74, -74, -74, -74, -75, -75, -70, -69, -67, -67, -68, -68, -68, -67, -85, -87], [-75, -75, -72, -70, -71, -71, -71, -70, -70, -71, -70, -72, -78, -79, -78, -79, -81, -75, -80, -70, -68, -66, -70, -70, -82, -89, -76, -68, -65, -65, -66, -65, -66, -67, -64, -62, -62, -62, -66, -64, -63, -64, -64, -63, -78, -72, -76, -73, -75, -77, -70, -72, -67, -62, -76, -76, -74, -73, -73, -65, -64, -63, -64, -64, -64, -64, -64, -64, -64, -63, -59, -60, -61, -62, -63, -62, -61, -62, -62, -63, -64, -63, -62, -81, -65, -63, -63, -64, -64, -64, -79, -79, -75, -78, -78, -77, -69, -65, -66, -67, -66, -67, -66, -67, -66, -66, -63, -64, -65, -64, -64, -77, -64, -65, -64, -76, -71], [-65, -64, -64, -64, -62, -61, -63, -62, -62, -62, -62, -62, -65, -63, -64, -63, -64, -64, -63, -65, -63, -64, -64, -65, -64, -64, -65, -64, -66, -73, -74, -68, -65, -66, -68, -65, -66, -66, -66, -66, -66, -66, -66, -66, -66, -69, -67, -67, -67, -67, -68, -69, -67, -68, -68, -68, -69, -69, -69, -69, -68, -72, -66, -64, -64, -64, -62, -63, -62, -63, -89, -63, -64, -64, -65, -65, -65, -64, -66, -65, -66, -66, -66, -65, -65, -73, -66, -66, -66, -67, -66, -66, -66, -67, -67], [-67, -64, -65, -64, -65, -65, -65, -66, -62, -64, -64, -63, -64, -62, -63, -64, -63, -64, -64, -64, -64, -63, -68, -66, -65, -66, -69, -66, -67, -68, -67, -67, -66, -65, -64, -66, -65, -66, -67, -66, -66, -66, -67, -66, -66, -70, -67, -67, -67, -87, -85, -66, -64, -65, -63, -65, -65, -64, -64, -64, -64, -66, -62, -68, -68, -66, -65, -66, -65, -66, -66, -67, -64, -65, -65, -66, -65, -64, -65, -65, -65, -65, -66, -65, -71, -68, -68, -69], [-76, -76, -77, -70, -68, -68, -69, -69, -68, -68, -68, -70, -69, -71, -67, -68, -68, -70, -69, -74, -66, -66, -68, -68, -67, -67, -69, -66, -65, -66, -66, -75, -74, -74, -84, -72, -73, -65, -67, -66, -66, -67, -67, -65, -68, -68, -66, -69, -66, -67, -66, -67, -74, -71, -74, -75, -68, -66, -67, -67, -68, -75, -73, -73], [-76, -76, -74, -75, -76, -73, -71, -72, -71, -68, -69, -73, -74, -75, -75, -74, -71, -68, -76, -78, -77, -76, -76, -76, -78, -73, -71, -68, -68, -76, -76, -78, -77, -77, -77, -73, -71, -70, -70, -67, -67, -68, -68]]\n",
      "\n",
      "수신기 :  3\n",
      "\n",
      "채널 리스트 :  [ 8  8  8 ... 11 11 11]\n",
      "\n",
      "Rssi 리스트 :  [-77 -77 -75 ... -77 -76 -76]\n",
      "\n",
      "[[-70, -70, -69, -68, -68, -67, -67, -67, -67, -67, -68, -68, -68, -68, -69, -68, -73, -76, -69, -69, -69, -67, -66, -66, -66, -65, -65, -66, -67, -75, -74, -75, -69, -69, -69, -68, -68, -66, -65, -65, -66, -66, -67, -65, -66, -65, -66, -72, -71, -68, -67, -68, -69, -69, -67, -78, -84, -76, -91, -71, -72, -70, -69, -70, -68, -67, -68, -68, -68, -68, -69, -69, -68, -68, -68, -77, -72, -72, -70, -68, -66, -67, -68, -68, -68, -68, -68, -67, -68, -68, -69, -74, -73, -72, -72, -71, -69, -69, -67, -69, -68, -69, -69, -68, -68, -68, -69, -69, -79, -78, -78, -77, -82, -78, -77, -70, -70, -70, -70, -70, -67, -67, -68, -65, -66, -65, -67, -67, -67], [-71, -70, -70, -70, -67, -65, -64, -64, -65, -67, -65, -65, -66, -66, -67, -66, -74, -66, -66], [-82, -69, -66, -67, -67, -67, -66, -67, -67, -68, -67, -68, -67, -67, -65, -65, -66, -65, -66, -66, -65, -66, -66, -65, -65, -65, -66, -69, -65, -67, -66, -67, -76, -71, -68, -68, -69, -70, -69, -69, -69, -69, -66, -67, -67, -66, -66, -66, -67, -68, -67, -67, -70, -69, -68, -69, -69, -68, -68, -76, -71, -69, -69, -68, -68, -69, -70, -70, -70, -70, -70, -70, -69, -66, -66, -67, -69, -68, -68, -67, -68, -68, -67, -68, -70, -67, -68, -69, -69, -68, -69, -63, -61, -61, -61, -72, -69, -69, -69, -69, -69, -70, -70, -70, -70, -70, -69, -69, -68, -68, -68, -68, -68, -68, -69, -69, -68, -69, -68, -68, -72, -68, -69, -70, -69, -70, -68, -70, -70, -72, -69, -69, -69, -70, -70, -69, -70, -70, -70, -69, -69, -69, -69, -68, -68, -69, -67, -68, -69, -68, -69, -68, -68, -67, -69, -68, -68, -70, -69, -68, -68, -69, -69, -70, -69, -70, -73, -72, -72, -71, -72, -72, -73, -72, -72, -72, -72, -72, -71, -69, -69, -70, -70, -70, -70, -70, -71, -69, -70, -70, -70, -76], [-78, -77, -70, -68, -68, -69, -68, -69, -68, -70, -69, -69, -68, -68, -70, -69, -65, -65, -66, -67, -66, -66, -66, -68, -67, -66, -67, -67, -67, -67, -73, -75, -71, -67, -66, -69, -68, -76], [-67, -65, -65, -65, -65, -65, -66, -66, -65, -61, -64, -65, -63, -68, -66, -66, -66, -66, -66, -76, -74, -73, -67, -65, -65, -65, -64, -63, -64, -72, -65, -65, -69, -65, -66, -65, -66, -66, -67, -66, -74, -74, -76, -76, -94, -75, -67, -64, -65, -65, -65, -66, -66, -65, -64, -64, -65, -66, -66, -66, -67, -67, -66, -66, -66, -67, -67, -66, -67, -66, -66, -76, -78, -77, -77, -69, -67, -67, -67, -68, -69, -68, -69, -68, -68, -68, -70, -66, -66, -67, -67, -67, -70, -68, -67, -68, -69, -69, -68, -69, -69, -78, -78, -75, -78, -70, -67, -67, -67, -68, -68, -67, -68, -69, -67, -68, -67, -65, -65, -65, -66, -66, -78, -76, -76, -79, -77, -69, -66, -66, -66, -67, -67, -67, -68, -67, -67, -67, -68, -68, -94, -92, -78, -77, -69, -66, -66, -66, -67, -67, -67, -67, -66, -67, -67, -67, -63, -64, -63, -69, -66, -67, -67, -66, -66, -66, -67, -67, -66, -68, -67, -67, -78, -76], [-75, -74, -73, -67, -64, -64, -65, -65, -65, -67, -64, -64, -65, -65, -65, -65, -65, -65, -69, -68, -69, -69, -69, -69, -69, -69, -77, -77, -68, -69, -69, -68, -69, -69, -69, -69, -70, -69, -69, -79, -78, -77, -74, -74, -73, -68, -65, -64, -66, -67, -74, -66, -67, -65, -65, -66, -64, -64, -66, -66, -66, -66, -66, -66, -65, -66, -67, -66, -68, -66, -66, -66, -66, -66, -67, -71, -69, -70, -69, -70, -70, -77, -68, -66, -66, -66, -71, -70, -70, -70, -70, -69, -70, -71, -70, -70, -70, -70, -70, -72, -71, -72, -71, -70, -70, -70, -69, -65, -67, -66, -67, -65, -65, -65, -66, -67, -66, -66, -65, -66, -66, -66, -67, -67, -70, -69, -69, -69, -69, -70, -71, -80, -78, -80, -76, -65, -66, -67, -66, -68, -67, -66, -65, -65, -67, -67, -67, -66, -66, -65, -66, -66, -66, -67, -68, -66, -67, -67, -71, -70, -70, -70, -69, -70, -69, -70, -79, -79, -79, -78, -79], [-77, -76, -78, -71, -69, -70, -69, -70, -70, -69, -72, -69, -70, -70, -69, -69, -70, -70, -70, -69, -69, -70, -69, -70, -76, -72, -70, -70, -69, -70, -70, -70, -70, -71, -71, -70, -70, -70, -70, -70, -71, -70, -71, -70, -70, -71, -70, -71, -76, -73, -73, -73, -73, -74, -74, -72, -71, -71, -73, -72, -73, -72, -73, -72, -72, -72, -73, -72, -73, -72, -72, -74, -72, -72, -73, -72, -73, -73, -73, -77, -75, -75, -76, -75, -75, -72, -69, -68, -69, -70, -69, -70, -71, -70, -69, -69, -69, -72, -69, -70, -69, -71, -69, -71, -71, -70, -70, -70, -70, -70, -76, -74, -74, -74, -74, -74, -74, -74], [-77, -77, -75, -73, -74, -74, -74, -75, -75, -73, -73, -74, -74, -73, -74, -74, -75, -74, -73, -73, -72, -72, -73, -72, -72, -73, -73, -75, -74, -76, -75, -74, -74, -74, -71, -72, -77, -75, -75, -77, -73, -74, -77, -75, -75, -79, -73, -70, -70, -69, -71, -72, -71, -70, -71, -70, -70, -70, -69, -70, -74, -71, -72, -81, -78, -73, -71, -72, -72, -72, -73, -72, -72, -71, -72, -72, -72, -73, -72, -72, -70, -70, -71, -70, -71, -70, -70, -75, -80, -79, -79, -78, -79, -79, -84, -82, -82, -81, -81, -83, -82, -81, -81, -91, -87], [-78, -78, -74, -73, -72, -72, -72, -72, -73, -73, -84, -73, -72, -71, -75, -74, -79, -79, -79, -80, -82, -81], [-68, -64, -60, -57, -80, -66, -70, -66, -60, -59, -58, -79, -76, -77, -76, -74, -74, -74, -75, -75, -76, -76, -76, -77, -76, -76, -75, -77, -83, -77, -78, -77, -76, -75, -74, -74, -72, -74, -75, -75, -75, -76, -77, -74, -74, -76, -75, -75, -74, -73, -73, -72, -71, -73, -73, -71, -74, -73, -73, -73, -74, -80, -81, -76, -74, -74, -74, -72, -72, -73, -73, -73, -74, -73, -74, -75, -79, -76, -76, -76, -76, -74, -73, -74, -74, -73, -77, -77, -76, -77, -78, -77, -77, -78, -78, -78, -78, -78, -86, -78, -77, -75, -74, -76, -76, -76, -76, -79, -77, -77, -79, -75, -75, -77, -76, -76, -73, -72, -73, -77, -76, -75, -75, -75, -77, -79, -75, -74, -73, -74, -74, -74, -74, -74, -75, -75, -74, -73, -71, -71, -74, -74, -74, -84, -81, -82, -75, -75, -75, -73, -72, -74, -73, -75, -74, -75, -75, -75, -76, -75, -76, -75, -75, -81], [-78, -78, -78, -75, -75, -75, -72, -76, -76, -76, -76, -76, -76, -77, -76, -77, -75, -76, -77, -76, -77, -76, -76, -79, -78, -77, -76, -77, -80, -79, -80, -80, -81, -79, -77, -76, -77, -75, -77, -77, -76, -76], [-76, -77, -77, -77, -77, -76, -76, -76, -77, -78, -77, -78, -77, -78, -75, -74, -76, -77, -75, -72, -72, -73, -72, -74, -73, -73, -73, -75, -72, -74, -75, -74, -74, -75, -72, -72, -73, -72, -72, -72, -73, -76, -74, -75, -76, -74, -74, -75, -75, -75, -75, -74, -75, -75, -76, -75, -76, -76, -75, -72, -69, -74, -78, -75, -75, -78, -75, -74, -75, -76, -76, -75, -76, -76, -76, -77, -77, -75, -75, -74, -75, -74, -74, -74, -79, -77, -78, -78, -78, -74, -72, -72, -73, -74, -74, -74, -72, -73, -74, -81, -77, -78, -81, -78, -77, -76, -76, -77, -78, -76, -77, -76, -77, -78, -77, -77, -78, -75, -76, -79], [-82, -74, -76, -72, -73, -74]]\n",
      "채널 리스트 :  [10 10 10 ...  9  9  9]\n",
      "\n",
      "Rssi 리스트 :  [-71 -65 -63 ... -67 -67 -67]\n",
      "\n",
      "[[-66, -66, -65, -63, -61, -62, -61, -61, -63, -61, -62, -62, -70, -69, -72, -70, -71, -70, -70, -68, -67, -67, -67, -65, -64, -63, -62, -74, -72, -75, -67, -67, -66, -65, -65, -65, -64, -63, -62, -70, -71, -70, -68, -65, -63, -62, -62, -63, -63, -63, -64, -73, -70, -71, -66, -65, -65, -66, -65, -64, -60, -61, -60, -60, -61, -62, -62, -63, -69, -68, -74, -66, -65, -66, -65, -63, -64, -64, -63, -60, -60, -69, -69, -77, -72], [-69, -69, -69, -65, -67, -67, -68, -63, -60, -62, -62, -61, -66, -63, -63, -64, -65, -65, -65, -65, -64, -65, -65, -70, -67, -63, -65, -64, -65, -65, -64, -65, -65, -63, -64, -64, -65, -65, -66, -65, -69, -66, -67, -67, -67, -66, -67, -80, -76, -89, -69, -69, -69, -68, -63, -62, -61, -62, -62, -61, -61, -63, -62, -61, -63, -62, -67, -64, -65, -64, -65, -65, -65, -65, -66, -65, -65, -66, -73, -72, -74, -74], [-68, -64, -64, -64, -65, -65, -64, -65, -67, -64, -65, -64, -65, -65, -67, -65, -65, -66, -65, -65, -67, -66, -66, -73, -71, -71, -71, -71, -71, -70, -70, -71, -77, -78, -66, -64, -65, -65, -65, -66, -67, -66, -67, -65, -68, -66, -67, -64, -64, -64, -67, -68, -67, -74, -71, -71, -71, -72, -72, -73, -72, -73, -68, -67, -66, -66, -67, -66, -66, -68, -67, -67, -67, -63, -66, -68, -67, -68, -67, -67, -75, -73, -73, -73, -73, -76, -66, -63, -66, -64, -62, -63, -63, -64, -65, -64, -65, -65, -65, -65, -66, -67, -66, -66, -65, -69, -69, -69, -69, -70, -70, -68, -69, -69, -70, -70, -69, -66, -63, -62, -64, -63, -64, -64, -63, -64, -64, -64, -65, -63, -63, -64, -63, -64, -64, -64, -64, -64, -64, -64, -62, -62, -62, -67, -69], [-73, -72, -72, -72, -73, -73, -73, -73, -74, -73, -73, -73, -74, -74, -71, -69, -69, -69, -69, -69, -70, -70, -70, -70, -69, -75, -76, -77, -72, -70, -69, -69, -69, -70, -69, -69, -70, -70, -70, -70, -70, -71, -72, -73, -70, -70, -71, -69, -71, -70, -71, -71, -72, -70, -71, -75, -79, -66, -64], [-81, -82, -81, -83, -74, -71, -71, -71, -72, -72, -72, -72, -74, -71, -71, -71, -67, -67, -68, -68, -68, -69, -69, -67, -67, -63, -65, -65, -65, -63, -64, -65, -71, -72, -71, -78, -72, -70, -70, -70, -70, -71, -69, -67, -67, -68, -68, -71, -68, -67, -68, -69, -67, -68, -68, -67, -68, -75, -76, -73, -71, -71, -70, -71, -72, -70, -68, -67, -66, -67, -68, -69, -67, -67, -68, -69, -69, -68, -67, -68, -68, -70, -69, -74, -74, -77, -78, -80, -78, -72, -71, -71, -70, -71, -71, -71, -71, -72, -71, -71, -71, -72, -72, -72, -72, -72, -71, -71, -67, -66, -68, -69, -67, -67, -69, -68, -71, -67, -67, -67, -68, -67, -69, -68, -68, -68, -68, -68, -67, -75, -76, -69, -67, -67, -68, -68, -68, -68, -69, -69, -67, -68, -65, -65, -66, -66, -66, -67, -65, -70, -66, -66, -67, -67, -66, -66, -66, -67, -74, -74, -75, -73, -75], [-93, -79, -75, -67, -65, -65, -65, -66, -65, -65, -65, -63, -62, -63, -62, -63, -63, -63, -63, -62, -62, -62, -65, -63, -63, -63, -63, -64, -64, -64, -64, -63, -72, -79, -78, -78, -80, -82, -72, -69, -69, -68, -66, -66, -66, -66, -67, -68, -67, -68, -66, -66, -67, -67, -67, -68, -68, -68, -68, -67, -70, -69, -68, -69, -68, -69, -78, -77, -66, -66, -66, -67, -66, -64, -65, -65, -65, -65, -64, -65, -65, -68, -66, -66, -67, -66, -67, -67, -67, -75, -74, -73, -68, -67, -78, -76, -72, -79, -77, -75, -77, -68, -65, -65, -65, -65, -66, -66, -62, -63, -63, -63, -64, -64, -64, -64, -63, -65, -66, -65, -68, -64, -64, -66, -67, -65, -66, -66, -72, -88, -75, -77, -76, -67, -65, -66, -66, -66, -66, -66, -66, -67, -65, -63, -63, -63, -63, -64, -63, -65, -65, -63, -67, -65, -65, -65, -65, -65, -73], [-76, -76, -70, -67, -67, -67, -68, -68, -68, -68, -68, -66, -66, -65, -65, -65, -65, -65, -65, -66, -65, -66, -68, -66, -66, -67, -67, -67, -67, -67, -76, -74, -91, -70, -67, -67, -68, -68, -68, -68, -68, -69, -68, -64, -67, -66, -65, -66, -66, -67, -66, -69, -67, -67, -68, -68, -68, -67, -68, -77], [-89, -77, -76, -76, -78, -78, -81, -69, -68, -67, -69, -68, -69, -70, -69, -70, -68, -66, -66, -65, -67, -66, -68, -65, -65, -66, -66, -66, -78, -78, -67, -66, -66, -66, -66, -66, -66, -66, -67, -66, -64, -64, -65, -64, -65, -64, -65, -64, -67, -66, -65, -65, -69, -67, -66, -66, -67, -67, -67, -67, -67, -67, -68, -67, -67, -65, -65, -65, -65, -65, -65, -67, -69, -67, -68, -68, -67, -68, -68, -68, -68, -76, -77, -70, -68, -67, -67, -67, -68, -69, -67, -65, -66, -65, -67, -66, -66, -66, -67, -69, -68, -68, -67, -67, -67, -68, -68, -69, -72, -73, -73, -67, -65, -64, -64, -65, -65, -65, -63, -63, -63, -64, -64, -64, -64, -63, -67, -66, -65, -66, -66, -66, -67, -64, -66, -66], [-73, -66, -66, -66, -66, -65, -67, -66, -66, -66, -64, -64, -65, -66, -68, -67, -66, -66, -68, -67, -66, -66, -67, -72, -72, -73, -75, -74, -71, -73, -71, -73, -74, -66, -64, -65, -64, -64, -65, -66, -66, -64, -65, -63, -62, -63, -64, -65, -64, -63, -64, -65, -63, -73, -72, -71, -72, -65, -64, -65, -64, -65, -64, -65, -65, -64, -63, -62, -62, -62, -63, -62, -65, -63, -63, -63, -64, -63, -71, -72, -72, -89, -75, -73, -73, -75, -72, -67, -65, -66, -65, -66, -66, -65, -67, -62, -64, -64, -65, -75, -70, -67, -67, -67], [-71, -65, -63, -64, -64, -64, -62, -61, -61, -62, -63, -64, -63, -66, -64, -65, -65, -65, -66, -65, -65, -65, -65, -66, -66, -65, -65, -66, -66, -67, -73, -87, -74, -65, -65, -62, -63, -62, -63, -63, -66, -65, -66, -66, -65, -65, -65, -65, -66, -66, -66, -66, -65, -66, -75, -73, -75, -83, -65, -63, -63, -64, -63, -63, -64, -61, -61, -62, -61, -62, -67, -63, -64, -64, -64, -65, -65, -65, -65, -65, -65, -74, -85, -65, -63, -63, -63, -63, -71, -63, -61, -60, -61, -64, -63, -64, -64, -63, -63, -63, -64, -64, -76, -65, -92, -88, -69, -67, -67, -67, -67, -67, -64, -65, -65, -64, -66, -65, -66, -65, -66, -66, -67, -70, -68, -68, -68, -69, -68, -68, -68, -69, -68, -65, -66, -66, -66, -67, -67, -68, -67, -68, -67, -68, -71, -68], [-68, -67, -66, -67, -66, -67, -67, -67, -68, -66, -68, -68, -65, -66, -65, -67, -66, -65, -65, -67, -67, -67, -67, -67, -67, -67, -73, -71, -72, -73, -71, -70, -71, -70, -71, -67, -67, -67, -67, -68, -67, -68, -69, -66, -66, -67, -67, -67, -67, -67, -68, -68, -68, -67, -67, -68, -67, -69, -73, -73, -73], [-71, -69, -69, -70, -68, -69, -69, -70, -68, -69, -69, -71, -74, -69, -69, -69, -68, -68, -69, -69, -71, -69, -68, -69, -68, -68, -69, -70, -73, -72, -70, -72, -69, -71, -69, -78, -70, -72, -70, -69, -72, -70, -69, -70, -71, -72, -71, -71, -70, -70, -73, -69, -69, -75, -70, -68, -69, -70, -70, -69, -68, -69, -68, -69, -67, -73, -72, -70, -69, -69, -70, -76, -72], [-79, -78, -78, -79, -79, -70, -69, -70, -66, -79, -71, -72, -72, -72, -73, -72, -69, -68, -76, -74, -73, -74, -74, -72, -74, -71, -72]]\n",
      "채널 리스트 :  [1 1 1 ... 4 4 8]\n",
      "\n",
      "Rssi 리스트 :  [-65 -64 -64 ... -67 -66 -70]\n",
      "\n",
      "[[-65, -64, -64, -60, -58, -59, -59, -59, -60, -60, -61, -59, -60, -60, -60, -62, -61, -61, -60, -66, -66, -66, -66, -66, -67, -64, -65, -64, -63, -63, -62, -62, -60, -60, -61, -61, -61, -61, -61, -62, -62, -61, -68, -67, -63, -62, -62, -62, -63, -62, -64, -63, -63, -68, -68, -84, -65, -65, -64, -64, -63, -64, -63, -61, -63, -63, -61, -60, -62, -78, -67], [-67, -67, -67, -65, -65, -60, -59, -59, -59, -58, -59, -59, -58, -59, -58, -59, -59, -59, -61, -60, -60, -60, -60, -61, -60, -61, -60, -60, -61, -60, -67, -67, -66, -66, -65, -61, -59, -59, -59, -59, -59, -61, -60, -59, -62, -60, -60, -60, -60, -61, -61, -60, -61, -60, -60, -61, -62, -62, -68, -69, -68, -68, -67, -61, -60, -60, -59, -60, -60, -60, -61, -60, -62, -62, -61, -61, -62, -62, -61, -63, -61, -62, -62, -62, -62, -89, -62, -60, -60, -60, -60, -60, -60, -61, -60, -62, -62, -63, -62, -61, -61, -61, -62, -61, -62, -62, -62, -61, -62, -75, -68, -69], [-66, -64, -63, -64, -64, -64, -65, -63, -65, -63, -64, -65, -64, -64, -65, -62, -60, -60, -62, -61, -61, -63, -61, -62, -61, -61, -60, -64, -61, -62, -62, -61, -63, -62, -63, -63, -63, -64, -63, -72, -69, -69, -84, -65, -63, -62, -63, -64, -64, -63, -63, -64, -63, -63, -64, -63, -64, -62, -59, -61, -61, -61, -60, -61, -60, -61, -61, -62, -61, -62, -61, -61, -60, -61, -61, -62, -62, -68, -77, -63, -60, -61, -61, -61, -61, -60, -58, -58, -59, -59, -59, -60, -59, -59, -58, -58, -62, -59, -58, -60, -59, -59, -59, -60, -59, -60, -59, -59, -59, -60, -60, -81], [-69, -62, -61, -60, -60, -60, -61, -61, -60, -59, -59, -58, -58, -57, -58, -58, -58, -58, -61, -59, -60, -91, -63, -61, -62, -61, -62, -62, -63, -63, -62, -62, -62, -60, -60, -58, -59, -60, -60, -59, -59, -60, -64, -60, -62, -61, -61, -62, -61, -64, -63, -63, -61, -62, -60, -57, -55, -58, -57, -61, -59, -59, -59, -59, -60, -60, -60, -59, -59, -59, -60, -60, -59, -58, -56, -55, -55, -57, -57, -56, -58, -57, -57, -59, -58, -57, -58, -66, -68, -68, -67, -61, -58, -58, -58, -58, -58, -59, -59, -59, -59, -56, -56, -57, -60, -58, -57, -57, -58, -66, -66, -68, -68, -66, -61, -59, -58, -59, -59, -59, -59, -60, -60, -60, -60, -60, -60, -58, -56, -56, -57, -56, -57, -56, -58, -58, -56, -57, -59, -58, -59, -59, -68, -67, -66], [-64, -59, -57, -57, -57, -57, -58, -59, -58, -58, -60, -57, -57, -58, -57, -58, -58, -69, -58, -83, -67, -64, -75, -72, -57, -55, -58, -59, -60, -59, -91, -67, -68, -67, -60, -58, -57, -59, -58, -59, -59, -60, -59, -58, -59, -59, -58, -56, -56, -60, -59, -59, -59, -60, -60, -59, -61, -60, -60, -59, -60, -60, -60, -67, -68, -69, -68, -70, -59, -57, -56, -56, -57, -55, -55, -58, -56, -57, -57, -57, -57, -73, -57, -59, -57, -57, -57, -58, -58, -59, -59, -59, -58, -66, -67, -67, -68], [-82, -65, -66, -61, -59, -59, -61, -59, -58, -58, -60, -58, -59, -59, -60, -59, -59, -64, -62, -61, -62, -62, -63, -63, -63, -63, -62, -60, -56, -57, -57, -59, -56, -57, -57, -56, -57, -57, -59, -58, -57, -57, -56, -62, -60, -60, -60, -60, -61, -61, -61, -61, -60, -60, -61, -61, -61, -72, -58, -58, -58, -57, -57, -57, -58, -58, -59, -57, -57, -58, -62, -60, -60, -60, -61, -61, -61, -61, -61, -61, -61, -60, -61, -62, -61, -61, -62, -61, -61, -62, -61, -74, -72, -69, -66, -61, -58, -59, -58, -59, -59, -57, -57, -58, -59, -58, -58, -59, -59, -59, -59, -59, -60, -57, -59, -60, -64, -62, -62, -62, -62, -62, -63, -63, -72, -74], [-72, -72, -68, -66, -66, -67, -66, -65, -65, -66, -68, -66, -66, -67, -67, -66, -67, -67, -67, -67, -67, -67, -73, -72, -72, -71, -72, -72, -72, -72, -91, -66, -63, -62, -62, -63, -61, -62, -61, -62, -62, -62, -61, -62, -63, -63, -63, -64, -64, -61, -62, -61, -62, -61, -62, -63, -63, -62, -69, -67, -67, -67, -67, -67, -67, -68, -67, -67, -68, -68, -86, -70, -65, -62, -62, -62, -64, -63, -63, -63, -64, -63, -62, -62, -64, -63, -64, -63, -65, -63, -63, -62, -63, -64, -64, -64, -69, -65, -61, -62, -61, -62, -63, -62, -62, -63, -62, -63, -62, -62, -62, -63, -63, -63, -63, -64, -62, -63, -63, -63, -63, -62, -63, -64, -70, -68, -69, -68, -68, -68, -69, -68, -69, -87, -85, -90, -90], [-66, -64, -64, -64, -65, -65, -66, -65, -65, -64, -65, -65, -66, -65, -65, -66, -66, -65, -65, -65, -66, -66, -65, -67, -66, -65, -66, -64, -64, -64, -65, -64, -65, -65, -66, -64, -68, -66, -65, -71, -71, -71, -70, -71, -71, -70, -67, -65, -64, -65, -66, -72, -65, -65, -65, -66, -63, -64, -65, -64, -64, -67, -65, -66, -65, -65, -66, -66, -75, -71, -69, -69, -69, -69, -69, -70, -69, -66, -63, -63, -66, -64, -64, -64, -65, -63, -65, -64, -64, -65, -68, -66, -65, -66, -67, -67, -66, -67, -73, -74, -86, -69, -68, -68, -68, -68, -69, -69, -69, -68, -72, -69, -70, -70, -70, -71, -70], [-75, -79, -74, -75, -75, -75, -66, -65, -65, -65, -65, -65, -66, -65, -66, -65, -65, -64, -66, -65, -65, -63, -63, -62, -63, -64, -63, -67, -64, -66, -65, -65, -66, -64, -66, -66, -65, -71, -72, -74, -69, -66, -67, -68, -67, -67, -66, -67, -66, -65, -65, -64, -65, -65, -65, -69, -66, -66, -66, -66, -66, -67, -67, -67, -66, -77, -73, -74, -75, -72, -74, -67, -65, -65, -65, -66, -65, -65, -66, -66, -65, -63, -63, -63, -65, -64, -66, -73, -72, -74, -74, -74, -74, -75, -73, -73, -76, -92, -75, -75, -74, -68, -67, -67, -67, -67, -67, -65, -64, -63, -64, -63, -67, -65, -65, -66, -79], [-69, -71, -88, -70, -70, -69, -69, -70, -70, -69, -69, -66, -65, -66, -67, -68, -67, -68, -70, -69, -65, -71, -70, -70, -70, -66, -66, -66, -68, -67, -68, -68, -67, -64, -65, -66, -65, -65, -65, -69, -67, -67, -67, -68, -67, -67, -68, -68, -70, -70, -68, -69, -68, -68, -69, -69, -74, -74, -67, -65, -66, -67, -67, -67, -65, -63, -63, -64, -63, -68, -65, -67, -66, -66, -67, -66, -67], [-73, -70, -70, -69, -71, -70, -70, -69, -67, -68, -67, -67, -69, -69, -69, -66, -67, -67, -68, -66, -67, -67, -68, -68, -69, -68, -70, -67, -68, -67, -68, -69, -68, -67, -69, -70, -70, -70, -73, -70, -70, -70, -69, -67, -68, -68, -69, -68, -67, -67, -68, -67, -68, -68, -68, -74, -71, -71, -71, -77, -71, -68, -68, -68, -68, -69, -67, -67, -67, -67, -67, -68, -68, -68, -68, -68, -68, -69, -67, -68, -68, -70, -67, -68, -68, -69], [-71, -68, -69, -68, -69, -68, -69, -69, -70, -69, -70, -70, -70, -70, -67, -63, -66, -65, -65, -69, -66, -71, -71, -72, -70, -71, -73, -73, -72, -71, -71, -66, -67, -67, -68, -68, -68, -69, -69, -69, -68, -69, -69, -69, -69, -68, -69, -68, -68, -67, -66, -66, -66, -67, -67, -66, -70, -68, -79, -70, -74, -69, -70, -68, -65, -66, -69, -67, -68, -67, -67], [-78, -76, -69, -66, -65, -67, -66, -67, -66, -63, -69, -66, -67, -67, -68, -68, -66, -64, -64, -65, -75, -70, -66, -67, -68, -66, -67, -67, -68, -67, -64, -63]]\n",
      "채널 리스트 :  [ 9  9  9 ... 13 13 13]\n",
      "\n",
      "Rssi 리스트 :  [-72 -72 -70 ... -69 -65 -61]\n",
      "\n",
      "[[-67, -68, -66, -66, -66, -65, -62, -61, -61, -59, -66, -65, -65, -65, -62, -60, -60, -60, -59, -61, -62, -67, -67, -66, -67, -66, -65, -64, -61, -61, -61, -62, -62, -62, -61, -62, -62, -61, -61, -61, -62, -70, -72, -69, -69, -66, -72, -68, -67, -67, -66, -65, -65, -66, -64, -63, -61, -63, -70, -71], [-68, -67, -68, -66, -63, -58, -60, -59, -59, -59, -61, -60, -60, -59, -61, -60, -65, -63, -63, -63, -63, -63, -63, -75, -74, -63, -63, -63, -63, -62, -64, -73, -69, -69, -69, -68, -62, -61, -58, -65, -63, -63, -63, -63, -63, -75], [-65, -63, -65, -64, -64, -65, -67, -65, -64, -65, -65, -66, -65, -65, -66, -65, -66, -65, -66, -66, -66, -67, -66, -66, -64, -78, -75, -65, -63, -63, -63, -62, -63, -63, -63, -64, -63, -63, -64, -63, -66, -63, -63, -62, -64, -63, -64, -63, -63, -63, -64, -64, -64, -66, -64, -64, -66, -65, -64, -63, -64, -64, -69, -82, -82, -72, -75, -65, -63, -64, -64, -64, -65, -65, -64, -65, -66, -64, -63, -64, -64, -64, -65, -65, -65, -64, -67, -68, -68, -67], [-74, -71, -63, -63, -64, -65, -64, -64, -61, -59, -59, -59, -59, -58, -58, -59, -60, -58, -59, -59, -60, -59, -60, -68, -62, -62, -64, -62, -73, -69, -69, -94, -70, -72, -72, -67, -64, -65, -65, -65, -65, -66, -66, -66, -63, -59, -61, -61, -60, -60, -60, -61, -61, -60, -60, -60, -61, -61, -62, -62, -78, -69, -72, -72, -70, -65, -65, -65, -65, -65, -66, -66, -62, -58, -59, -59, -59, -60, -60, -60, -61, -62, -60, -59, -60, -72, -67, -65, -65, -65, -66, -66, -66, -67, -67, -66, -66, -67, -67, -67, -67, -67, -67, -62, -60, -60, -60, -60, -61, -61, -61, -61, -60, -62, -61, -61, -61, -67, -67, -74, -72, -68, -65, -65, -65, -66, -66, -65, -66, -67, -66, -66, -66, -67, -67, -67, -68, -66, -63, -60, -60, -61, -61, -62, -61, -62, -62, -60, -62, -61, -62, -60, -61, -58, -58, -60, -73, -72, -74, -74, -67, -64, -64, -64, -65, -64, -65, -65, -66, -64, -65, -65, -65, -65, -65, -62, -60, -59, -60, -60, -60, -60, -60, -64, -61], [-72, -70, -70, -72, -62, -59, -59, -59, -60, -59, -60, -59, -60, -58, -56, -59, -59, -60, -60, -60, -60, -61, -59, -59, -60, -59, -61, -60, -86, -87, -73, -73, -75, -73, -73, -63, -60, -61, -60, -60, -61, -61, -62, -62, -61, -60, -58, -58, -66, -62, -59, -59, -60, -60, -61, -61, -62, -61, -60, -60, -61, -70, -69, -70, -69, -69, -68, -62, -61, -88, -71, -72, -73, -73, -62, -59, -59, -59, -60, -60, -60, -60, -58, -59, -56, -59, -58, -58, -61, -61, -61, -61, -60, -61, -60, -60, -60, -71, -68, -68, -58, -59, -59, -62, -60, -60, -60, -61, -68, -67, -70, -71, -70, -70, -70, -71], [-70, -68, -69, -70, -68, -69, -62, -61, -61, -72, -69, -71, -70, -68, -64, -62, -61, -61, -61, -61, -61, -60, -65, -64, -65, -63, -65, -63, -65, -64, -65, -65, -63, -64, -65, -64, -65, -64, -65, -65, -64, -64, -69, -64, -60, -60, -61, -61, -61, -60, -59, -59, -58, -60, -60, -63, -63, -62, -62, -62, -64, -63, -63, -62, -63, -61, -64, -64, -64, -63, -64, -63, -62, -62, -63, -64, -70, -70, -70, -67], [-71, -65, -66, -65, -66, -64, -64, -65, -65, -66, -64, -62, -62, -62, -62, -62, -62, -63, -63, -62, -62, -62, -63, -62, -64, -63, -63, -62, -63, -65, -63, -64, -62, -62, -62, -62, -62, -64, -70, -67, -67, -69, -63, -63, -62, -63, -62, -63, -64, -63, -61, -60, -60, -60, -59, -61, -61, -61, -60, -61, -60, -61, -60, -61, -61, -61, -61, -61, -60, -63, -61, -60, -61, -61, -61, -62, -62, -71, -73, -67, -66, -65, -66, -65, -66, -67, -67, -65, -67, -65, -66, -66, -67, -65, -64, -65, -63, -64, -63, -65, -65, -64, -64, -65, -65, -65, -63, -64, -64, -63, -64, -66, -64, -73, -68], [-63, -63, -63, -63, -87, -88, -77, -72, -71, -73, -64, -63, -64, -64, -64, -63, -74, -72, -74, -73, -74, -74, -73, -64, -63, -62, -62, -63, -63, -63, -63, -63, -62, -63, -63, -63, -63, -63, -59, -60, -60, -59, -59, -61, -60, -58, -57, -58, -58, -94, -71, -67, -68, -70, -69, -68, -60, -58, -58, -58, -59, -59, -59, -60, -58, -59, -59, -57, -57, -55, -56, -57, -57, -56, -57, -57, -59, -56, -57, -57, -83, -70, -71, -72, -61, -58, -60, -59, -60, -60, -60, -61, -59, -59, -59, -60, -60, -59, -60, -57, -56, -57, -56, -57, -57, -57, -57, -59, -56, -56], [-72, -72, -70, -72, -63, -61, -61, -61, -62, -61, -61, -65, -62, -61, -58, -59, -59, -58, -58, -59, -64, -61, -61, -62, -62, -63, -71, -63, -60, -62, -61, -61, -62, -62, -63, -81, -60, -58, -63, -62, -62, -61, -62, -63, -62, -63, -72, -62, -72, -71, -67, -68, -86, -65, -58, -56, -57, -56, -57, -58, -57, -53, -54, -54, -54, -57, -55, -56, -56, -56, -55, -55, -60, -56, -57, -56, -58, -57, -58, -58, -64, -65, -72, -58, -57, -56, -56, -57, -56, -56, -56, -57, -57, -56, -54, -55, -54, -54, -59, -56, -56, -56, -57, -57, -82, -66, -87, -66, -65, -65, -59, -77, -58, -59, -57, -58, -59, -58, -58, -58, -56, -55, -76, -66, -65, -67, -59, -58, -58, -58, -58, -59, -59, -59, -57, -56, -57, -57, -60, -59, -67, -67, -66, -62, -65, -66, -64, -66, -58, -56, -56, -56, -56, -57, -56, -57, -55, -55, -59, -55, -55, -56, -55, -56, -56, -56, -57, -64, -64, -64, -64], [-68, -69, -68, -68, -68, -69, -70, -65, -59, -55, -57, -56, -56, -56, -55, -60, -58, -61, -58, -59, -59, -58, -57, -59, -59, -59, -59, -58, -60, -60, -59, -60, -60, -58, -59, -59, -59, -58, -56, -58, -56, -60, -60, -61, -66, -61, -60, -60, -60, -61, -60, -61, -61, -61, -61, -61, -71, -65, -65, -58, -58, -59, -58, -58, -58, -58, -57, -58, -56, -56, -56, -56, -61, -60, -59, -60, -60, -60, -60, -60, -60, -61, -61, -60, -61, -60, -61], [-61, -60, -60, -60, -61, -60, -60, -59, -60, -60, -60, -61, -61, -61, -60, -61, -61, -60, -62, -62, -61, -65, -62, -62, -63, -62, -62, -69, -77, -61, -58, -59, -59, -59, -59, -58, -58, -58, -57, -58, -58, -58, -58, -57, -59, -58, -57, -61, -58, -59, -59, -59, -62, -60, -62, -60, -60, -62, -61, -61, -60, -61, -59, -61, -60, -60, -61, -61, -61, -60, -60, -61, -60, -60, -64, -61, -62, -62, -63, -62, -62, -61, -57, -58, -58, -59, -58, -58, -57, -57, -58, -58, -56, -58, -58, -58, -58, -58, -58, -57, -57, -58, -58, -58, -61, -58, -58, -58, -59, -60, -69, -67], [-71, -69, -70, -70, -61, -61, -61, -61, -61, -62, -62, -62, -62, -63, -61, -62, -62, -62, -62, -63, -61, -58, -58, -58, -59, -59, -63, -60, -61, -75, -72, -72, -87, -65, -64, -65, -65, -65, -65, -65, -66, -65, -66, -65, -64, -65, -64, -64, -65, -64, -60, -61, -60, -61, -62, -66, -63, -64], [-67, -68, -68, -83, -63, -59, -59, -61, -59, -61, -64, -60, -58, -59, -83, -68, -69, -78, -59, -60, -60, -60, -61, -60, -61, -61, -60, -60, -60, -59, -59, -59, -59, -61, -59, -68, -70, -70, -62, -60, -61, -62, -61, -61, -63, -62, -60, -59, -61, -71, -68, -70, -70, -70, -70, -62, -60, -60, -61, -61, -62, -62, -60, -60, -66, -67, -67, -69, -65, -61]]\n",
      "채널 리스트 :  [8 8 8 ... 4 4 4]\n",
      "\n",
      "Rssi 리스트 :  [-72 -70 -71 ... -55 -55 -55]\n",
      "\n",
      "[[-57, -49, -47, -48, -49, -47, -47, -49, -49, -48, -48, -48, -49, -47, -50, -59, -60, -59, -59, -58, -57, -57, -51, -49, -48, -51, -49, -50, -50, -50, -55, -57, -59, -60, -58, -57, -58, -57, -55, -60, -61, -59, -59, -59, -51, -51, -51, -51, -50, -51, -51, -52, -64], [-60, -59, -58, -58, -59, -53, -46, -45, -50, -52, -46, -50, -50, -46, -46, -47, -48, -52, -47, -53, -53, -52, -52, -53, -53, -48, -53, -60, -60, -57, -60, -60, -60, -50, -47, -46, -47, -48, -49, -53, -52, -53, -48, -48, -53, -55, -49, -49, -48, -54, -48, -50, -50, -49, -53, -53, -63, -72, -69, -69, -63, -64, -64, -46, -46, -46, -48, -52, -50, -48, -52, -49, -48, -49, -54, -54, -54, -49, -49, -59], [-49, -52, -47, -53, -49, -52, -49, -49, -48, -48, -49, -49, -49, -48, -46, -46, -46, -46, -46, -48, -52, -47, -46, -55, -53, -48, -50, -49, -55, -50, -50, -55, -55, -81, -60, -53, -54, -50, -69, -48, -46, -50, -46, -52, -47, -52, -48, -47, -47, -47, -52, -47, -52, -52, -49, -50, -44, -44, -44, -46, -46, -46, -45, -54, -52, -52, -47, -53, -48, -53, -53, -54, -48, -53, -48, -64, -72, -70, -53, -55, -50, -51, -51, -56, -51, -51, -52, -51, -56, -56, -56, -58, -50, -54, -55, -54, -54, -54, -53, -56, -54, -59, -51, -52, -52, -53, -53, -65, -49, -47, -52, -52, -52, -53, -52, -48, -49, -47, -48, -48, -49, -54, -49, -53, -47, -46, -46, -51, -47, -53, -56, -49, -50, -55, -55, -55, -55, -55, -50, -79, -79, -81, -80, -82, -80], [-55, -56, -56, -48, -49, -49, -50, -49, -49, -51, -50, -51, -50, -54, -54, -54, -54, -49, -53, -53, -48, -58, -51, -52, -53, -53, -62, -59, -57, -56, -54, -50, -51, -50, -55, -51, -51, -56, -56, -49, -53, -55, -54, -49, -58, -52, -57, -57, -57, -67, -65, -66, -57, -61, -56, -55, -51, -48, -53, -54, -49, -50, -49, -54, -49, -48, -48, -54, -54, -54, -53, -53, -53, -47, -52, -52, -48, -54, -52, -56, -57, -61, -59, -55, -66, -73, -67, -81, -66, -63, -63, -63, -54, -52, -52, -57, -57, -52, -57, -59, -56, -50, -56, -55, -55, -55], [-59, -61, -62, -61, -57, -49, -53, -49, -54, -48, -49, -49, -50, -54, -48, -52, -54, -49, -57, -55, -55, -55, -55, -55, -56, -55, -56, -55, -56, -56, -56, -55, -56, -56, -65, -72, -66, -78, -64, -66, -59, -56, -57, -57, -57, -57, -57, -57, -58, -57, -57, -57, -57, -57, -66, -71, -59, -59, -52, -51, -51, -50, -55, -55, -56, -52, -57, -55, -53, -55, -60, -57, -57, -58, -57, -58, -58, -58, -57, -57, -58, -58, -58, -58, -65, -70, -56, -52, -53, -54, -53, -58, -56, -55, -55, -56, -56, -65, -65, -65, -65, -65, -66, -67, -67, -65, -67, -67, -81, -83, -91, -62, -62, -57, -52, -50, -52, -57, -52, -58, -54, -56, -55, -55, -56, -55, -55, -56, -60, -57, -57, -56, -56, -57, -58, -57, -58, -57, -66], [-65, -63, -60, -57, -54, -50, -50, -56, -56, -56, -54, -54, -54, -55, -55, -56, -54, -55, -62, -60, -60, -59, -60, -59, -60, -59, -67, -69, -68, -65, -58, -52, -52, -56, -56, -57, -54, -56, -55, -56, -69, -57, -55, -56, -61, -60, -60, -61, -61, -61, -61, -60, -62, -59, -61, -61, -61, -60, -95, -90, -63, -62, -62, -64, -53, -55, -50, -57, -55, -55, -55, -55, -57, -54, -55, -55, -55, -55, -54, -56, -57, -57, -60, -58, -58, -58, -59, -59, -59, -59, -59, -59, -59, -60, -59, -60, -66, -69, -69], [-66, -64, -60, -59, -59, -59, -55, -58, -60, -59, -61, -59, -61, -59, -60, -61, -58, -60, -60, -59, -60, -64, -62, -63, -62, -63, -63, -62, -62, -73, -72, -63, -59, -61, -61, -62, -60, -61, -60, -60, -59, -59, -63, -61, -61, -60, -60, -60, -60, -61, -61, -65, -63, -64, -63, -64, -65, -65, -65, -65, -75, -76, -83, -66, -62, -60, -60, -60, -61, -59, -60, -63, -61, -60, -62, -61, -62, -62, -64, -61, -61, -61, -61, -61, -62, -62, -62, -61, -61, -61, -62, -62, -67, -65, -65, -65, -65, -65, -66, -65, -66, -72, -72], [-72, -70, -71, -71, -69, -70, -70, -64, -62, -62, -62, -62, -62, -62, -63, -63, -62, -62, -61, -59, -59, -61, -60, -60, -60, -62, -61, -63, -61, -60, -60, -60, -60, -60, -60, -60, -59, -60, -61, -69, -58, -56, -57, -70, -70, -73, -71, -72, -72, -66, -64, -65, -64, -65, -65, -65, -64, -64, -64, -62, -62, -62, -64, -64, -63, -63, -63, -64, -63, -62, -63, -69, -69, -69, -91, -74, -74, -75, -70, -68, -68, -68, -68, -67, -69, -68, -68, -67, -69, -68, -69, -70, -69, -68, -67, -66, -66, -66, -66, -66, -66, -67, -67, -68, -68, -67, -78, -71], [-61, -72, -72, -71, -71, -71, -63, -61, -63, -62, -62, -61, -60, -59, -59, -60, -60, -60, -59, -59, -58, -60, -88, -65, -65, -70, -71, -73, -71, -72, -71, -70, -64, -61, -62, -62, -62, -62, -62, -62, -60, -58, -58, -59, -57, -57, -59, -58, -58, -59, -59, -66, -63, -92, -84, -73, -69, -70, -78, -64, -62, -62, -60, -60, -59, -58, -60, -59, -59, -59, -60, -61, -58, -60, -59, -58, -58, -76, -75, -77, -76, -76, -68, -66, -66, -67, -67, -67, -61, -58, -59, -59, -60, -59, -59, -60, -58, -58, -59, -64, -64, -72, -66, -64, -66, -64, -65, -64, -64, -65, -64, -63, -61, -62, -62, -62, -62, -62, -63, -63, -62, -62, -60, -67, -74, -68, -68, -85], [-82, -80, -82, -69, -68, -59, -58, -58, -58, -58, -57, -58, -59, -58, -57, -54, -54, -53, -53, -54, -55, -57, -54, -54, -55, -55, -55, -55, -55, -55, -56, -56, -56, -64, -64, -70, -70, -68, -60, -59, -59, -57, -58, -59, -58, -54, -54, -55, -55, -55, -56, -56, -56, -56, -55, -56, -57, -56, -53, -56, -56, -57, -57, -56, -56, -56, -57, -58, -57, -57, -57, -56, -57, -56, -57, -56, -58, -56, -57, -58, -58, -58, -58, -57, -57, -58, -58, -66, -60, -58, -58, -56, -55, -55, -56, -55, -56, -57, -57, -56, -57, -58, -56, -57, -57, -56, -57, -58, -57, -57, -57, -58, -67, -64], [-59, -57, -61, -61, -60, -61, -61, -61, -56, -57, -58, -58, -59, -57, -57, -57, -58, -58, -59, -57, -58, -59, -58, -61, -59, -67, -58, -67, -67, -66, -70, -62, -61, -60, -61, -61, -61, -61, -61, -62, -62, -61, -61, -61, -62, -62, -61, -57, -59, -58, -58, -58, -58, -59, -58, -61, -60, -59, -59, -62, -55, -59, -60, -60, -54, -69, -68, -81, -59, -57, -57, -58, -58, -58, -58, -57, -55, -54, -56, -55, -56, -56, -55, -55, -56, -57, -57, -56, -55, -56, -59, -56, -64, -66, -66, -67], [-87, -65, -65, -65, -59, -57, -58, -58, -58, -57, -57, -57, -58, -58, -58, -59, -57, -58, -58, -58, -60, -57, -54, -53, -55, -55, -59, -69, -66, -65, -57, -58, -55, -58, -58, -58, -58, -59, -58, -59, -59, -58, -59, -60, -57, -55, -55, -56, -56, -55, -57, -56, -60, -53, -54, -57, -60, -57, -58, -55, -52, -66, -63, -66, -58, -55, -52, -57, -56, -57, -56, -57, -56, -57, -58, -58, -57, -54, -57, -57, -52, -54, -55, -54, -54, -55, -55, -57, -56, -56], [-65, -66, -64, -63, -65, -66, -65, -66, -58, -54, -49, -52, -53, -53, -72, -64, -66, -58, -53, -56, -52, -56, -54, -56, -55, -54, -50, -49, -54, -53, -53, -53, -67, -69, -64, -60, -55, -55, -54]]\n"
     ]
    }
   ],
   "source": [
    "for Rx in receiver:\n",
    "    \n",
    "    print('')\n",
    "    print('수신기 : ', Rx)\n",
    "    print('')\n",
    "    for path_list in path_lists:\n",
    "        loc = path_list\n",
    "        path = Rx + '-'+path_list\n",
    "        data_list = ['(channel)','(rssi)']\n",
    "            \n",
    "        for data in data_list:\n",
    "                \n",
    "            filename = path+data+'.txt'\n",
    "                \n",
    "            if data == '(channel)':\n",
    "                    \n",
    "                f = open(filename, 'r')\n",
    "                line = f.readline()[1:-1]\n",
    "                channel = line.split(',')\n",
    "                channel = np.array(channel).astype(int)\n",
    "                    \n",
    "                print('채널 리스트 : ',channel)\n",
    "                print('')\n",
    "                    \n",
    "            else:\n",
    "                    \n",
    "                f = open(filename, 'r')\n",
    "                line = f.readline()[1:-1]\n",
    "                rssi = line.split(',')\n",
    "                rssi = np.array(rssi).astype(int)\n",
    "                    \n",
    "                print('Rssi 리스트 : ',rssi)\n",
    "                print('')\n",
    "                \n",
    "        sorting = [[],[],[],[],[],[],[],[],[],[],[],[],[]]\n",
    "            \n",
    "        index = 0\n",
    "        for ch in channel:\n",
    "                \n",
    "            sorting[ch - 1].append(rssi[index])\n",
    "            index += 1\n",
    "                \n",
    "        print(sorting)\n",
    "            \n",
    "        if Rx == '1':\n",
    "            df_1_test[loc] = sorting\n",
    "                \n",
    "        elif Rx == '2':\n",
    "            df_2_test[loc] = sorting\n",
    "                \n",
    "        elif Rx == '3':\n",
    "            df_3_test[loc] = sorting"
   ]
  },
  {
   "cell_type": "code",
   "execution_count": 81,
   "metadata": {},
   "outputs": [
    {
     "data": {
      "text/html": [
       "<div>\n",
       "<style scoped>\n",
       "    .dataframe tbody tr th:only-of-type {\n",
       "        vertical-align: middle;\n",
       "    }\n",
       "\n",
       "    .dataframe tbody tr th {\n",
       "        vertical-align: top;\n",
       "    }\n",
       "\n",
       "    .dataframe thead th {\n",
       "        text-align: right;\n",
       "    }\n",
       "</style>\n",
       "<table border=\"1\" class=\"dataframe\">\n",
       "  <thead>\n",
       "    <tr style=\"text-align: right;\">\n",
       "      <th></th>\n",
       "      <th>1-1.5</th>\n",
       "      <th>2-2.5</th>\n",
       "      <th>3-3.5</th>\n",
       "      <th>4-2.5</th>\n",
       "      <th>5-3.5</th>\n",
       "    </tr>\n",
       "  </thead>\n",
       "  <tbody>\n",
       "    <tr>\n",
       "      <td>1</td>\n",
       "      <td>[-73, -76, -75, -58, -58, -51, -54, -47, -55, ...</td>\n",
       "      <td>[-73, -69, -74, -74, -73, -72, -73, -71, -71, ...</td>\n",
       "      <td>[-65, -64, -65, -63, -60, -62, -62, -61, -61, ...</td>\n",
       "      <td>[-71, -68, -67, -67, -69, -70, -74, -75, -70, ...</td>\n",
       "      <td>[-72, -72, -72, -73, -71, -73, -68, -75, -71, ...</td>\n",
       "    </tr>\n",
       "    <tr>\n",
       "      <td>2</td>\n",
       "      <td>[-60, -60, -60, -59, -53, -44, -45, -44, -52, ...</td>\n",
       "      <td>[-77, -77, -77, -70, -67, -68, -69, -68, -69, ...</td>\n",
       "      <td>[-65, -64, -64, -59, -57, -60, -58, -78, -58, ...</td>\n",
       "      <td>[-74, -73, -73, -71, -71, -65, -63, -63, -64, ...</td>\n",
       "      <td>[-77, -73, -70, -70, -70, -70, -70, -71, -70, ...</td>\n",
       "    </tr>\n",
       "    <tr>\n",
       "      <td>3</td>\n",
       "      <td>[-49, -45, -46, -53, -54, -48, -45, -52, -44, ...</td>\n",
       "      <td>[-78, -68, -66, -67, -66, -67, -68, -65, -65, ...</td>\n",
       "      <td>[-74, -64, -61, -62, -62, -62, -63, -63, -63, ...</td>\n",
       "      <td>[-83, -67, -66, -66, -66, -66, -67, -64, -65, ...</td>\n",
       "      <td>[-73, -70, -71, -71, -67, -66, -66, -67, -66, ...</td>\n",
       "    </tr>\n",
       "    <tr>\n",
       "      <td>4</td>\n",
       "      <td>[-48, -53, -47, -48, -54, -54, -48, -56, -56, ...</td>\n",
       "      <td>[-77, -77, -78, -77, -78, -76, -79, -77, -79, ...</td>\n",
       "      <td>[-69, -62, -62, -62, -62, -62, -61, -63, -62, ...</td>\n",
       "      <td>[-73, -71, -72, -72, -72, -72, -73, -73, -72, ...</td>\n",
       "      <td>[-77, -71, -68, -68, -68, -68, -69, -69, -67, ...</td>\n",
       "    </tr>\n",
       "    <tr>\n",
       "      <td>5</td>\n",
       "      <td>[-56, -63, -64, -64, -63, -54, -49, -47, -54, ...</td>\n",
       "      <td>[-78, -80, -80, -74, -70, -72, -73, -72, -73, ...</td>\n",
       "      <td>[-73, -65, -63, -65, -66, -64, -64, -65, -65, ...</td>\n",
       "      <td>[-92, -81, -75, -73, -74, -74, -74, -72, -74, ...</td>\n",
       "      <td>[-66, -64, -64, -64, -64, -66, -65, -66, -66, ...</td>\n",
       "    </tr>\n",
       "    <tr>\n",
       "      <td>6</td>\n",
       "      <td>[-65, -58, -59, -57, -49, -58, -58, -50, -58, ...</td>\n",
       "      <td>[-79, -78, -75, -75, -74, -74, -73, -73, -75, ...</td>\n",
       "      <td>[-72, -72, -72, -68, -67, -65, -65, -65, -65, ...</td>\n",
       "      <td>[-83, -73, -71, -71, -70, -67, -70, -69, -69, ...</td>\n",
       "      <td>[-76, -77, -72, -71, -69, -71, -70, -73, -71, ...</td>\n",
       "    </tr>\n",
       "    <tr>\n",
       "      <td>7</td>\n",
       "      <td>[-58, -50, -56, -56, -48, -49, -57, -58, -57, ...</td>\n",
       "      <td>[-82, -80, -81, -81, -81, -76, -76, -83, -83, ...</td>\n",
       "      <td>[-72, -69, -70, -68, -71, -71, -73, -71, -72, ...</td>\n",
       "      <td>[-71, -76, -77, -76, -75, -76, -76, -77, -72, ...</td>\n",
       "      <td>[-81, -75, -73, -72, -72, -71, -70, -69, -69, ...</td>\n",
       "    </tr>\n",
       "    <tr>\n",
       "      <td>8</td>\n",
       "      <td>[-50, -56, -55, -48, -56, -47, -56, -56, -49, ...</td>\n",
       "      <td>[-85, -79, -78, -78, -79, -78, -79, -75, -73, ...</td>\n",
       "      <td>[-75, -72, -73, -72, -73, -73, -75, -73, -74, ...</td>\n",
       "      <td>[-74, -71, -72, -72, -72, -72, -72, -72, -71, ...</td>\n",
       "      <td>[-82, -79, -72, -70, -70, -70, -71, -71, -71, ...</td>\n",
       "    </tr>\n",
       "    <tr>\n",
       "      <td>9</td>\n",
       "      <td>[-54, -63, -64, -57, -47, -47, -54, -46, -55, ...</td>\n",
       "      <td>[-94, -74, -72, -73, -73, -72, -73, -73, -74, ...</td>\n",
       "      <td>[-90, -81, -81, -81, -77, -76, -77, -77, -76, ...</td>\n",
       "      <td>[-93, -73, -71, -72, -72, -74, -72, -73, -73, ...</td>\n",
       "      <td>[-75, -68, -65, -66, -66, -66, -77, -66, -66, ...</td>\n",
       "    </tr>\n",
       "    <tr>\n",
       "      <td>10</td>\n",
       "      <td>[-46, -52, -53, -44, -49, -51, -50, -42, -52, ...</td>\n",
       "      <td>[-79, -72, -69, -70, -66, -68, -67, -68, -68, ...</td>\n",
       "      <td>[-77, -75, -74, -75, -75, -75, -74, -72, -70, ...</td>\n",
       "      <td>[-78, -76, -75, -73, -71, -69, -70, -69, -69, ...</td>\n",
       "      <td>[-70, -68, -67, -70, -69, -68, -69, -69, -68, ...</td>\n",
       "    </tr>\n",
       "    <tr>\n",
       "      <td>11</td>\n",
       "      <td>[-77, -54, -47, -54, -45, -53, -45, -51, -53, ...</td>\n",
       "      <td>[-73, -69, -72, -71, -70, -72, -69, -68, -68, ...</td>\n",
       "      <td>[-77, -77, -77, -77, -77, -78, -77, -75, -76, ...</td>\n",
       "      <td>[-74, -74, -75, -75, -72, -72, -71, -72, -74, ...</td>\n",
       "      <td>[-76, -73, -72, -72, -72, -75, -72, -72, -72, ...</td>\n",
       "    </tr>\n",
       "    <tr>\n",
       "      <td>12</td>\n",
       "      <td>[-76, -76, -75, -57, -46, -46, -55, -46, -45, ...</td>\n",
       "      <td>[-90, -78, -71, -71, -69, -71, -70, -71, -71, ...</td>\n",
       "      <td>[-77, -76, -72, -71, -71, -70, -72, -71, -72, ...</td>\n",
       "      <td>[-74, -71, -72, -72, -73, -72, -71, -72, -73, ...</td>\n",
       "      <td>[-85, -82, -82, -84, -84, -81, -78, -79, -78, ...</td>\n",
       "    </tr>\n",
       "    <tr>\n",
       "      <td>13</td>\n",
       "      <td>[-85, -85, -85, -64, -52, -61, -52, -84, -53, ...</td>\n",
       "      <td>[-89, -75, -72, -68, -68, -65, -66, -66, -66, ...</td>\n",
       "      <td>[-78, -78, -83, -79, -71, -69, -69, -70, -70, ...</td>\n",
       "      <td>[-77, -74, -70, -78, -70, -70, -71, -73, -71, ...</td>\n",
       "      <td>[-80, -79, -80, -79, -76, -74, -84, -82, -80, ...</td>\n",
       "    </tr>\n",
       "  </tbody>\n",
       "</table>\n",
       "</div>"
      ],
      "text/plain": [
       "                                                1-1.5  \\\n",
       "1   [-73, -76, -75, -58, -58, -51, -54, -47, -55, ...   \n",
       "2   [-60, -60, -60, -59, -53, -44, -45, -44, -52, ...   \n",
       "3   [-49, -45, -46, -53, -54, -48, -45, -52, -44, ...   \n",
       "4   [-48, -53, -47, -48, -54, -54, -48, -56, -56, ...   \n",
       "5   [-56, -63, -64, -64, -63, -54, -49, -47, -54, ...   \n",
       "6   [-65, -58, -59, -57, -49, -58, -58, -50, -58, ...   \n",
       "7   [-58, -50, -56, -56, -48, -49, -57, -58, -57, ...   \n",
       "8   [-50, -56, -55, -48, -56, -47, -56, -56, -49, ...   \n",
       "9   [-54, -63, -64, -57, -47, -47, -54, -46, -55, ...   \n",
       "10  [-46, -52, -53, -44, -49, -51, -50, -42, -52, ...   \n",
       "11  [-77, -54, -47, -54, -45, -53, -45, -51, -53, ...   \n",
       "12  [-76, -76, -75, -57, -46, -46, -55, -46, -45, ...   \n",
       "13  [-85, -85, -85, -64, -52, -61, -52, -84, -53, ...   \n",
       "\n",
       "                                                2-2.5  \\\n",
       "1   [-73, -69, -74, -74, -73, -72, -73, -71, -71, ...   \n",
       "2   [-77, -77, -77, -70, -67, -68, -69, -68, -69, ...   \n",
       "3   [-78, -68, -66, -67, -66, -67, -68, -65, -65, ...   \n",
       "4   [-77, -77, -78, -77, -78, -76, -79, -77, -79, ...   \n",
       "5   [-78, -80, -80, -74, -70, -72, -73, -72, -73, ...   \n",
       "6   [-79, -78, -75, -75, -74, -74, -73, -73, -75, ...   \n",
       "7   [-82, -80, -81, -81, -81, -76, -76, -83, -83, ...   \n",
       "8   [-85, -79, -78, -78, -79, -78, -79, -75, -73, ...   \n",
       "9   [-94, -74, -72, -73, -73, -72, -73, -73, -74, ...   \n",
       "10  [-79, -72, -69, -70, -66, -68, -67, -68, -68, ...   \n",
       "11  [-73, -69, -72, -71, -70, -72, -69, -68, -68, ...   \n",
       "12  [-90, -78, -71, -71, -69, -71, -70, -71, -71, ...   \n",
       "13  [-89, -75, -72, -68, -68, -65, -66, -66, -66, ...   \n",
       "\n",
       "                                                3-3.5  \\\n",
       "1   [-65, -64, -65, -63, -60, -62, -62, -61, -61, ...   \n",
       "2   [-65, -64, -64, -59, -57, -60, -58, -78, -58, ...   \n",
       "3   [-74, -64, -61, -62, -62, -62, -63, -63, -63, ...   \n",
       "4   [-69, -62, -62, -62, -62, -62, -61, -63, -62, ...   \n",
       "5   [-73, -65, -63, -65, -66, -64, -64, -65, -65, ...   \n",
       "6   [-72, -72, -72, -68, -67, -65, -65, -65, -65, ...   \n",
       "7   [-72, -69, -70, -68, -71, -71, -73, -71, -72, ...   \n",
       "8   [-75, -72, -73, -72, -73, -73, -75, -73, -74, ...   \n",
       "9   [-90, -81, -81, -81, -77, -76, -77, -77, -76, ...   \n",
       "10  [-77, -75, -74, -75, -75, -75, -74, -72, -70, ...   \n",
       "11  [-77, -77, -77, -77, -77, -78, -77, -75, -76, ...   \n",
       "12  [-77, -76, -72, -71, -71, -70, -72, -71, -72, ...   \n",
       "13  [-78, -78, -83, -79, -71, -69, -69, -70, -70, ...   \n",
       "\n",
       "                                                4-2.5  \\\n",
       "1   [-71, -68, -67, -67, -69, -70, -74, -75, -70, ...   \n",
       "2   [-74, -73, -73, -71, -71, -65, -63, -63, -64, ...   \n",
       "3   [-83, -67, -66, -66, -66, -66, -67, -64, -65, ...   \n",
       "4   [-73, -71, -72, -72, -72, -72, -73, -73, -72, ...   \n",
       "5   [-92, -81, -75, -73, -74, -74, -74, -72, -74, ...   \n",
       "6   [-83, -73, -71, -71, -70, -67, -70, -69, -69, ...   \n",
       "7   [-71, -76, -77, -76, -75, -76, -76, -77, -72, ...   \n",
       "8   [-74, -71, -72, -72, -72, -72, -72, -72, -71, ...   \n",
       "9   [-93, -73, -71, -72, -72, -74, -72, -73, -73, ...   \n",
       "10  [-78, -76, -75, -73, -71, -69, -70, -69, -69, ...   \n",
       "11  [-74, -74, -75, -75, -72, -72, -71, -72, -74, ...   \n",
       "12  [-74, -71, -72, -72, -73, -72, -71, -72, -73, ...   \n",
       "13  [-77, -74, -70, -78, -70, -70, -71, -73, -71, ...   \n",
       "\n",
       "                                                5-3.5  \n",
       "1   [-72, -72, -72, -73, -71, -73, -68, -75, -71, ...  \n",
       "2   [-77, -73, -70, -70, -70, -70, -70, -71, -70, ...  \n",
       "3   [-73, -70, -71, -71, -67, -66, -66, -67, -66, ...  \n",
       "4   [-77, -71, -68, -68, -68, -68, -69, -69, -67, ...  \n",
       "5   [-66, -64, -64, -64, -64, -66, -65, -66, -66, ...  \n",
       "6   [-76, -77, -72, -71, -69, -71, -70, -73, -71, ...  \n",
       "7   [-81, -75, -73, -72, -72, -71, -70, -69, -69, ...  \n",
       "8   [-82, -79, -72, -70, -70, -70, -71, -71, -71, ...  \n",
       "9   [-75, -68, -65, -66, -66, -66, -77, -66, -66, ...  \n",
       "10  [-70, -68, -67, -70, -69, -68, -69, -69, -68, ...  \n",
       "11  [-76, -73, -72, -72, -72, -75, -72, -72, -72, ...  \n",
       "12  [-85, -82, -82, -84, -84, -81, -78, -79, -78, ...  \n",
       "13  [-80, -79, -80, -79, -76, -74, -84, -82, -80, ...  "
      ]
     },
     "execution_count": 81,
     "metadata": {},
     "output_type": "execute_result"
    }
   ],
   "source": [
    "df_1_test"
   ]
  },
  {
   "cell_type": "code",
   "execution_count": 94,
   "metadata": {},
   "outputs": [
    {
     "name": "stdout",
     "output_type": "stream",
     "text": [
      "수신기 : Rx 3\n",
      "위치 :  1-1.5\n",
      "위치 :  2-2.5\n",
      "위치 :  3-3.5\n",
      "위치 :  4-2.5\n",
      "위치 :  5-3.5\n",
      "수신기 : Rx 1\n",
      "위치 :  1-1.5\n",
      "위치 :  2-2.5\n",
      "위치 :  3-3.5\n",
      "위치 :  4-2.5\n",
      "위치 :  5-3.5\n",
      "수신기 : Rx 2\n",
      "위치 :  1-1.5\n",
      "위치 :  2-2.5\n",
      "위치 :  3-3.5\n",
      "위치 :  4-2.5\n",
      "위치 :  5-3.5\n"
     ]
    }
   ],
   "source": [
    "np.random.seed(100)\n",
    "\n",
    "df_1_aug_test = pd.DataFrame(columns = loc_list, index = ch_list)\n",
    "df_2_aug_test = pd.DataFrame(columns = loc_list, index = ch_list)\n",
    "df_3_aug_test = pd.DataFrame(columns = loc_list, index = ch_list)\n",
    "\n",
    "\n",
    "rx_list = ['3','1','2']\n",
    "\n",
    "for rx in rx_list:\n",
    "    print('수신기 : Rx',rx)\n",
    "    if rx == '3':\n",
    "        for loc in loc_list:\n",
    "            print('위치 : ',loc)\n",
    "            for ch in ch_list:\n",
    "                array = np.array(df_3_test[loc][ch])\n",
    "                mean = round(array.mean(), 2)\n",
    "                std = round(array.std(), 2)\n",
    "                rand_norm = np.round(np.random.normal(mean, std, size=10000),2)\n",
    "\n",
    "#                 print('채널 : ', ch)\n",
    "#                 plt.figure()\n",
    "#                 sns.distplot(df_3[loc][ch])\n",
    "#                 sns.distplot(rand_norm)\n",
    "#                 plt.show()\n",
    "\n",
    "                df_3_aug_test[loc][ch] = rand_norm\n",
    "                \n",
    "    elif rx == '1':\n",
    "        for loc in loc_list:\n",
    "            print('위치 : ',loc)\n",
    "            for ch in ch_list:\n",
    "                array = np.array(df_1_test[loc][ch])\n",
    "                mean = round(array.mean(), 2)\n",
    "                std = round(array.std(), 2)\n",
    "                rand_norm = np.round(np.random.normal(mean, std, size=10000),2)\n",
    "\n",
    "#                 print('채널 : ', ch)\n",
    "#                 plt.figure()\n",
    "#                 sns.distplot(df_1[loc][ch])\n",
    "#                 sns.distplot(rand_norm)\n",
    "#                 plt.show()\n",
    "\n",
    "                df_1_aug_test[loc][ch] = rand_norm\n",
    "            \n",
    "    elif rx == '2':\n",
    "        for loc in loc_list:\n",
    "            print('위치 : ',loc)\n",
    "            for ch in ch_list:\n",
    "                array = np.array(df_2_test[loc][ch])\n",
    "                mean = round(array.mean(), 2)\n",
    "                std = round(array.std(), 2)\n",
    "                rand_norm = np.round(np.random.normal(mean, std, size=10000),2)\n",
    "\n",
    "#                 print('채널 : ', ch)\n",
    "#                 plt.figure()\n",
    "#                 sns.distplot(df_2[loc][ch])\n",
    "#                 sns.distplot(rand_norm)\n",
    "#                 plt.show()\n",
    "\n",
    "                df_2_aug_test[loc][ch] = rand_norm"
   ]
  },
  {
   "cell_type": "code",
   "execution_count": 99,
   "metadata": {},
   "outputs": [
    {
     "name": "stdout",
     "output_type": "stream",
     "text": [
      "위치 :  1-1.5\n",
      "make_input done!\n",
      "위치 :  2-2.5\n",
      "make_input done!\n",
      "위치 :  3-3.5\n",
      "make_input done!\n",
      "위치 :  4-2.5\n",
      "make_input done!\n",
      "위치 :  5-3.5\n",
      "make_input done!\n"
     ]
    }
   ],
   "source": [
    "x_test = []\n",
    "\n",
    "for loc in loc_list:\n",
    "    \n",
    "    tmp = []\n",
    "    \n",
    "    print('위치 : ', loc)\n",
    "    \n",
    "    x_1_test = make_input(df_1_aug_test[loc]) # (1000000, 13)\n",
    "    x_2_test = make_input(df_2_aug_test[loc]) # (1000000, 13)\n",
    "    x_3_test = make_input(df_3_aug_test[loc]) # (1000000, 13)\n",
    "    \n",
    "    print('make_input done!')\n",
    "\n",
    "    for i in range(len(x_1_test)):\n",
    "        \n",
    "        tmp.append([x_1_test[i]])#, x_train_2[i], x_train_3[i]]) # (1000000, 3, 13)\n",
    "       \n",
    "    for i in range(len(x_2_test)):\n",
    "        \n",
    "        tmp[i].append(x_2_test[i])\n",
    "\n",
    "    for i in range(len(x_3_test)):\n",
    "        \n",
    "        tmp[i].append(x_3_test[i])\n",
    "        \n",
    "    x_test.append(tmp)\n",
    "    \n",
    "\n",
    "        \n",
    "# 결국 x_train은 (1000000*20, 3, 13) shape을 갖게 될 것\n",
    "# label 20개( 5 * 4 )"
   ]
  },
  {
   "cell_type": "code",
   "execution_count": 103,
   "metadata": {},
   "outputs": [
    {
     "data": {
      "text/plain": [
       "(5, 10000, 3, 13)"
      ]
     },
     "execution_count": 103,
     "metadata": {},
     "output_type": "execute_result"
    }
   ],
   "source": [
    "np.array(x_test).shape"
   ]
  },
  {
   "cell_type": "code",
   "execution_count": 104,
   "metadata": {},
   "outputs": [],
   "source": [
    "with open(\"x_test.p\", \"wb\") as f:\n",
    "    pickle.dump(x_test, f)"
   ]
  }
 ],
 "metadata": {
  "kernelspec": {
   "display_name": "Python 3",
   "language": "python",
   "name": "python3"
  },
  "language_info": {
   "codemirror_mode": {
    "name": "ipython",
    "version": 3
   },
   "file_extension": ".py",
   "mimetype": "text/x-python",
   "name": "python",
   "nbconvert_exporter": "python",
   "pygments_lexer": "ipython3",
   "version": "3.7.4"
  }
 },
 "nbformat": 4,
 "nbformat_minor": 2
}
